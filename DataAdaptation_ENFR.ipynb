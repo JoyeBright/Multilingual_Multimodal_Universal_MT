{
  "nbformat": 4,
  "nbformat_minor": 0,
  "metadata": {
    "colab": {
      "name": "DataAdaptation_ENFR.ipynb",
      "provenance": [],
      "collapsed_sections": [
        "IdntJNWuyFH_",
        "E7Y2tXeBxzJ0"
      ],
      "mount_file_id": "1j1rlLb6cct3l4yDFMjuPx1rEuYoJQeOP",
      "authorship_tag": "ABX9TyPJ2guyKr93Lt1PUwcPvUTa",
      "include_colab_link": true
    },
    "kernelspec": {
      "name": "python3",
      "display_name": "Python 3"
    },
    "accelerator": "GPU",
    "widgets": {
      "application/vnd.jupyter.widget-state+json": {
        "df90e12835ec4d628a1abd4c10859a61": {
          "model_module": "@jupyter-widgets/controls",
          "model_name": "HBoxModel",
          "state": {
            "_view_name": "HBoxView",
            "_dom_classes": [],
            "_model_name": "HBoxModel",
            "_view_module": "@jupyter-widgets/controls",
            "_model_module_version": "1.5.0",
            "_view_count": null,
            "_view_module_version": "1.5.0",
            "box_style": "",
            "layout": "IPY_MODEL_8fb42d6d78854236be3ac84df3afa9a5",
            "_model_module": "@jupyter-widgets/controls",
            "children": [
              "IPY_MODEL_974416569c99470489b719dd60b215d7",
              "IPY_MODEL_a04340d491a644fcbf2e36665615fe0e"
            ]
          }
        },
        "8fb42d6d78854236be3ac84df3afa9a5": {
          "model_module": "@jupyter-widgets/base",
          "model_name": "LayoutModel",
          "state": {
            "_view_name": "LayoutView",
            "grid_template_rows": null,
            "right": null,
            "justify_content": null,
            "_view_module": "@jupyter-widgets/base",
            "overflow": null,
            "_model_module_version": "1.2.0",
            "_view_count": null,
            "flex_flow": null,
            "width": null,
            "min_width": null,
            "border": null,
            "align_items": null,
            "bottom": null,
            "_model_module": "@jupyter-widgets/base",
            "top": null,
            "grid_column": null,
            "overflow_y": null,
            "overflow_x": null,
            "grid_auto_flow": null,
            "grid_area": null,
            "grid_template_columns": null,
            "flex": null,
            "_model_name": "LayoutModel",
            "justify_items": null,
            "grid_row": null,
            "max_height": null,
            "align_content": null,
            "visibility": null,
            "align_self": null,
            "height": null,
            "min_height": null,
            "padding": null,
            "grid_auto_rows": null,
            "grid_gap": null,
            "max_width": null,
            "order": null,
            "_view_module_version": "1.2.0",
            "grid_template_areas": null,
            "object_position": null,
            "object_fit": null,
            "grid_auto_columns": null,
            "margin": null,
            "display": null,
            "left": null
          }
        },
        "974416569c99470489b719dd60b215d7": {
          "model_module": "@jupyter-widgets/controls",
          "model_name": "FloatProgressModel",
          "state": {
            "_view_name": "ProgressView",
            "style": "IPY_MODEL_451c8ac7b439456d924bcfb3d5e97bd5",
            "_dom_classes": [],
            "description": "Batches: 100%",
            "_model_name": "FloatProgressModel",
            "bar_style": "success",
            "max": 4792,
            "_view_module": "@jupyter-widgets/controls",
            "_model_module_version": "1.5.0",
            "value": 4792,
            "_view_count": null,
            "_view_module_version": "1.5.0",
            "orientation": "horizontal",
            "min": 0,
            "description_tooltip": null,
            "_model_module": "@jupyter-widgets/controls",
            "layout": "IPY_MODEL_3822c3854d9d4438ab93e6ba45283d46"
          }
        },
        "a04340d491a644fcbf2e36665615fe0e": {
          "model_module": "@jupyter-widgets/controls",
          "model_name": "HTMLModel",
          "state": {
            "_view_name": "HTMLView",
            "style": "IPY_MODEL_00ec3b83ff91479aa98713e445185e04",
            "_dom_classes": [],
            "description": "",
            "_model_name": "HTMLModel",
            "placeholder": "​",
            "_view_module": "@jupyter-widgets/controls",
            "_model_module_version": "1.5.0",
            "value": " 4792/4792 [05:31&lt;00:00, 14.45it/s]",
            "_view_count": null,
            "_view_module_version": "1.5.0",
            "description_tooltip": null,
            "_model_module": "@jupyter-widgets/controls",
            "layout": "IPY_MODEL_be7aefecd54c4ec6b2328127881f185d"
          }
        },
        "451c8ac7b439456d924bcfb3d5e97bd5": {
          "model_module": "@jupyter-widgets/controls",
          "model_name": "ProgressStyleModel",
          "state": {
            "_view_name": "StyleView",
            "_model_name": "ProgressStyleModel",
            "description_width": "initial",
            "_view_module": "@jupyter-widgets/base",
            "_model_module_version": "1.5.0",
            "_view_count": null,
            "_view_module_version": "1.2.0",
            "bar_color": null,
            "_model_module": "@jupyter-widgets/controls"
          }
        },
        "3822c3854d9d4438ab93e6ba45283d46": {
          "model_module": "@jupyter-widgets/base",
          "model_name": "LayoutModel",
          "state": {
            "_view_name": "LayoutView",
            "grid_template_rows": null,
            "right": null,
            "justify_content": null,
            "_view_module": "@jupyter-widgets/base",
            "overflow": null,
            "_model_module_version": "1.2.0",
            "_view_count": null,
            "flex_flow": null,
            "width": null,
            "min_width": null,
            "border": null,
            "align_items": null,
            "bottom": null,
            "_model_module": "@jupyter-widgets/base",
            "top": null,
            "grid_column": null,
            "overflow_y": null,
            "overflow_x": null,
            "grid_auto_flow": null,
            "grid_area": null,
            "grid_template_columns": null,
            "flex": null,
            "_model_name": "LayoutModel",
            "justify_items": null,
            "grid_row": null,
            "max_height": null,
            "align_content": null,
            "visibility": null,
            "align_self": null,
            "height": null,
            "min_height": null,
            "padding": null,
            "grid_auto_rows": null,
            "grid_gap": null,
            "max_width": null,
            "order": null,
            "_view_module_version": "1.2.0",
            "grid_template_areas": null,
            "object_position": null,
            "object_fit": null,
            "grid_auto_columns": null,
            "margin": null,
            "display": null,
            "left": null
          }
        },
        "00ec3b83ff91479aa98713e445185e04": {
          "model_module": "@jupyter-widgets/controls",
          "model_name": "DescriptionStyleModel",
          "state": {
            "_view_name": "StyleView",
            "_model_name": "DescriptionStyleModel",
            "description_width": "",
            "_view_module": "@jupyter-widgets/base",
            "_model_module_version": "1.5.0",
            "_view_count": null,
            "_view_module_version": "1.2.0",
            "_model_module": "@jupyter-widgets/controls"
          }
        },
        "be7aefecd54c4ec6b2328127881f185d": {
          "model_module": "@jupyter-widgets/base",
          "model_name": "LayoutModel",
          "state": {
            "_view_name": "LayoutView",
            "grid_template_rows": null,
            "right": null,
            "justify_content": null,
            "_view_module": "@jupyter-widgets/base",
            "overflow": null,
            "_model_module_version": "1.2.0",
            "_view_count": null,
            "flex_flow": null,
            "width": null,
            "min_width": null,
            "border": null,
            "align_items": null,
            "bottom": null,
            "_model_module": "@jupyter-widgets/base",
            "top": null,
            "grid_column": null,
            "overflow_y": null,
            "overflow_x": null,
            "grid_auto_flow": null,
            "grid_area": null,
            "grid_template_columns": null,
            "flex": null,
            "_model_name": "LayoutModel",
            "justify_items": null,
            "grid_row": null,
            "max_height": null,
            "align_content": null,
            "visibility": null,
            "align_self": null,
            "height": null,
            "min_height": null,
            "padding": null,
            "grid_auto_rows": null,
            "grid_gap": null,
            "max_width": null,
            "order": null,
            "_view_module_version": "1.2.0",
            "grid_template_areas": null,
            "object_position": null,
            "object_fit": null,
            "grid_auto_columns": null,
            "margin": null,
            "display": null,
            "left": null
          }
        }
      }
    }
  },
  "cells": [
    {
      "cell_type": "markdown",
      "metadata": {
        "id": "view-in-github",
        "colab_type": "text"
      },
      "source": [
        "<a href=\"https://colab.research.google.com/github/JoyeBright/Multilingual_Multimodal_Universal_MT/blob/main/DataAdaptation_ENFR.ipynb\" target=\"_parent\"><img src=\"https://colab.research.google.com/assets/colab-badge.svg\" alt=\"Open In Colab\"/></a>"
      ]
    },
    {
      "cell_type": "markdown",
      "metadata": {
        "id": "IdntJNWuyFH_"
      },
      "source": [
        "## **Others**"
      ]
    },
    {
      "cell_type": "code",
      "metadata": {
        "colab": {
          "base_uri": "https://localhost:8080/"
        },
        "id": "V25I4Xk2n85q",
        "outputId": "dd7093e8-6260-4cd7-84d5-42dcaf06a6c8"
      },
      "source": [
        "from google.colab import drive\n",
        "drive.mount('/content/drive')"
      ],
      "execution_count": 1,
      "outputs": [
        {
          "output_type": "stream",
          "text": [
            "Drive already mounted at /content/drive; to attempt to forcibly remount, call drive.mount(\"/content/drive\", force_remount=True).\n"
          ],
          "name": "stdout"
        }
      ]
    },
    {
      "cell_type": "code",
      "metadata": {
        "colab": {
          "base_uri": "https://localhost:8080/"
        },
        "id": "EfPPMDZX1_J8",
        "outputId": "5cbc1e7a-1e7c-4fdc-e941-e72875fb4300"
      },
      "source": [
        "!wget http://www.cs.cmu.edu/~pengchey/iwslt2014_ende.zip\n",
        "!unzip iwslt2014_ende.zip"
      ],
      "execution_count": null,
      "outputs": [
        {
          "output_type": "stream",
          "text": [
            "--2021-03-01 11:03:43--  http://www.cs.cmu.edu/~pengchey/iwslt2014_ende.zip\n",
            "Resolving www.cs.cmu.edu (www.cs.cmu.edu)... 128.2.42.95\n",
            "Connecting to www.cs.cmu.edu (www.cs.cmu.edu)|128.2.42.95|:80... connected.\n",
            "HTTP request sent, awaiting response... 200 OK\n",
            "Length: 21735259 (21M) [application/zip]\n",
            "Saving to: ‘iwslt2014_ende.zip’\n",
            "\n",
            "iwslt2014_ende.zip  100%[===================>]  20.73M  1.85MB/s    in 12s     \n",
            "\n",
            "2021-03-01 11:03:56 (1.75 MB/s) - ‘iwslt2014_ende.zip’ saved [21735259/21735259]\n",
            "\n",
            "Archive:  iwslt2014_ende.zip\n",
            "   creating: data/\n",
            "  inflating: data/test.de-en.de.wmixerprep  \n",
            "  inflating: data/valid.de-en.de     \n",
            "  inflating: data/train.de-en.en.wmixerprep  \n",
            "  inflating: data/train.de-en.de.wmixerprep  \n",
            "  inflating: data/valid.de-en.en     \n",
            "  inflating: data/test.de-en.en.wmixerprep  \n",
            "  inflating: data/test.de-en.en      \n",
            "  inflating: data/train.de-en.en     \n",
            "  inflating: data/valid.de-en.de.wmixerprep  \n",
            "  inflating: data/train.de-en.de     \n",
            "  inflating: data/valid.de-en.en.wmixerprep  \n",
            "  inflating: data/test.de-en.de      \n"
          ],
          "name": "stdout"
        }
      ]
    },
    {
      "cell_type": "code",
      "metadata": {
        "colab": {
          "base_uri": "https://localhost:8080/"
        },
        "id": "v_-bH-Jd2bpY",
        "outputId": "b5e33208-20f8-4c05-c63d-fd9ae59e8b6e"
      },
      "source": [
        "!head -10 /content/data/train.de-en.en"
      ],
      "execution_count": null,
      "outputs": [
        {
          "output_type": "stream",
          "text": [
            "and it can be a very complicated thing , what human health is .\n",
            "and bringing those two together might seem a very daunting task , but what i &apos;m going to try to say is that even in that complexity , there &apos;s some simple themes that i think , if we understand , we can really move forward .\n",
            "and those simple themes aren &apos;t really themes about the complex science of what &apos;s going on , but things that we all pretty well know .\n",
            "and i &apos;m going to start with this one : if momma ain &apos;t happy , ain &apos;t nobody happy .\n",
            "we know that , right ? we &apos;ve experienced that .\n",
            "and if we just take that and we build from there , then we can go to the next step , which is that if the ocean ain &apos;t happy , ain &apos;t nobody happy .\n",
            "that &apos;s the theme of my talk .\n",
            "and we &apos;re making the ocean pretty unhappy in a lot of different ways .\n",
            "this is a shot of cannery row in 1932 .\n",
            "cannery row , at the time , had the biggest industrial canning operation on the west coast .\n"
          ],
          "name": "stdout"
        }
      ]
    },
    {
      "cell_type": "code",
      "metadata": {
        "colab": {
          "base_uri": "https://localhost:8080/"
        },
        "id": "tW2HUnR52gvm",
        "outputId": "899fddc5-eb28-4dcb-f409-802fc52e687c"
      },
      "source": [
        "!head -20 /content/data/train.de-en.en"
      ],
      "execution_count": null,
      "outputs": [
        {
          "output_type": "stream",
          "text": [
            "and it can be a very complicated thing , what human health is .\n",
            "and bringing those two together might seem a very daunting task , but what i &apos;m going to try to say is that even in that complexity , there &apos;s some simple themes that i think , if we understand , we can really move forward .\n",
            "and those simple themes aren &apos;t really themes about the complex science of what &apos;s going on , but things that we all pretty well know .\n",
            "and i &apos;m going to start with this one : if momma ain &apos;t happy , ain &apos;t nobody happy .\n",
            "we know that , right ? we &apos;ve experienced that .\n",
            "and if we just take that and we build from there , then we can go to the next step , which is that if the ocean ain &apos;t happy , ain &apos;t nobody happy .\n",
            "that &apos;s the theme of my talk .\n",
            "and we &apos;re making the ocean pretty unhappy in a lot of different ways .\n",
            "this is a shot of cannery row in 1932 .\n",
            "cannery row , at the time , had the biggest industrial canning operation on the west coast .\n",
            "we piled enormous amounts of pollution into the air and into the water .\n",
            "rolf bolin , who was a professor at the hopkin &apos;s marine station where i work , wrote in the 1940s that &quot; the fumes from the scum floating on the inlets of the bay were so bad they turned lead-based paints black . &quot;\n",
            "people working in these canneries could barely stay there all day because of the smell , but you know what they came out saying ?\n",
            "they say , &quot; you know what you smell ?\n",
            "that pollution was money to that community , and those people dealt with the pollution and absorbed it into their skin and into their bodies because they needed the money .\n",
            "we made the ocean unhappy ; we made people very unhappy , and we made them unhealthy .\n",
            "the connection between ocean health and human health is actually based upon another couple simple adages , and i want to call that &quot; pinch a minnow , hurt a whale . &quot;\n",
            "the pyramid of ocean life ...\n",
            "we see the base of the food chain , the plankton , the small things , and we see how those animals are food to animals in the middle of the pyramid , and on so up this diagram .\n",
            "and that flow , that flow of life , from the very base up to the very top , is the flow that ecologists see .\n"
          ],
          "name": "stdout"
        }
      ]
    },
    {
      "cell_type": "code",
      "metadata": {
        "colab": {
          "base_uri": "https://localhost:8080/"
        },
        "id": "G-oIYYKP2_HK",
        "outputId": "d0966c33-53d1-4566-9179-e2c4bf7df557"
      },
      "source": [
        "!wc -l /content/data/train.de-en.en"
      ],
      "execution_count": null,
      "outputs": [
        {
          "output_type": "stream",
          "text": [
            "153326 /content/data/train.de-en.en\n"
          ],
          "name": "stdout"
        }
      ]
    },
    {
      "cell_type": "code",
      "metadata": {
        "colab": {
          "base_uri": "https://localhost:8080/"
        },
        "id": "qi9PIomX3Cov",
        "outputId": "d36f4050-1727-4cf4-a93d-793aca131036"
      },
      "source": [
        "!wc -l /content/data/train.de-en.de"
      ],
      "execution_count": null,
      "outputs": [
        {
          "output_type": "stream",
          "text": [
            "153326 /content/data/train.de-en.de\n"
          ],
          "name": "stdout"
        }
      ]
    },
    {
      "cell_type": "code",
      "metadata": {
        "colab": {
          "base_uri": "https://localhost:8080/"
        },
        "id": "-Owecmoe9N0p",
        "outputId": "91118a32-4118-4dfe-ba6b-0c4ad30e7585"
      },
      "source": [
        "!wc -l /content/data/valid.de-en.en"
      ],
      "execution_count": null,
      "outputs": [
        {
          "output_type": "stream",
          "text": [
            "6969 /content/data/valid.de-en.en\n"
          ],
          "name": "stdout"
        }
      ]
    },
    {
      "cell_type": "code",
      "metadata": {
        "colab": {
          "base_uri": "https://localhost:8080/"
        },
        "id": "UiNyQTZZ9UGO",
        "outputId": "2406c99b-7163-4a33-dc58-1cf97fe82313"
      },
      "source": [
        "!wc -l /content/data/test.de-en.en"
      ],
      "execution_count": null,
      "outputs": [
        {
          "output_type": "stream",
          "text": [
            "6750 /content/data/test.de-en.en\n"
          ],
          "name": "stdout"
        }
      ]
    },
    {
      "cell_type": "code",
      "metadata": {
        "id": "jAIrOe0pLbo3"
      },
      "source": [
        "train_src = \"/content/data/train.de-en.en\""
      ],
      "execution_count": null,
      "outputs": []
    },
    {
      "cell_type": "code",
      "metadata": {
        "id": "BYVUKrr-LZe3"
      },
      "source": [
        "with open(train_src) as f:\n",
        "    content = f.readlines()\n",
        "    content = [x.strip() for x in content]"
      ],
      "execution_count": null,
      "outputs": []
    },
    {
      "cell_type": "code",
      "metadata": {
        "id": "Gr2GRM2XLpaS"
      },
      "source": [
        "en_de = content"
      ],
      "execution_count": null,
      "outputs": []
    },
    {
      "cell_type": "code",
      "metadata": {
        "colab": {
          "base_uri": "https://localhost:8080/"
        },
        "id": "3VLxq6HhK7Mv",
        "outputId": "096e6c50-bef6-4e74-d4d3-fa3851840dc4"
      },
      "source": [
        "import numpy as np\n",
        "!pip3 install torch torchvision"
      ],
      "execution_count": null,
      "outputs": [
        {
          "output_type": "stream",
          "text": [
            "Requirement already satisfied: torch in /usr/local/lib/python3.7/dist-packages (1.7.1+cu101)\n",
            "Requirement already satisfied: torchvision in /usr/local/lib/python3.7/dist-packages (0.8.2+cu101)\n",
            "Requirement already satisfied: typing-extensions in /usr/local/lib/python3.7/dist-packages (from torch) (3.7.4.3)\n",
            "Requirement already satisfied: numpy in /usr/local/lib/python3.7/dist-packages (from torch) (1.19.5)\n",
            "Requirement already satisfied: pillow>=4.1.1 in /usr/local/lib/python3.7/dist-packages (from torchvision) (7.0.0)\n"
          ],
          "name": "stdout"
        }
      ]
    },
    {
      "cell_type": "code",
      "metadata": {
        "colab": {
          "base_uri": "https://localhost:8080/"
        },
        "id": "qD7tJaDUK9CH",
        "outputId": "60106899-635d-4ce2-9f4b-71c6f764e13b"
      },
      "source": [
        "!pip install bertopic"
      ],
      "execution_count": null,
      "outputs": [
        {
          "output_type": "stream",
          "text": [
            "Collecting bertopic\n",
            "  Downloading https://files.pythonhosted.org/packages/13/39/e65e64257055dda6713129d8e34f02538ec8f9ba41721e7c2898eda290c0/bertopic-0.5.0-py2.py3-none-any.whl\n",
            "Requirement already satisfied: torch>=1.4.0 in /usr/local/lib/python3.7/dist-packages (from bertopic) (1.7.1+cu101)\n",
            "Requirement already satisfied: pandas>=1.1.5 in /usr/local/lib/python3.7/dist-packages (from bertopic) (1.1.5)\n",
            "Requirement already satisfied: numpy>=1.19.2 in /usr/local/lib/python3.7/dist-packages (from bertopic) (1.19.5)\n",
            "Collecting sentence-transformers>=0.4.1\n",
            "\u001b[?25l  Downloading https://files.pythonhosted.org/packages/6a/e2/84d6acfcee2d83164149778a33b6bdd1a74e1bcb59b2b2cd1b861359b339/sentence-transformers-0.4.1.2.tar.gz (64kB)\n",
            "\u001b[K     |████████████████████████████████| 71kB 4.8MB/s \n",
            "\u001b[?25hRequirement already satisfied: tqdm>=4.41.1 in /usr/local/lib/python3.7/dist-packages (from bertopic) (4.41.1)\n",
            "Requirement already satisfied: umap-learn>=0.5.0 in /usr/local/lib/python3.7/dist-packages (from bertopic) (0.5.1)\n",
            "Requirement already satisfied: scikit-learn>=0.22.2.post1 in /usr/local/lib/python3.7/dist-packages (from bertopic) (0.22.2.post1)\n",
            "Collecting hdbscan>=0.8.27\n",
            "\u001b[?25l  Downloading https://files.pythonhosted.org/packages/32/bb/59a75bc5ac66a9b4f9b8f979e4545af0e98bb1ca4e6ae96b3b956b554223/hdbscan-0.8.27.tar.gz (6.4MB)\n",
            "\u001b[K     |████████████████████████████████| 6.4MB 11.3MB/s \n",
            "\u001b[?25h  Installing build dependencies ... \u001b[?25l\u001b[?25hdone\n",
            "  Getting requirements to build wheel ... \u001b[?25l\u001b[?25hdone\n",
            "    Preparing wheel metadata ... \u001b[?25l\u001b[?25hdone\n",
            "Requirement already satisfied: typing-extensions in /usr/local/lib/python3.7/dist-packages (from torch>=1.4.0->bertopic) (3.7.4.3)\n",
            "Requirement already satisfied: pytz>=2017.2 in /usr/local/lib/python3.7/dist-packages (from pandas>=1.1.5->bertopic) (2018.9)\n",
            "Requirement already satisfied: python-dateutil>=2.7.3 in /usr/local/lib/python3.7/dist-packages (from pandas>=1.1.5->bertopic) (2.8.1)\n",
            "Collecting transformers<5.0.0,>=3.1.0\n",
            "\u001b[?25l  Downloading https://files.pythonhosted.org/packages/f9/54/5ca07ec9569d2f232f3166de5457b63943882f7950ddfcc887732fc7fb23/transformers-4.3.3-py3-none-any.whl (1.9MB)\n",
            "\u001b[K     |████████████████████████████████| 1.9MB 53.0MB/s \n",
            "\u001b[?25hRequirement already satisfied: scipy in /usr/local/lib/python3.7/dist-packages (from sentence-transformers>=0.4.1->bertopic) (1.4.1)\n",
            "Requirement already satisfied: nltk in /usr/local/lib/python3.7/dist-packages (from sentence-transformers>=0.4.1->bertopic) (3.2.5)\n",
            "Collecting sentencepiece\n",
            "\u001b[?25l  Downloading https://files.pythonhosted.org/packages/f5/99/e0808cb947ba10f575839c43e8fafc9cc44e4a7a2c8f79c60db48220a577/sentencepiece-0.1.95-cp37-cp37m-manylinux2014_x86_64.whl (1.2MB)\n",
            "\u001b[K     |████████████████████████████████| 1.2MB 55.0MB/s \n",
            "\u001b[?25hRequirement already satisfied: pynndescent>=0.5 in /usr/local/lib/python3.7/dist-packages (from umap-learn>=0.5.0->bertopic) (0.5.2)\n",
            "Requirement already satisfied: numba>=0.49 in /usr/local/lib/python3.7/dist-packages (from umap-learn>=0.5.0->bertopic) (0.51.2)\n",
            "Requirement already satisfied: joblib>=0.11 in /usr/local/lib/python3.7/dist-packages (from scikit-learn>=0.22.2.post1->bertopic) (1.0.1)\n",
            "Requirement already satisfied: cython>=0.27 in /usr/local/lib/python3.7/dist-packages (from hdbscan>=0.8.27->bertopic) (0.29.22)\n",
            "Requirement already satisfied: six in /usr/local/lib/python3.7/dist-packages (from hdbscan>=0.8.27->bertopic) (1.15.0)\n",
            "Requirement already satisfied: importlib-metadata; python_version < \"3.8\" in /usr/local/lib/python3.7/dist-packages (from transformers<5.0.0,>=3.1.0->sentence-transformers>=0.4.1->bertopic) (3.7.0)\n",
            "Collecting sacremoses\n",
            "\u001b[?25l  Downloading https://files.pythonhosted.org/packages/7d/34/09d19aff26edcc8eb2a01bed8e98f13a1537005d31e95233fd48216eed10/sacremoses-0.0.43.tar.gz (883kB)\n",
            "\u001b[K     |████████████████████████████████| 890kB 52.8MB/s \n",
            "\u001b[?25hRequirement already satisfied: filelock in /usr/local/lib/python3.7/dist-packages (from transformers<5.0.0,>=3.1.0->sentence-transformers>=0.4.1->bertopic) (3.0.12)\n",
            "Collecting tokenizers<0.11,>=0.10.1\n",
            "\u001b[?25l  Downloading https://files.pythonhosted.org/packages/71/23/2ddc317b2121117bf34dd00f5b0de194158f2a44ee2bf5e47c7166878a97/tokenizers-0.10.1-cp37-cp37m-manylinux2010_x86_64.whl (3.2MB)\n",
            "\u001b[K     |████████████████████████████████| 3.2MB 57.2MB/s \n",
            "\u001b[?25hRequirement already satisfied: regex!=2019.12.17 in /usr/local/lib/python3.7/dist-packages (from transformers<5.0.0,>=3.1.0->sentence-transformers>=0.4.1->bertopic) (2019.12.20)\n",
            "Requirement already satisfied: requests in /usr/local/lib/python3.7/dist-packages (from transformers<5.0.0,>=3.1.0->sentence-transformers>=0.4.1->bertopic) (2.23.0)\n",
            "Requirement already satisfied: packaging in /usr/local/lib/python3.7/dist-packages (from transformers<5.0.0,>=3.1.0->sentence-transformers>=0.4.1->bertopic) (20.9)\n",
            "Requirement already satisfied: llvmlite>=0.30 in /usr/local/lib/python3.7/dist-packages (from pynndescent>=0.5->umap-learn>=0.5.0->bertopic) (0.34.0)\n",
            "Requirement already satisfied: setuptools in /usr/local/lib/python3.7/dist-packages (from numba>=0.49->umap-learn>=0.5.0->bertopic) (53.0.0)\n",
            "Requirement already satisfied: zipp>=0.5 in /usr/local/lib/python3.7/dist-packages (from importlib-metadata; python_version < \"3.8\"->transformers<5.0.0,>=3.1.0->sentence-transformers>=0.4.1->bertopic) (3.4.0)\n",
            "Requirement already satisfied: click in /usr/local/lib/python3.7/dist-packages (from sacremoses->transformers<5.0.0,>=3.1.0->sentence-transformers>=0.4.1->bertopic) (7.1.2)\n",
            "Requirement already satisfied: urllib3!=1.25.0,!=1.25.1,<1.26,>=1.21.1 in /usr/local/lib/python3.7/dist-packages (from requests->transformers<5.0.0,>=3.1.0->sentence-transformers>=0.4.1->bertopic) (1.24.3)\n",
            "Requirement already satisfied: chardet<4,>=3.0.2 in /usr/local/lib/python3.7/dist-packages (from requests->transformers<5.0.0,>=3.1.0->sentence-transformers>=0.4.1->bertopic) (3.0.4)\n",
            "Requirement already satisfied: certifi>=2017.4.17 in /usr/local/lib/python3.7/dist-packages (from requests->transformers<5.0.0,>=3.1.0->sentence-transformers>=0.4.1->bertopic) (2020.12.5)\n",
            "Requirement already satisfied: idna<3,>=2.5 in /usr/local/lib/python3.7/dist-packages (from requests->transformers<5.0.0,>=3.1.0->sentence-transformers>=0.4.1->bertopic) (2.10)\n",
            "Requirement already satisfied: pyparsing>=2.0.2 in /usr/local/lib/python3.7/dist-packages (from packaging->transformers<5.0.0,>=3.1.0->sentence-transformers>=0.4.1->bertopic) (2.4.7)\n",
            "Building wheels for collected packages: hdbscan\n",
            "  Building wheel for hdbscan (PEP 517) ... \u001b[?25l\u001b[?25hdone\n",
            "  Created wheel for hdbscan: filename=hdbscan-0.8.27-cp37-cp37m-linux_x86_64.whl size=2311713 sha256=4af9aac9f749cce756e42297fa307beb696cc59ea0a1e1ad5979005608e86833\n",
            "  Stored in directory: /root/.cache/pip/wheels/42/63/fb/314ad6c3b270887a3ecb588b8e5aac50b0fad38ff89bb6dff2\n",
            "Successfully built hdbscan\n",
            "Building wheels for collected packages: sentence-transformers, sacremoses\n",
            "  Building wheel for sentence-transformers (setup.py) ... \u001b[?25l\u001b[?25hdone\n",
            "  Created wheel for sentence-transformers: filename=sentence_transformers-0.4.1.2-cp37-none-any.whl size=103068 sha256=ef1272652a334d1ccd3a05ca605009de16508823f75ad5101a595f6a64e762a9\n",
            "  Stored in directory: /root/.cache/pip/wheels/3d/33/d1/5703dd56199c09d4a1b41e0c07fb4e7765a84d787cbdc48ac3\n",
            "  Building wheel for sacremoses (setup.py) ... \u001b[?25l\u001b[?25hdone\n",
            "  Created wheel for sacremoses: filename=sacremoses-0.0.43-cp37-none-any.whl size=893262 sha256=4860308f891175bd01d49fd11da9e5be0e9f314b9e3df1f41306f68d476b85ed\n",
            "  Stored in directory: /root/.cache/pip/wheels/29/3c/fd/7ce5c3f0666dab31a50123635e6fb5e19ceb42ce38d4e58f45\n",
            "Successfully built sentence-transformers sacremoses\n",
            "Installing collected packages: sacremoses, tokenizers, transformers, sentencepiece, sentence-transformers, hdbscan, bertopic\n",
            "Successfully installed bertopic-0.5.0 hdbscan-0.8.27 sacremoses-0.0.43 sentence-transformers-0.4.1.2 sentencepiece-0.1.95 tokenizers-0.10.1 transformers-4.3.3\n"
          ],
          "name": "stdout"
        }
      ]
    },
    {
      "cell_type": "code",
      "metadata": {
        "colab": {
          "base_uri": "https://localhost:8080/"
        },
        "id": "qi9jCtLiK-3A",
        "outputId": "9d67613d-3b71-41c5-a597-6638b78f9b75"
      },
      "source": [
        "!pip install bertopic[visualization]"
      ],
      "execution_count": null,
      "outputs": [
        {
          "output_type": "stream",
          "text": [
            "Requirement already satisfied: bertopic[visualization] in /usr/local/lib/python3.7/dist-packages (0.5.0)\n",
            "Requirement already satisfied: pandas>=1.1.5 in /usr/local/lib/python3.7/dist-packages (from bertopic[visualization]) (1.1.5)\n",
            "Requirement already satisfied: umap-learn>=0.5.0 in /usr/local/lib/python3.7/dist-packages (from bertopic[visualization]) (0.5.1)\n",
            "Requirement already satisfied: sentence-transformers>=0.4.1 in /usr/local/lib/python3.7/dist-packages (from bertopic[visualization]) (0.4.1.2)\n",
            "Requirement already satisfied: torch>=1.4.0 in /usr/local/lib/python3.7/dist-packages (from bertopic[visualization]) (1.7.1+cu101)\n",
            "Requirement already satisfied: hdbscan>=0.8.27 in /usr/local/lib/python3.7/dist-packages (from bertopic[visualization]) (0.8.27)\n",
            "Requirement already satisfied: scikit-learn>=0.22.2.post1 in /usr/local/lib/python3.7/dist-packages (from bertopic[visualization]) (0.22.2.post1)\n",
            "Requirement already satisfied: numpy>=1.19.2 in /usr/local/lib/python3.7/dist-packages (from bertopic[visualization]) (1.19.5)\n",
            "Requirement already satisfied: tqdm>=4.41.1 in /usr/local/lib/python3.7/dist-packages (from bertopic[visualization]) (4.41.1)\n",
            "Requirement already satisfied: matplotlib>=3.2.2; extra == \"visualization\" in /usr/local/lib/python3.7/dist-packages (from bertopic[visualization]) (3.2.2)\n",
            "Collecting plotly<4.14.3,>=4.7.0; extra == \"visualization\"\n",
            "\u001b[?25l  Downloading https://files.pythonhosted.org/packages/9d/2e/69579c3db25fa4f85d70a10f8a98d52c2b4a0dcbd153e8f17f425761bef4/plotly-4.14.2-py2.py3-none-any.whl (13.2MB)\n",
            "\u001b[K     |████████████████████████████████| 13.2MB 187kB/s \n",
            "\u001b[?25hRequirement already satisfied: python-dateutil>=2.7.3 in /usr/local/lib/python3.7/dist-packages (from pandas>=1.1.5->bertopic[visualization]) (2.8.1)\n",
            "Requirement already satisfied: pytz>=2017.2 in /usr/local/lib/python3.7/dist-packages (from pandas>=1.1.5->bertopic[visualization]) (2018.9)\n",
            "Requirement already satisfied: numba>=0.49 in /usr/local/lib/python3.7/dist-packages (from umap-learn>=0.5.0->bertopic[visualization]) (0.51.2)\n",
            "Requirement already satisfied: pynndescent>=0.5 in /usr/local/lib/python3.7/dist-packages (from umap-learn>=0.5.0->bertopic[visualization]) (0.5.2)\n",
            "Requirement already satisfied: scipy>=1.0 in /usr/local/lib/python3.7/dist-packages (from umap-learn>=0.5.0->bertopic[visualization]) (1.4.1)\n",
            "Requirement already satisfied: transformers<5.0.0,>=3.1.0 in /usr/local/lib/python3.7/dist-packages (from sentence-transformers>=0.4.1->bertopic[visualization]) (4.3.3)\n",
            "Requirement already satisfied: sentencepiece in /usr/local/lib/python3.7/dist-packages (from sentence-transformers>=0.4.1->bertopic[visualization]) (0.1.95)\n",
            "Requirement already satisfied: nltk in /usr/local/lib/python3.7/dist-packages (from sentence-transformers>=0.4.1->bertopic[visualization]) (3.2.5)\n",
            "Requirement already satisfied: typing-extensions in /usr/local/lib/python3.7/dist-packages (from torch>=1.4.0->bertopic[visualization]) (3.7.4.3)\n",
            "Requirement already satisfied: joblib>=1.0 in /usr/local/lib/python3.7/dist-packages (from hdbscan>=0.8.27->bertopic[visualization]) (1.0.1)\n",
            "Requirement already satisfied: six in /usr/local/lib/python3.7/dist-packages (from hdbscan>=0.8.27->bertopic[visualization]) (1.15.0)\n",
            "Requirement already satisfied: cython>=0.27 in /usr/local/lib/python3.7/dist-packages (from hdbscan>=0.8.27->bertopic[visualization]) (0.29.22)\n",
            "Requirement already satisfied: cycler>=0.10 in /usr/local/lib/python3.7/dist-packages (from matplotlib>=3.2.2; extra == \"visualization\"->bertopic[visualization]) (0.10.0)\n",
            "Requirement already satisfied: kiwisolver>=1.0.1 in /usr/local/lib/python3.7/dist-packages (from matplotlib>=3.2.2; extra == \"visualization\"->bertopic[visualization]) (1.3.1)\n",
            "Requirement already satisfied: pyparsing!=2.0.4,!=2.1.2,!=2.1.6,>=2.0.1 in /usr/local/lib/python3.7/dist-packages (from matplotlib>=3.2.2; extra == \"visualization\"->bertopic[visualization]) (2.4.7)\n",
            "Requirement already satisfied: retrying>=1.3.3 in /usr/local/lib/python3.7/dist-packages (from plotly<4.14.3,>=4.7.0; extra == \"visualization\"->bertopic[visualization]) (1.3.3)\n",
            "Requirement already satisfied: setuptools in /usr/local/lib/python3.7/dist-packages (from numba>=0.49->umap-learn>=0.5.0->bertopic[visualization]) (53.0.0)\n",
            "Requirement already satisfied: llvmlite<0.35,>=0.34.0.dev0 in /usr/local/lib/python3.7/dist-packages (from numba>=0.49->umap-learn>=0.5.0->bertopic[visualization]) (0.34.0)\n",
            "Requirement already satisfied: regex!=2019.12.17 in /usr/local/lib/python3.7/dist-packages (from transformers<5.0.0,>=3.1.0->sentence-transformers>=0.4.1->bertopic[visualization]) (2019.12.20)\n",
            "Requirement already satisfied: importlib-metadata; python_version < \"3.8\" in /usr/local/lib/python3.7/dist-packages (from transformers<5.0.0,>=3.1.0->sentence-transformers>=0.4.1->bertopic[visualization]) (3.7.0)\n",
            "Requirement already satisfied: tokenizers<0.11,>=0.10.1 in /usr/local/lib/python3.7/dist-packages (from transformers<5.0.0,>=3.1.0->sentence-transformers>=0.4.1->bertopic[visualization]) (0.10.1)\n",
            "Requirement already satisfied: packaging in /usr/local/lib/python3.7/dist-packages (from transformers<5.0.0,>=3.1.0->sentence-transformers>=0.4.1->bertopic[visualization]) (20.9)\n",
            "Requirement already satisfied: filelock in /usr/local/lib/python3.7/dist-packages (from transformers<5.0.0,>=3.1.0->sentence-transformers>=0.4.1->bertopic[visualization]) (3.0.12)\n",
            "Requirement already satisfied: sacremoses in /usr/local/lib/python3.7/dist-packages (from transformers<5.0.0,>=3.1.0->sentence-transformers>=0.4.1->bertopic[visualization]) (0.0.43)\n",
            "Requirement already satisfied: requests in /usr/local/lib/python3.7/dist-packages (from transformers<5.0.0,>=3.1.0->sentence-transformers>=0.4.1->bertopic[visualization]) (2.23.0)\n",
            "Requirement already satisfied: zipp>=0.5 in /usr/local/lib/python3.7/dist-packages (from importlib-metadata; python_version < \"3.8\"->transformers<5.0.0,>=3.1.0->sentence-transformers>=0.4.1->bertopic[visualization]) (3.4.0)\n",
            "Requirement already satisfied: click in /usr/local/lib/python3.7/dist-packages (from sacremoses->transformers<5.0.0,>=3.1.0->sentence-transformers>=0.4.1->bertopic[visualization]) (7.1.2)\n",
            "Requirement already satisfied: urllib3!=1.25.0,!=1.25.1,<1.26,>=1.21.1 in /usr/local/lib/python3.7/dist-packages (from requests->transformers<5.0.0,>=3.1.0->sentence-transformers>=0.4.1->bertopic[visualization]) (1.24.3)\n",
            "Requirement already satisfied: idna<3,>=2.5 in /usr/local/lib/python3.7/dist-packages (from requests->transformers<5.0.0,>=3.1.0->sentence-transformers>=0.4.1->bertopic[visualization]) (2.10)\n",
            "Requirement already satisfied: chardet<4,>=3.0.2 in /usr/local/lib/python3.7/dist-packages (from requests->transformers<5.0.0,>=3.1.0->sentence-transformers>=0.4.1->bertopic[visualization]) (3.0.4)\n",
            "Requirement already satisfied: certifi>=2017.4.17 in /usr/local/lib/python3.7/dist-packages (from requests->transformers<5.0.0,>=3.1.0->sentence-transformers>=0.4.1->bertopic[visualization]) (2020.12.5)\n",
            "Installing collected packages: plotly\n",
            "  Found existing installation: plotly 4.4.1\n",
            "    Uninstalling plotly-4.4.1:\n",
            "      Successfully uninstalled plotly-4.4.1\n",
            "Successfully installed plotly-4.14.2\n"
          ],
          "name": "stdout"
        }
      ]
    },
    {
      "cell_type": "code",
      "metadata": {
        "id": "efKjuRSPLBLS"
      },
      "source": [
        "from bertopic import BERTopic"
      ],
      "execution_count": null,
      "outputs": []
    },
    {
      "cell_type": "code",
      "metadata": {
        "colab": {
          "base_uri": "https://localhost:8080/"
        },
        "id": "6pWruiBILyKY",
        "outputId": "f303e29b-d62f-47f8-abe6-566b32738c7a"
      },
      "source": [
        "print(en_de[:10])"
      ],
      "execution_count": null,
      "outputs": [
        {
          "output_type": "stream",
          "text": [
            "['and it can be a very complicated thing , what human health is .', 'and bringing those two together might seem a very daunting task , but what i &apos;m going to try to say is that even in that complexity , there &apos;s some simple themes that i think , if we understand , we can really move forward .', 'and those simple themes aren &apos;t really themes about the complex science of what &apos;s going on , but things that we all pretty well know .', 'and i &apos;m going to start with this one : if momma ain &apos;t happy , ain &apos;t nobody happy .', 'we know that , right ? we &apos;ve experienced that .', 'and if we just take that and we build from there , then we can go to the next step , which is that if the ocean ain &apos;t happy , ain &apos;t nobody happy .', 'that &apos;s the theme of my talk .', 'and we &apos;re making the ocean pretty unhappy in a lot of different ways .', 'this is a shot of cannery row in 1932 .', 'cannery row , at the time , had the biggest industrial canning operation on the west coast .']\n"
          ],
          "name": "stdout"
        }
      ]
    },
    {
      "cell_type": "code",
      "metadata": {
        "id": "XYom6HnGLC34"
      },
      "source": [
        "model = BERTopic(language=\"multilingual\", verbose=True, min_topic_size = 200, calculate_probabilities = False, top_n_words=20)"
      ],
      "execution_count": null,
      "outputs": []
    },
    {
      "cell_type": "code",
      "metadata": {
        "colab": {
          "base_uri": "https://localhost:8080/",
          "height": 134,
          "referenced_widgets": [
            "df90e12835ec4d628a1abd4c10859a61",
            "8fb42d6d78854236be3ac84df3afa9a5",
            "974416569c99470489b719dd60b215d7",
            "a04340d491a644fcbf2e36665615fe0e",
            "451c8ac7b439456d924bcfb3d5e97bd5",
            "3822c3854d9d4438ab93e6ba45283d46",
            "00ec3b83ff91479aa98713e445185e04",
            "be7aefecd54c4ec6b2328127881f185d"
          ]
        },
        "id": "NvVP0wfPL26S",
        "outputId": "9c80773b-224c-4e10-ee14-a8c37edf3838"
      },
      "source": [
        "topics, probabilities = model.fit_transform(en_de)"
      ],
      "execution_count": null,
      "outputs": [
        {
          "output_type": "stream",
          "text": [
            "100%|██████████| 1.01G/1.01G [00:52<00:00, 19.5MB/s]\n"
          ],
          "name": "stderr"
        },
        {
          "output_type": "display_data",
          "data": {
            "application/vnd.jupyter.widget-view+json": {
              "model_id": "df90e12835ec4d628a1abd4c10859a61",
              "version_minor": 0,
              "version_major": 2
            },
            "text/plain": [
              "HBox(children=(FloatProgress(value=0.0, description='Batches', max=4792.0, style=ProgressStyle(description_wid…"
            ]
          },
          "metadata": {
            "tags": []
          }
        },
        {
          "output_type": "stream",
          "text": [
            "\n"
          ],
          "name": "stdout"
        },
        {
          "output_type": "stream",
          "text": [
            "2021-03-01 11:12:53,322 - BERTopic - Transformed documents to Embeddings\n",
            "2021-03-01 11:15:39,444 - BERTopic - Reduced dimensionality with UMAP\n",
            "2021-03-01 11:16:19,892 - BERTopic - Clustered UMAP embeddings with HDBSCAN\n"
          ],
          "name": "stderr"
        }
      ]
    },
    {
      "cell_type": "code",
      "metadata": {
        "colab": {
          "base_uri": "https://localhost:8080/",
          "height": 204
        },
        "id": "P90_IhKDNy0-",
        "outputId": "bff18014-6825-4b0e-f0c2-6c255145bb96"
      },
      "source": [
        "model.get_topic_freq().head()"
      ],
      "execution_count": null,
      "outputs": [
        {
          "output_type": "execute_result",
          "data": {
            "text/html": [
              "<div>\n",
              "<style scoped>\n",
              "    .dataframe tbody tr th:only-of-type {\n",
              "        vertical-align: middle;\n",
              "    }\n",
              "\n",
              "    .dataframe tbody tr th {\n",
              "        vertical-align: top;\n",
              "    }\n",
              "\n",
              "    .dataframe thead th {\n",
              "        text-align: right;\n",
              "    }\n",
              "</style>\n",
              "<table border=\"1\" class=\"dataframe\">\n",
              "  <thead>\n",
              "    <tr style=\"text-align: right;\">\n",
              "      <th></th>\n",
              "      <th>Topic</th>\n",
              "      <th>Count</th>\n",
              "    </tr>\n",
              "  </thead>\n",
              "  <tbody>\n",
              "    <tr>\n",
              "      <th>0</th>\n",
              "      <td>-1</td>\n",
              "      <td>72863</td>\n",
              "    </tr>\n",
              "    <tr>\n",
              "      <th>1</th>\n",
              "      <td>56</td>\n",
              "      <td>6685</td>\n",
              "    </tr>\n",
              "    <tr>\n",
              "      <th>2</th>\n",
              "      <td>24</td>\n",
              "      <td>5904</td>\n",
              "    </tr>\n",
              "    <tr>\n",
              "      <th>3</th>\n",
              "      <td>35</td>\n",
              "      <td>5663</td>\n",
              "    </tr>\n",
              "    <tr>\n",
              "      <th>4</th>\n",
              "      <td>55</td>\n",
              "      <td>4414</td>\n",
              "    </tr>\n",
              "  </tbody>\n",
              "</table>\n",
              "</div>"
            ],
            "text/plain": [
              "   Topic  Count\n",
              "0     -1  72863\n",
              "1     56   6685\n",
              "2     24   5904\n",
              "3     35   5663\n",
              "4     55   4414"
            ]
          },
          "metadata": {
            "tags": []
          },
          "execution_count": 18
        }
      ]
    },
    {
      "cell_type": "code",
      "metadata": {
        "colab": {
          "base_uri": "https://localhost:8080/"
        },
        "id": "REqjX1zGN3EP",
        "outputId": "aa5a40b8-1320-4702-f43d-95eab0e9a057"
      },
      "source": [
        "model.get_topic(56)"
      ],
      "execution_count": null,
      "outputs": [
        {
          "output_type": "execute_result",
          "data": {
            "text/plain": [
              "[('this', 0.038784377805939775),\n",
              " ('it', 0.03485744569840118),\n",
              " ('apos', 0.03461953803268503),\n",
              " ('you', 0.03355781660117752),\n",
              " ('we', 0.030545420932680784),\n",
              " ('so', 0.02703653769204081),\n",
              " ('all', 0.022363718950938218),\n",
              " ('to', 0.02219475821463163),\n",
              " ('here', 0.021966374601311157),\n",
              " ('know', 0.01960905299011949),\n",
              " ('me', 0.017346817928665447),\n",
              " ('there', 0.01733158104361454),\n",
              " ('now', 0.017070937286721547),\n",
              " ('let', 0.01673997261201176),\n",
              " ('ve', 0.016568733177660375),\n",
              " ('they', 0.016201428556536862),\n",
              " ('see', 0.015727139817878655),\n",
              " ('he', 0.015365109463412812),\n",
              " ('in', 0.015060700271323509),\n",
              " ('going', 0.015014657081977084)]"
            ]
          },
          "metadata": {
            "tags": []
          },
          "execution_count": 23
        }
      ]
    },
    {
      "cell_type": "code",
      "metadata": {
        "colab": {
          "base_uri": "https://localhost:8080/"
        },
        "id": "xiJvwgPSN6ds",
        "outputId": "eb1f3526-9742-4b9e-d052-0a48c35c4e8e"
      },
      "source": [
        "model.get_topic(24)"
      ],
      "execution_count": null,
      "outputs": [
        {
          "output_type": "execute_result",
          "data": {
            "text/plain": [
              "[('food', 0.03409468468030369),\n",
              " ('in', 0.024862264604486595),\n",
              " ('of', 0.024672249890372148),\n",
              " ('to', 0.021556285285659473),\n",
              " ('we', 0.020895322541214165),\n",
              " ('apos', 0.020275109883542745),\n",
              " ('is', 0.020095715822385708),\n",
              " ('they', 0.018805205504752728),\n",
              " ('for', 0.017307375295881552),\n",
              " ('are', 0.015459405284754903),\n",
              " ('with', 0.014834962385094715),\n",
              " ('the', 0.014623490501094944),\n",
              " ('so', 0.014334408933750582),\n",
              " ('eat', 0.01429495331214391),\n",
              " ('have', 0.013226348589398597),\n",
              " ('can', 0.013131316139955381),\n",
              " ('nature', 0.012800853281350083),\n",
              " ('there', 0.012774065044248932),\n",
              " ('from', 0.012619439539911152),\n",
              " ('as', 0.012275645566826818)]"
            ]
          },
          "metadata": {
            "tags": []
          },
          "execution_count": 24
        }
      ]
    },
    {
      "cell_type": "code",
      "metadata": {
        "colab": {
          "base_uri": "https://localhost:8080/"
        },
        "id": "XLbJ-3GGN_0q",
        "outputId": "f63c14c6-433d-4d69-87cf-73e1132f4792"
      },
      "source": [
        "model.get_topic(35)"
      ],
      "execution_count": null,
      "outputs": [
        {
          "output_type": "execute_result",
          "data": {
            "text/plain": [
              "[('we', 0.0263487794171817),\n",
              " ('in', 0.02499238592577116),\n",
              " ('of', 0.02477525886869471),\n",
              " ('cancer', 0.02408757040807158),\n",
              " ('to', 0.02379939621758008),\n",
              " ('apos', 0.01790942414891861),\n",
              " ('for', 0.017718830359796486),\n",
              " ('it', 0.017264221590413985),\n",
              " ('so', 0.01670468527390712),\n",
              " ('health', 0.016360284023132804),\n",
              " ('have', 0.01519561263991534),\n",
              " ('can', 0.01511316590825838),\n",
              " ('cells', 0.0149860230939313),\n",
              " ('the', 0.014418173092017554),\n",
              " ('are', 0.014044638057134256),\n",
              " ('dna', 0.013407477448165717),\n",
              " ('on', 0.013381491275506387),\n",
              " ('they', 0.013259166283684674),\n",
              " ('as', 0.011832979882461193),\n",
              " ('these', 0.01181653537466229)]"
            ]
          },
          "metadata": {
            "tags": []
          },
          "execution_count": 25
        }
      ]
    },
    {
      "cell_type": "code",
      "metadata": {
        "colab": {
          "base_uri": "https://localhost:8080/"
        },
        "id": "AXoSwjC3OF_I",
        "outputId": "fb089737-bc7f-469f-f307-819fd7638807"
      },
      "source": [
        "model.get_topic(55)"
      ],
      "execution_count": null,
      "outputs": [
        {
          "output_type": "execute_result",
          "data": {
            "text/plain": [
              "[('thank', 0.04870788257326642),\n",
              " ('you', 0.035911671463392775),\n",
              " ('it', 0.03457302651264459),\n",
              " ('very', 0.029923709706752427),\n",
              " ('that', 0.028304485008057698),\n",
              " ('this', 0.02807303240678732),\n",
              " ('apos', 0.027443225004889726),\n",
              " ('good', 0.02498541140097688),\n",
              " ('so', 0.023976816812860256),\n",
              " ('really', 0.021211894495999077),\n",
              " ('great', 0.02117924859871115),\n",
              " ('to', 0.020514039657145315),\n",
              " ('they', 0.01893090735022489),\n",
              " ('we', 0.01754979281440931),\n",
              " ('all', 0.017339333877178783),\n",
              " ('be', 0.01629980406167093),\n",
              " ('much', 0.016186433395388174),\n",
              " ('he', 0.014254597714556576),\n",
              " ('amazing', 0.01415601578561214),\n",
              " ('have', 0.013906708406842596)]"
            ]
          },
          "metadata": {
            "tags": []
          },
          "execution_count": 26
        }
      ]
    },
    {
      "cell_type": "markdown",
      "metadata": {
        "id": "E7Y2tXeBxzJ0"
      },
      "source": [
        "## **in-domain IWSLT 2014 corpus (En-->FR)**"
      ]
    },
    {
      "cell_type": "code",
      "metadata": {
        "id": "DDqlR1ZY2ppV"
      },
      "source": [
        "# IWSLT =  International Workshop on Spoken Language Translation\n",
        "# This is a machine translation dataset that is focused on the automatic transcription and translation of TED and TEDx talks, i.e. public speeches covering many different topics. \n",
        "# Compared with the WMT dataset, this dataset is relatively small (the corpus has 130K sentences) \n",
        "# and therefore models should be able to achieve decent BLEU scores fast (in several hours)."
      ],
      "execution_count": null,
      "outputs": []
    },
    {
      "cell_type": "code",
      "metadata": {
        "colab": {
          "base_uri": "https://localhost:8080/"
        },
        "id": "5zsNyXV2R5ic",
        "outputId": "a390c71c-6729-453d-b7bf-b191424e3b08"
      },
      "source": [
        "!gdown --id 1GnBarJIbNgEIIDvUyKDtLmv35Qcxg6Ed"
      ],
      "execution_count": null,
      "outputs": [
        {
          "output_type": "stream",
          "text": [
            "Downloading...\n",
            "From: https://drive.google.com/uc?id=1GnBarJIbNgEIIDvUyKDtLmv35Qcxg6Ed\n",
            "To: /content/2014-01.tgz\n",
            "1.09GB [00:09, 119MB/s]\n"
          ],
          "name": "stdout"
        }
      ]
    },
    {
      "cell_type": "code",
      "metadata": {
        "id": "IplG1i7qS5i_"
      },
      "source": [
        "!tar -xvzf /content/2014-01.tgz"
      ],
      "execution_count": null,
      "outputs": []
    },
    {
      "cell_type": "code",
      "metadata": {
        "colab": {
          "base_uri": "https://localhost:8080/"
        },
        "id": "XperRIJvTWLg",
        "outputId": "aa219e8f-9552-4d86-8963-53e2317cdfe7"
      },
      "source": [
        "!tar -xvzf /content/2014-01/texts/en/fr/en-fr.tgz"
      ],
      "execution_count": null,
      "outputs": [
        {
          "output_type": "stream",
          "text": [
            "en-fr/\n",
            "en-fr/IWSLT14.TED.dev2010.en-fr.en.xml\n",
            "en-fr/IWSLT14.TED.dev2010.en-fr.fr.xml\n",
            "en-fr/IWSLT14.TED.tst2010.en-fr.en.xml\n",
            "en-fr/IWSLT14.TED.tst2010.en-fr.fr.xml\n",
            "en-fr/IWSLT14.TED.tst2011.en-fr.en.xml\n",
            "en-fr/IWSLT14.TED.tst2011.en-fr.fr.xml\n",
            "en-fr/IWSLT14.TED.tst2012.en-fr.en.xml\n",
            "en-fr/IWSLT14.TED.tst2012.en-fr.fr.xml\n",
            "en-fr/README\n",
            "en-fr/train.fr\n",
            "en-fr/train.tags.en-fr.en\n",
            "en-fr/train.tags.en-fr.fr\n"
          ],
          "name": "stdout"
        }
      ]
    },
    {
      "cell_type": "code",
      "metadata": {
        "colab": {
          "base_uri": "https://localhost:8080/"
        },
        "id": "X2ebj9xHT4fq",
        "outputId": "5c6df079-fe9d-4cbb-bbcf-eeab891777c9"
      },
      "source": [
        "!wc -l /content/en-fr/train.tags.en-fr.en"
      ],
      "execution_count": null,
      "outputs": [
        {
          "output_type": "stream",
          "text": [
            "186510 /content/en-fr/train.tags.en-fr.en\n"
          ],
          "name": "stdout"
        }
      ]
    },
    {
      "cell_type": "code",
      "metadata": {
        "colab": {
          "base_uri": "https://localhost:8080/"
        },
        "id": "FY180lL3UAIc",
        "outputId": "109308e9-b6b3-4766-e9c7-458c68792f9b"
      },
      "source": [
        "!head -10 /content/en-fr/train.tags.en-fr.en"
      ],
      "execution_count": null,
      "outputs": [
        {
          "output_type": "stream",
          "text": [
            "<url>http://www.ted.com/talks/stephen_palumbi_following_the_mercury_trail.html</url>\n",
            "It can be a very complicated thing, the ocean.\n",
            "And it can be a very complicated thing, what human health is.\n",
            "And bringing those two together might seem a very daunting task, but what I'm going to try to say is that even in that complexity, there's some simple themes that I think, if we understand, we can really move forward.\n",
            "And those simple themes aren't really themes about the complex science of what's going on, but things that we all pretty well know.\n",
            "And I'm going to start with this one: If momma ain't happy, ain't nobody happy.\n",
            "We know that, right? We've experienced that.\n",
            "And if we just take that and we build from there, then we can go to the next step, which is that if the ocean ain't happy, ain't nobody happy.\n",
            "That's the theme of my talk.\n",
            "And we're making the ocean pretty unhappy in a lot of different ways.\n"
          ],
          "name": "stdout"
        }
      ]
    },
    {
      "cell_type": "markdown",
      "metadata": {
        "id": "LjJA-qlExUYl"
      },
      "source": [
        "## **Out-of-domain corpora (Common Crawl, Europarl v7, News Commentary v10 and UN)**"
      ]
    },
    {
      "cell_type": "code",
      "metadata": {
        "id": "fZGoWdn6lOj5"
      },
      "source": [
        "path = \"/content/drive/MyDrive/Multilingual_Multimodal_Universal_MT/Domain_Adaptation/DataAdaptation/Corpora/out-of-domain\""
      ],
      "execution_count": 10,
      "outputs": []
    },
    {
      "cell_type": "markdown",
      "metadata": {
        "id": "HiNiYZernDPI"
      },
      "source": [
        "**Common Crawl**"
      ]
    },
    {
      "cell_type": "code",
      "metadata": {
        "id": "T7GvdIP3lczN"
      },
      "source": [
        "CC_en = path + \"/CommonCrawl/\" + \"commoncrawl.fr-en.en\""
      ],
      "execution_count": 11,
      "outputs": []
    },
    {
      "cell_type": "code",
      "metadata": {
        "id": "JjwD9ZcilnP3"
      },
      "source": [
        "CC_fr = path + \"/CommonCrawl/\" + \"commoncrawl.fr-en.fr\""
      ],
      "execution_count": 12,
      "outputs": []
    },
    {
      "cell_type": "code",
      "metadata": {
        "colab": {
          "base_uri": "https://localhost:8080/"
        },
        "id": "0VU7BECGltfj",
        "outputId": "66073038-5fba-4f76-8afe-563c93e92d2b"
      },
      "source": [
        "!head -5 $CC_en"
      ],
      "execution_count": 13,
      "outputs": [
        {
          "output_type": "stream",
          "text": [
            "* - Main goods are marked with red color.\n",
            "* - Main servises are marked with red color.\n",
            "Services of language translation of the...\n",
            "An announcement must be commercial character.\n",
            "Goods and services advancement through the P.O.Box system is NOT ALLOWED.\n"
          ],
          "name": "stdout"
        }
      ]
    },
    {
      "cell_type": "code",
      "metadata": {
        "colab": {
          "base_uri": "https://localhost:8080/"
        },
        "id": "0SzD-3Wolw5k",
        "outputId": "939058b3-6d35-4e6f-f5be-0129f2e42849"
      },
      "source": [
        "!head -5 $CC_fr"
      ],
      "execution_count": 14,
      "outputs": [
        {
          "output_type": "stream",
          "text": [
            "* - les marchandises principales sont soulignes par la couleur rouge.\n",
            "* - les services principales sont soulignes par la couleur rouge.\n",
            "Services de traduction de la documentation...\n",
            "Les messages doivent porter le caractère d’affaire commercial.\n",
            "L’avance de ses marchandises et de ses services par le systèmes de B.P. N’EST PAS ADMISE.\n"
          ],
          "name": "stdout"
        }
      ]
    },
    {
      "cell_type": "code",
      "metadata": {
        "colab": {
          "base_uri": "https://localhost:8080/"
        },
        "id": "b_XBW4SMl2LE",
        "outputId": "a3341e37-299e-4352-906b-5228bfddbcf1"
      },
      "source": [
        "!wc -l $CC_en\n",
        "!wc -l $CC_fr"
      ],
      "execution_count": 15,
      "outputs": [
        {
          "output_type": "stream",
          "text": [
            "3244152 /content/drive/MyDrive/Multilingual_Multimodal_Universal_MT/Domain_Adaptation/DataAdaptation/Corpora/out-of-domain/CommonCrawl/commoncrawl.fr-en.en\n",
            "3244152 /content/drive/MyDrive/Multilingual_Multimodal_Universal_MT/Domain_Adaptation/DataAdaptation/Corpora/out-of-domain/CommonCrawl/commoncrawl.fr-en.fr\n"
          ],
          "name": "stdout"
        }
      ]
    },
    {
      "cell_type": "markdown",
      "metadata": {
        "id": "wBT22vo5nHya"
      },
      "source": [
        "**Europarl v7**"
      ]
    },
    {
      "cell_type": "code",
      "metadata": {
        "id": "7-DJo7ILnLmY"
      },
      "source": [
        "Europarl_en = path + \"/Europarl-v7/training/\" + \"europarl-v7.fr-en.en\""
      ],
      "execution_count": 19,
      "outputs": []
    },
    {
      "cell_type": "code",
      "metadata": {
        "id": "vClHtHLNoLCh"
      },
      "source": [
        "Europarl_fr = path + \"/Europarl-v7/training/\" + \"europarl-v7.fr-en.fr\""
      ],
      "execution_count": 20,
      "outputs": []
    },
    {
      "cell_type": "code",
      "metadata": {
        "colab": {
          "base_uri": "https://localhost:8080/"
        },
        "id": "fWX2t84boj8K",
        "outputId": "664d116e-94dc-497f-e67c-b3ada3b13cdf"
      },
      "source": [
        "!head -5 $Europarl_en"
      ],
      "execution_count": 21,
      "outputs": [
        {
          "output_type": "stream",
          "text": [
            "Resumption of the session\n",
            "I declare resumed the session of the European Parliament adjourned on Friday 17 December 1999, and I would like once again to wish you a happy new year in the hope that you enjoyed a pleasant festive period.\n",
            "Although, as you will have seen, the dreaded 'millennium bug' failed to materialise, still the people in a number of countries suffered a series of natural disasters that truly were dreadful.\n",
            "You have requested a debate on this subject in the course of the next few days, during this part-session.\n",
            "In the meantime, I should like to observe a minute' s silence, as a number of Members have requested, on behalf of all the victims concerned, particularly those of the terrible storms, in the various countries of the European Union.\n"
          ],
          "name": "stdout"
        }
      ]
    },
    {
      "cell_type": "code",
      "metadata": {
        "colab": {
          "base_uri": "https://localhost:8080/"
        },
        "id": "nQqyJ5lNornV",
        "outputId": "6c3b2681-62b9-41c9-a637-a7a3012872e7"
      },
      "source": [
        "!head -5 $Europarl_fr"
      ],
      "execution_count": 22,
      "outputs": [
        {
          "output_type": "stream",
          "text": [
            "Reprise de la session\n",
            "Je déclare reprise la session du Parlement européen qui avait été interrompue le vendredi 17 décembre dernier et je vous renouvelle tous mes vux en espérant que vous avez passé de bonnes vacances.\n",
            "Comme vous avez pu le constater, le grand \"bogue de l'an 2000\" ne s'est pas produit. En revanche, les citoyens d'un certain nombre de nos pays ont été victimes de catastrophes naturelles qui ont vraiment été terribles.\n",
            "Vous avez souhaité un débat à ce sujet dans les prochains jours, au cours de cette période de session.\n",
            "En attendant, je souhaiterais, comme un certain nombre de collègues me l'ont demandé, que nous observions une minute de silence pour toutes les victimes, des tempêtes notamment, dans les différents pays de l'Union européenne qui ont été touchés.\n"
          ],
          "name": "stdout"
        }
      ]
    },
    {
      "cell_type": "code",
      "metadata": {
        "colab": {
          "base_uri": "https://localhost:8080/"
        },
        "id": "0zVgTd2NouTL",
        "outputId": "e39ec921-e7ab-4a41-913b-5c192bc8dcd5"
      },
      "source": [
        "!wc -l $Europarl_en\n",
        "!wc -l $Europarl_fr"
      ],
      "execution_count": 23,
      "outputs": [
        {
          "output_type": "stream",
          "text": [
            "2007723 /content/drive/MyDrive/Multilingual_Multimodal_Universal_MT/Domain_Adaptation/DataAdaptation/Corpora/out-of-domain/Europarl-v7/training/europarl-v7.fr-en.en\n",
            "2007723 /content/drive/MyDrive/Multilingual_Multimodal_Universal_MT/Domain_Adaptation/DataAdaptation/Corpora/out-of-domain/Europarl-v7/training/europarl-v7.fr-en.fr\n"
          ],
          "name": "stdout"
        }
      ]
    },
    {
      "cell_type": "markdown",
      "metadata": {
        "id": "WUYa3a4apMUi"
      },
      "source": [
        "**News Commentary v10**"
      ]
    },
    {
      "cell_type": "code",
      "metadata": {
        "id": "88Pl_qAxpLzB"
      },
      "source": [
        "NC_en = path + \"/News-Commentary-v10/\" + \"news-commentary-v10.fr-en.en\"\n",
        "NC_fr = path + \"/News-Commentary-v10/\" + \"news-commentary-v10.fr-en.fr\""
      ],
      "execution_count": 28,
      "outputs": []
    },
    {
      "cell_type": "code",
      "metadata": {
        "colab": {
          "base_uri": "https://localhost:8080/"
        },
        "id": "-GTWQAKqpjEj",
        "outputId": "e6d4ff2f-8e9f-4278-d4f2-d02ab1408b4d"
      },
      "source": [
        "!head -5 $NC_en"
      ],
      "execution_count": 29,
      "outputs": [
        {
          "output_type": "stream",
          "text": [
            "$10,000 Gold?\n",
            "SAN FRANCISCO – It has never been easy to have a rational conversation about the value of gold.\n",
            "Lately, with gold prices up more than 300% over the last decade, it is harder than ever.\n",
            "Just last December, fellow economists Martin Feldstein and Nouriel Roubini each penned op-eds bravely questioning bullish market sentiment, sensibly pointing out gold’s risks.\n",
            "Wouldn’t you know it?\n"
          ],
          "name": "stdout"
        }
      ]
    },
    {
      "cell_type": "code",
      "metadata": {
        "colab": {
          "base_uri": "https://localhost:8080/"
        },
        "id": "4AsERAl6pram",
        "outputId": "008d4d4a-1eef-4f92-f9a1-593c6037ae04"
      },
      "source": [
        "!head -5 $NC_fr"
      ],
      "execution_count": 30,
      "outputs": [
        {
          "output_type": "stream",
          "text": [
            "L’or à 10.000 dollars l’once ?\n",
            "SAN FRANCISCO – Il n’a jamais été facile d’avoir une discussion rationnelle sur la valeur du métal jaune.\n",
            "Et aujourd’hui, alors que le cours de l’or a augmenté de 300 pour cent au cours de la dernière décennie, c’est plus difficile que jamais.\n",
            "En décembre dernier, mes collègues économistes Martin Feldstein et Nouriel Roubini ont chacun publié une tribune libre dans laquelle ils doutaient courageusement du marché haussier, soulignant de manière sensée les risques liés à l’or.\n",
            "Mais devinez ce qui s’est passé ?\n"
          ],
          "name": "stdout"
        }
      ]
    },
    {
      "cell_type": "code",
      "metadata": {
        "colab": {
          "base_uri": "https://localhost:8080/"
        },
        "id": "9S_YUKuTpuK6",
        "outputId": "c6f76a3a-1ada-4ebd-bdc5-894a3e95c1f5"
      },
      "source": [
        "!wc -l $NC_en\n",
        "!wc -l $NC_fr"
      ],
      "execution_count": 31,
      "outputs": [
        {
          "output_type": "stream",
          "text": [
            "200239 /content/drive/MyDrive/Multilingual_Multimodal_Universal_MT/Domain_Adaptation/DataAdaptation/Corpora/out-of-domain/News-Commentary-v10/news-commentary-v10.fr-en.en\n",
            "200239 /content/drive/MyDrive/Multilingual_Multimodal_Universal_MT/Domain_Adaptation/DataAdaptation/Corpora/out-of-domain/News-Commentary-v10/news-commentary-v10.fr-en.fr\n"
          ],
          "name": "stdout"
        }
      ]
    },
    {
      "cell_type": "markdown",
      "metadata": {
        "id": "pn8JgLrYqTKP"
      },
      "source": [
        "**United Nation**"
      ]
    },
    {
      "cell_type": "code",
      "metadata": {
        "id": "FTGqBz6YqVtV"
      },
      "source": [
        "UN_en = path + \"/UN-en-fr/en-fr/\" + \"UNv1.0.en-fr.en\"\n",
        "UN_fr = path + \"/UN-en-fr/en-fr/\" + \"UNv1.0.en-fr.fr\""
      ],
      "execution_count": 65,
      "outputs": []
    },
    {
      "cell_type": "code",
      "metadata": {
        "colab": {
          "base_uri": "https://localhost:8080/"
        },
        "id": "OIR0hNkotEOo",
        "outputId": "12135cf3-065c-4036-894c-9bca9e404b49"
      },
      "source": [
        "!head -10 $UN_en"
      ],
      "execution_count": 66,
      "outputs": [
        {
          "output_type": "stream",
          "text": [
            "UNITED NATIONS\n",
            "E\n",
            "Economic and Social Council\n",
            "Distr.\n",
            "GENERAL\n",
            "2 February 1999\n",
            "ENGLISH Original: FRENCH\n",
            "ECONOMIC COMMISSION FOR EUROPE\n",
            "INLAND TRANSPORT COMMITTEE\n",
            "Working Party on the Construction of Vehicles\n"
          ],
          "name": "stdout"
        }
      ]
    },
    {
      "cell_type": "code",
      "metadata": {
        "colab": {
          "base_uri": "https://localhost:8080/"
        },
        "id": "Vd129frpzNKK",
        "outputId": "5d9c4f50-7f4c-4884-85ab-094a51486689"
      },
      "source": [
        "!head -10 $UN_fr"
      ],
      "execution_count": 67,
      "outputs": [
        {
          "output_type": "stream",
          "text": [
            "NATIONS\n",
            "E\n",
            "Conseil Économique\n",
            "Distr.\n",
            "GÉNÉRALE\n",
            "2 février 1999\n",
            "Original : FRANÇAIS\n",
            "COMMISSION ÉCONOMIQUE POUR L'EUROPE\n",
            "COMITÉ DES TRANSPORTS INTÉRIEURS\n",
            "Groupe de travail de la construction des véhicules\n"
          ],
          "name": "stdout"
        }
      ]
    },
    {
      "cell_type": "code",
      "metadata": {
        "id": "_LGTXpADzgea"
      },
      "source": [
        "!wc -l $UN_en\n",
        "!wc -l $UN_fr"
      ],
      "execution_count": null,
      "outputs": []
    }
  ]
}