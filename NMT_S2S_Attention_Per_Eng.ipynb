{
  "nbformat": 4,
  "nbformat_minor": 0,
  "metadata": {
    "colab": {
      "name": "NMT_S2S_Attention_Per_Eng.ipynb",
      "provenance": [],
      "collapsed_sections": [],
      "mount_file_id": "1PGxuxdA_1N2kYa9iSZLIFCdj0HtCBYtL",
      "authorship_tag": "ABX9TyPLD95JAfwuDPUawpAx82mN",
      "include_colab_link": true
    },
    "kernelspec": {
      "name": "python3",
      "display_name": "Python 3"
    },
    "accelerator": "TPU"
  },
  "cells": [
    {
      "cell_type": "markdown",
      "metadata": {
        "id": "view-in-github",
        "colab_type": "text"
      },
      "source": [
        "<a href=\"https://colab.research.google.com/github/JoyeBright/Multilingual_Multimodal_Universal_MT/blob/main/NMT_S2S_Attention_Per_Eng.ipynb\" target=\"_parent\"><img src=\"https://colab.research.google.com/assets/colab-badge.svg\" alt=\"Open In Colab\"/></a>"
      ]
    },
    {
      "cell_type": "markdown",
      "metadata": {
        "id": "47SI7-dTSvb7"
      },
      "source": [
        "## **Hardware spec.**"
      ]
    },
    {
      "cell_type": "code",
      "metadata": {
        "colab": {
          "base_uri": "https://localhost:8080/"
        },
        "id": "1jsQQtyrRbDo",
        "outputId": "14f82cbb-a114-4914-9a61-1ffafa3b3f07"
      },
      "source": [
        "!cat /proc/cpuinfo\n",
        "!cat /proc/meminfo"
      ],
      "execution_count": 1,
      "outputs": [
        {
          "output_type": "stream",
          "text": [
            "processor\t: 0\n",
            "vendor_id\t: GenuineIntel\n",
            "cpu family\t: 6\n",
            "model\t\t: 63\n",
            "model name\t: Intel(R) Xeon(R) CPU @ 2.30GHz\n",
            "stepping\t: 0\n",
            "microcode\t: 0x1\n",
            "cpu MHz\t\t: 2299.998\n",
            "cache size\t: 46080 KB\n",
            "physical id\t: 0\n",
            "siblings\t: 2\n",
            "core id\t\t: 0\n",
            "cpu cores\t: 1\n",
            "apicid\t\t: 0\n",
            "initial apicid\t: 0\n",
            "fpu\t\t: yes\n",
            "fpu_exception\t: yes\n",
            "cpuid level\t: 13\n",
            "wp\t\t: yes\n",
            "flags\t\t: fpu vme de pse tsc msr pae mce cx8 apic sep mtrr pge mca cmov pat pse36 clflush mmx fxsr sse sse2 ss ht syscall nx pdpe1gb rdtscp lm constant_tsc rep_good nopl xtopology nonstop_tsc cpuid tsc_known_freq pni pclmulqdq ssse3 fma cx16 pcid sse4_1 sse4_2 x2apic movbe popcnt aes xsave avx f16c rdrand hypervisor lahf_lm abm invpcid_single ssbd ibrs ibpb stibp fsgsbase tsc_adjust bmi1 avx2 smep bmi2 erms invpcid xsaveopt arat md_clear arch_capabilities\n",
            "bugs\t\t: cpu_meltdown spectre_v1 spectre_v2 spec_store_bypass l1tf mds swapgs\n",
            "bogomips\t: 4599.99\n",
            "clflush size\t: 64\n",
            "cache_alignment\t: 64\n",
            "address sizes\t: 46 bits physical, 48 bits virtual\n",
            "power management:\n",
            "\n",
            "processor\t: 1\n",
            "vendor_id\t: GenuineIntel\n",
            "cpu family\t: 6\n",
            "model\t\t: 63\n",
            "model name\t: Intel(R) Xeon(R) CPU @ 2.30GHz\n",
            "stepping\t: 0\n",
            "microcode\t: 0x1\n",
            "cpu MHz\t\t: 2299.998\n",
            "cache size\t: 46080 KB\n",
            "physical id\t: 0\n",
            "siblings\t: 2\n",
            "core id\t\t: 0\n",
            "cpu cores\t: 1\n",
            "apicid\t\t: 1\n",
            "initial apicid\t: 1\n",
            "fpu\t\t: yes\n",
            "fpu_exception\t: yes\n",
            "cpuid level\t: 13\n",
            "wp\t\t: yes\n",
            "flags\t\t: fpu vme de pse tsc msr pae mce cx8 apic sep mtrr pge mca cmov pat pse36 clflush mmx fxsr sse sse2 ss ht syscall nx pdpe1gb rdtscp lm constant_tsc rep_good nopl xtopology nonstop_tsc cpuid tsc_known_freq pni pclmulqdq ssse3 fma cx16 pcid sse4_1 sse4_2 x2apic movbe popcnt aes xsave avx f16c rdrand hypervisor lahf_lm abm invpcid_single ssbd ibrs ibpb stibp fsgsbase tsc_adjust bmi1 avx2 smep bmi2 erms invpcid xsaveopt arat md_clear arch_capabilities\n",
            "bugs\t\t: cpu_meltdown spectre_v1 spectre_v2 spec_store_bypass l1tf mds swapgs\n",
            "bogomips\t: 4599.99\n",
            "clflush size\t: 64\n",
            "cache_alignment\t: 64\n",
            "address sizes\t: 46 bits physical, 48 bits virtual\n",
            "power management:\n",
            "\n",
            "MemTotal:       13333596 kB\n",
            "MemFree:        10015320 kB\n",
            "MemAvailable:   12493060 kB\n",
            "Buffers:          103344 kB\n",
            "Cached:          2495248 kB\n",
            "SwapCached:            0 kB\n",
            "Active:           947488 kB\n",
            "Inactive:        2088240 kB\n",
            "Active(anon):     391120 kB\n",
            "Inactive(anon):      368 kB\n",
            "Active(file):     556368 kB\n",
            "Inactive(file):  2087872 kB\n",
            "Unevictable:           0 kB\n",
            "Mlocked:               0 kB\n",
            "SwapTotal:             0 kB\n",
            "SwapFree:              0 kB\n",
            "Dirty:               844 kB\n",
            "Writeback:             0 kB\n",
            "AnonPages:        437200 kB\n",
            "Mapped:           247376 kB\n",
            "Shmem:              1016 kB\n",
            "Slab:             190380 kB\n",
            "SReclaimable:     148356 kB\n",
            "SUnreclaim:        42024 kB\n",
            "KernelStack:        4528 kB\n",
            "PageTables:         6188 kB\n",
            "NFS_Unstable:          0 kB\n",
            "Bounce:                0 kB\n",
            "WritebackTmp:          0 kB\n",
            "CommitLimit:     6666796 kB\n",
            "Committed_AS:    3244068 kB\n",
            "VmallocTotal:   34359738367 kB\n",
            "VmallocUsed:           0 kB\n",
            "VmallocChunk:          0 kB\n",
            "Percpu:             1024 kB\n",
            "AnonHugePages:         0 kB\n",
            "ShmemHugePages:        0 kB\n",
            "ShmemPmdMapped:        0 kB\n",
            "HugePages_Total:       0\n",
            "HugePages_Free:        0\n",
            "HugePages_Rsvd:        0\n",
            "HugePages_Surp:        0\n",
            "Hugepagesize:       2048 kB\n",
            "Hugetlb:               0 kB\n",
            "DirectMap4k:       93416 kB\n",
            "DirectMap2M:     7245824 kB\n",
            "DirectMap1G:     8388608 kB\n"
          ],
          "name": "stdout"
        }
      ]
    },
    {
      "cell_type": "markdown",
      "metadata": {
        "id": "99p-OKLPSs0k"
      },
      "source": [
        "## **Import headers**"
      ]
    },
    {
      "cell_type": "code",
      "metadata": {
        "id": "vZfqBktrTczU"
      },
      "source": [
        "import tensorflow as tf\n",
        "\n",
        "from sklearn.model_selection import train_test_split\n",
        "\n",
        "import numpy as np\n",
        "import unicodedata\n",
        "import re\n",
        "import io"
      ],
      "execution_count": 2,
      "outputs": []
    },
    {
      "cell_type": "code",
      "metadata": {
        "colab": {
          "base_uri": "https://localhost:8080/"
        },
        "id": "kYlw1-9NazUq",
        "outputId": "fa720e35-77f8-4771-e850-3040df22aa0c"
      },
      "source": [
        "!pip install hazm"
      ],
      "execution_count": 3,
      "outputs": [
        {
          "output_type": "stream",
          "text": [
            "Requirement already satisfied: hazm in /usr/local/lib/python3.6/dist-packages (0.7.0)\n",
            "Requirement already satisfied: libwapiti>=0.2.1; platform_system != \"Windows\" in /usr/local/lib/python3.6/dist-packages (from hazm) (0.2.1)\n",
            "Requirement already satisfied: nltk==3.3 in /usr/local/lib/python3.6/dist-packages (from hazm) (3.3)\n",
            "Requirement already satisfied: six in /usr/local/lib/python3.6/dist-packages (from libwapiti>=0.2.1; platform_system != \"Windows\"->hazm) (1.15.0)\n"
          ],
          "name": "stdout"
        }
      ]
    },
    {
      "cell_type": "code",
      "metadata": {
        "id": "1rh6nrLka5Zk"
      },
      "source": [
        "from __future__ import unicode_literals\n",
        "from hazm import *"
      ],
      "execution_count": 4,
      "outputs": []
    },
    {
      "cell_type": "markdown",
      "metadata": {
        "id": "5xST28PQU58c"
      },
      "source": [
        "## **Mount corpora**"
      ]
    },
    {
      "cell_type": "code",
      "metadata": {
        "id": "HsyHzchDU4MF"
      },
      "source": [
        "file_path = '/content/drive/MyDrive/Multilingual_Multimodal_Unversal_MT/Parallel Corpora/Per-Eng/manythings/pes-eng/pes.txt'"
      ],
      "execution_count": 5,
      "outputs": []
    },
    {
      "cell_type": "markdown",
      "metadata": {
        "id": "5rmtGQSpWIRk"
      },
      "source": [
        "## **Preprocessing**"
      ]
    },
    {
      "cell_type": "code",
      "metadata": {
        "id": "zcSvWGE7Vzz1"
      },
      "source": [
        "def unicode_to_ascii(s):\n",
        "  return ''.join(c for c in unicodedata.normalize('NFD', s)\n",
        "      if unicodedata.category(c) != 'Mn') \n",
        "\n",
        "def preprocess_sentence(w):\n",
        "  w = unicode_to_ascii(w.lower().strip()) # lowercase\n",
        "  w = re.sub(r\"([?.!,¿])\", r\" \\1 \", w) # creating a space between every word and punctuation\n",
        "  w = re.sub(r'[\" \"]+', \" \", w)\n",
        "  w = re.sub(r\"[^a-zA-Z?.!,¿]+\", \" \", w) # replacing every word with space except those defined\n",
        "\n",
        "  w = w.strip() # remove space from beginning and end of string\n",
        "  w = '<start> '+ w + ' <end>' # later model needs this to know where to start and stop\n",
        "\n",
        "  return w\n",
        "\n",
        "def preprocess_per_sentence(w):\n",
        "  normalizer = Normalizer() # Persian normalizer instance (Hazm)\n",
        "  normalizer.normalize(w)\n",
        "  w = unicode_to_ascii(w.lower().strip()) # lowercase\n",
        "  w = re.sub(r'[\" \"]+', \" \", w)\n",
        "  w = re.sub(r\"([?.!,¿])\", r\" \\1 \", w)\n",
        "  w = '<start> '+ w + ' <end>'\n",
        "\n",
        "  return w\n"
      ],
      "execution_count": 6,
      "outputs": []
    },
    {
      "cell_type": "markdown",
      "metadata": {
        "id": "8jwu0zIHeN97"
      },
      "source": [
        "## **An example**"
      ]
    },
    {
      "cell_type": "code",
      "metadata": {
        "colab": {
          "base_uri": "https://localhost:8080/"
        },
        "id": "S_RB3V4QYL0q",
        "outputId": "147dc87f-2e4c-43a0-eba0-0415c036e5b5"
      },
      "source": [
        "eng_sentence = \"You have beautiful hands.\"\n",
        "per_sentence =\"تو دستهای زیبایی داری.\"\n",
        "\n",
        "\n",
        "print(preprocess_sentence(eng_sentence))\n",
        "print(preprocess_per_sentence(per_sentence))"
      ],
      "execution_count": 7,
      "outputs": [
        {
          "output_type": "stream",
          "text": [
            "<start> you have beautiful hands . <end>\n",
            "<start> تو دستهای زیبایی داری .  <end>\n"
          ],
          "name": "stdout"
        }
      ]
    },
    {
      "cell_type": "markdown",
      "metadata": {
        "id": "sqGOn_WcWboq"
      },
      "source": [
        "## **Create a dataset (word pair) from corpus**"
      ]
    },
    {
      "cell_type": "code",
      "metadata": {
        "id": "gGLaLO0leQeq"
      },
      "source": [
        "def create_dataset(path, num_examples):\n",
        "  lines = io.open(path, encoding=\"UTF-8\").read().strip().split('\\n')\n",
        "  word_pairs = [[preprocess_per_sentence(w) for w in l.split('\\t')]  for l in lines[:num_examples]]\n",
        "\n",
        "  return zip(*word_pairs) # zip used for parallel iteration"
      ],
      "execution_count": 8,
      "outputs": []
    },
    {
      "cell_type": "code",
      "metadata": {
        "id": "Yrjyp_mRSuLo"
      },
      "source": [
        "en, per, info = create_dataset(file_path, None) # info is an explanation which included in the corpus"
      ],
      "execution_count": 9,
      "outputs": []
    },
    {
      "cell_type": "code",
      "metadata": {
        "colab": {
          "base_uri": "https://localhost:8080/"
        },
        "id": "gt5XhN3PDLaH",
        "outputId": "76115518-3da0-4d28-89bd-63f35d6ae658"
      },
      "source": [
        "print(en[-3])\n",
        "print(per[-3])\n",
        "print(info[-3])"
      ],
      "execution_count": 10,
      "outputs": [
        {
          "output_type": "stream",
          "text": [
            "<start> the difference between the right word and almost the right word is the difference between lightning and the lightning bug .  <end>\n",
            "<start> تفاوت بین کلمه صحیح و کلمه تقریبا صحیح مانند تفاوت بین مهتاب و کرم شب‌تاب است .  <end>\n",
            "<start> cc-by 2 . 0 (france) attribution: tatoeba . org #667975 (ck) & #7525272 (cojiluc) <end>\n"
          ],
          "name": "stdout"
        }
      ]
    },
    {
      "cell_type": "code",
      "metadata": {
        "id": "frvP8TX_WRox"
      },
      "source": [
        "def tokenize(lang):\n",
        "  language_tokenizer = tf.keras.preprocessing.text.Tokenizer(filters = '')\n",
        "  \n",
        "  # Creating the vocabulary index based on word frequency.\n",
        "  # 0 is a reserved index that won't be assigned to any word\n",
        "  language_tokenizer.fit_on_texts(lang) \n",
        "\n",
        "  # Transforming each text in texts to a sequence of integers\n",
        "  tensor = language_tokenizer.texts_to_sequences(lang) \n",
        "\n",
        "  # pads the sequences to the same length.\n",
        "  # seq = [[1], [2, 3], [4, 5, 6]]\n",
        "  # post-padding\n",
        "  # array([[1, 0, 0],\n",
        "  #          [2, 3, 0],\n",
        "  #          [4, 5, 6]])\n",
        "  tensor = tf.keras.preprocessing.sequence.pad_sequences(tensor, padding='post')\n",
        "  \n",
        "  return tensor, language_tokenizer"
      ],
      "execution_count": 11,
      "outputs": []
    },
    {
      "cell_type": "code",
      "metadata": {
        "id": "qnMUJ4JClpQC"
      },
      "source": [
        "def load_dataset(path, number_examples = None):\n",
        "  target_language, source_language, info = create_dataset(path, number_examples)\n",
        "\n",
        "  source_tensor, source_lang_tokenize = tokenize(source_language)\n",
        "  target_tensor, target_lang_tokenize = tokenize(target_language)\n",
        "\n",
        "  return source_tensor, target_tensor, source_lang_tokenize, target_lang_tokenize, info"
      ],
      "execution_count": 12,
      "outputs": []
    },
    {
      "cell_type": "markdown",
      "metadata": {
        "id": "r3ILFUvxnqJr"
      },
      "source": [
        "**Limit/ control the size of dataset to experiment faster**"
      ]
    },
    {
      "cell_type": "code",
      "metadata": {
        "id": "VTaJDsRLnobX"
      },
      "source": [
        "number_examples = 2200 # var\n",
        "source_tensor, target_tensor, source_lang, target_lang, info = load_dataset(file_path, number_examples)\n"
      ],
      "execution_count": 13,
      "outputs": []
    },
    {
      "cell_type": "code",
      "metadata": {
        "id": "lCyI1JTX1pQZ"
      },
      "source": [
        "# Calculating max_length of the source and target tensors\n",
        "max_length_target, max_length_source = target_tensor.shape[1], source_tensor.shape[1]\n",
        "\n",
        "# Using sklearn to creat training and validation sets: 80-20 split\n",
        "source_tensor_train, source_tensor_val, target_tensor_train, target_tensor_val = train_test_split(source_tensor, target_tensor, test_size = 0.2)"
      ],
      "execution_count": 14,
      "outputs": []
    },
    {
      "cell_type": "code",
      "metadata": {
        "colab": {
          "base_uri": "https://localhost:8080/"
        },
        "id": "cNQPRA-e4KgY",
        "outputId": "49030240-d834-42ec-a9d6-426b1f82f0f4"
      },
      "source": [
        "# Print info up to here\n",
        "print(\" training size of source (Per): \", len(source_tensor_train),\"\\n\", \"training size of target (Eng): \", len(target_tensor_train), \"\\n\", \"validation size of source (Per): \", len(source_tensor_val), \"\\n\", \"validation size of target (Eng): \", len(target_tensor_val))"
      ],
      "execution_count": 15,
      "outputs": [
        {
          "output_type": "stream",
          "text": [
            " training size of source (Per):  1760 \n",
            " training size of target (Eng):  1760 \n",
            " validation size of source (Per):  440 \n",
            " validation size of target (Eng):  440\n"
          ],
          "name": "stdout"
        }
      ]
    },
    {
      "cell_type": "markdown",
      "metadata": {
        "id": "yQef_1Ii_Nfk"
      },
      "source": [
        "### **Finding the word from their indices or vice versa (word-index dictionary)**"
      ]
    },
    {
      "cell_type": "code",
      "metadata": {
        "id": "XuZ_aPR0_hKI"
      },
      "source": [
        "def convert(language, tensor):\n",
        "  for t in tensor:\n",
        "    if t!=0:\n",
        "      print(\"%d ––––––> %s\" % (t, language.index_word[t]))"
      ],
      "execution_count": 16,
      "outputs": []
    },
    {
      "cell_type": "code",
      "metadata": {
        "colab": {
          "base_uri": "https://localhost:8080/"
        },
        "id": "qt3pdlGfByaM",
        "outputId": "940da8e4-f1b2-44fa-ddf9-2c3cc8f953b9"
      },
      "source": [
        "print(\"mapping source language: index to word\")\n",
        "convert(source_lang, source_tensor_train[0])\n",
        "print(\"\")\n",
        "print(\"mapping target language: index to word\")\n",
        "convert(target_lang, target_tensor_train[0])"
      ],
      "execution_count": 17,
      "outputs": [
        {
          "output_type": "stream",
          "text": [
            "mapping source language: index to word\n",
            "1 ––––––> <start>\n",
            "1192 ––––––> نمایشگاه\n",
            "25 ––––––> برای\n",
            "14 ––––––> یک\n",
            "376 ––––––> ماه\n",
            "97 ––––––> دیگر\n",
            "142 ––––––> باز\n",
            "314 ––––––> خواهند\n",
            "364 ––––––> ماند\n",
            "3 ––––––> .\n",
            "2 ––––––> <end>\n",
            "\n",
            "mapping target language: index to word\n",
            "1 ––––––> <start>\n",
            "4 ––––––> the\n",
            "968 ––––––> exhibition\n",
            "40 ––––––> will\n",
            "165 ––––––> stay\n",
            "290 ––––––> open\n",
            "23 ––––––> for\n",
            "532 ––––––> another\n",
            "537 ––––––> month\n",
            "3 ––––––> .\n",
            "2 ––––––> <end>\n"
          ],
          "name": "stdout"
        }
      ]
    },
    {
      "cell_type": "markdown",
      "metadata": {
        "id": "HBT8Njk4H8ts"
      },
      "source": [
        "## **Dataset preparation for Tensorflow**\n"
      ]
    },
    {
      "cell_type": "code",
      "metadata": {
        "colab": {
          "base_uri": "https://localhost:8080/"
        },
        "id": "AqCVXCNqH5Lm",
        "outputId": "976188bb-184a-40f0-9b2e-d9425b152250"
      },
      "source": [
        "#Hyperparameters\n",
        "BATCH_SIZE = 64\n",
        "step_per_epoch = len(source_tensor_train) // BATCH_SIZE\n",
        "embedding_dimension = 256\n",
        "units = 1024\n",
        "BUFFER_SIZE = len(source_tensor_train)\n",
        "vocabulary_source_size = len(source_lang.word_index) + 1\n",
        "vocabulary_target_size = len(target_lang.word_index) + 1\n",
        "\n",
        "print(\"Persian vocabulary size: \", vocabulary_source_size)\n",
        "print(\"English vocabulary size: \", vocabulary_target_size)"
      ],
      "execution_count": 18,
      "outputs": [
        {
          "output_type": "stream",
          "text": [
            "Persian vocabulary size:  3533\n",
            "English vocabulary size:  2438\n"
          ],
          "name": "stdout"
        }
      ]
    },
    {
      "cell_type": "code",
      "metadata": {
        "id": "p1P4jQ2WX1u_"
      },
      "source": [
        "# Keras models accept three types of inputs: Numpy array, TF dataset objects(sth I used here), and Python generators\n",
        "dataset = tf.data.Dataset.from_tensor_slices((source_tensor_train, target_tensor_train)).shuffle(BUFFER_SIZE)\n",
        "# drop_remainder ignores the last batch\n",
        "dataset = dataset.batch(BATCH_SIZE, drop_remainder=True)"
      ],
      "execution_count": 19,
      "outputs": []
    },
    {
      "cell_type": "markdown",
      "metadata": {
        "id": "TzaRIW_kydEf"
      },
      "source": [
        "### **An example**"
      ]
    },
    {
      "cell_type": "code",
      "metadata": {
        "colab": {
          "base_uri": "https://localhost:8080/"
        },
        "id": "ztLONwXWeVOy",
        "outputId": "fd3e35f0-b192-4dd7-efec-0d700b0b94e7"
      },
      "source": [
        "example_source_batch, example_target_batch = next(iter(dataset))\n",
        "example_source_batch.shape, example_target_batch.shape"
      ],
      "execution_count": 20,
      "outputs": [
        {
          "output_type": "execute_result",
          "data": {
            "text/plain": [
              "(TensorShape([64, 19]), TensorShape([64, 19]))"
            ]
          },
          "metadata": {
            "tags": []
          },
          "execution_count": 20
        }
      ]
    },
    {
      "cell_type": "markdown",
      "metadata": {
        "id": "U6w8zhe8DWpJ"
      },
      "source": [
        "## **Designing encoder and decoder model with attention**"
      ]
    },
    {
      "cell_type": "markdown",
      "metadata": {
        "id": "dDkzWA-Uyq0F"
      },
      "source": [
        "## **Encoder**\n",
        "![Screen Shot 2021-01-18 at 23.20.58.png](data:image/png;base64,iVBORw0KGgoAAAANSUhEUgAAAQoAAAD6CAYAAABZLglkAAAK12lDQ1BJQ0MgUHJvZmlsZQAASImVlwdUU9kWhs+96SGhJBABKaF3pBNASggtgIJ0EJWQBBJKDAlBRGzI4AiMBRURVEZ0pCk4OgIyFsSCBVFUsDtBBhX1OViwofIu8Agz89Z7b7291rnnWzv77L3PWffc9QcAsh9HLM6AVQHIFGVLIgJ96XHxCXTcEIAABagDLaDN4UrFzPDwUIDY9PxXe9+PRCN202Yi17///l+NwuNLuQBAiQgn86TcTIQ7kPGEK5ZkA4CqQ/xGy7LFE9yNsLoEaRBh+QSnTvG7CU6eZDR+MiYqgoWwDgB4EocjSQWAZI746TncVCQPKQhhOxFPKEI4F2EvroDDQ7gNYevMzKUT/DvC5ki8GAAyCWFG8p9ypv4lf7IiP4eTquCpfU0a3k8oFWdwlv+fR/O/LTNDNl3DFBkkgSQoApmVkfO7k740RMGi5Plh0yzkTcZPskAWFD3NXCkrYZp5HL8QxdqM+aHTnCIMYCvyZLOjppkv9Y+cZsnSCEWtFAmLOc0cyUxdWXq0wi/gsxX58wRRsdOcI4yZP83S9MiQmRiWwi+RRSj654sCfWfqBij2nin9036FbMXabEFUkGLvnJn++SLmTE5pnKI3Ht/PfyYmWhEvzvZV1BJnhCvi+RmBCr80J1KxNht5OWfWhivOMI0THD7NIBI4ADvgCxyRpx0A2fzc7IlNsJaKl0uEqYJsOhO5aXw6W8S1taY72DnYAzBxb6dehbe0yfsI0S7P+DgNADgivcGuM77MRQB0MpCS62d8ZtcAIOYjfhFXJsmZ8qEnHhhABCqTXwQ9YATMgQ3SoQvwAD7AHwSDMBAF4sFiwAUCkAkkYBnIB2tBESgBm8F2UAmqwT5QBw6BI6AVnABnwAVwBVwHfeA+kIMh8AKMgPdgDIIgHESGqJAWpA+ZQFaQA8SAvCB/KBSKgOKhJCgVEkEyKB9aB5VAZVAltBeqh36GjkNnoEtQL3QXGoCGoTfQZxgFk2B1WBc2hefADJgJh8BR8CI4Fc6C8+BCeCNcAdfAB+EW+Ax8Be6D5fALeBQFUEooGsoAZYNioFioMFQCKgUlQa1CFaPKUTWoJlQ7qgt1EyVHvUR9QmPRVDQdbYP2QAeho9FcdBZ6FboUXYmuQ7egz6FvogfQI+hvGDJGB2OFccewMXGYVMwyTBGmHHMAcwxzHtOHGcK8x2KxNKwZ1hUbhI3HpmFXYEuxu7HN2A5sL3YQO4rD4bRwVjhPXBiOg8vGFeF24g7iTuNu4IZwH/FKeH28Az4An4AX4Qvw5fgG/Cn8DfxT/BhBlWBCcCeEEXiE5YRNhP2EdsI1whBhjKhGNCN6EqOIacS1xApiE/E88QHxrZKSkqGSm9ICJaHSGqUKpcNKF5UGlD6RKCRLEouUSJKRNpJqSR2ku6S3ZDLZlOxDTiBnkzeS68lnyY/IH5WpyrbKbGWe8mrlKuUW5RvKr1QIKiYqTJXFKnkq5SpHVa6pvFQlqJqqslQ5qqtUq1SPq95WHVWjqtmrhallqpWqNahdUntGwVFMKf4UHqWQso9yljJIRVGNqCwql7qOup96njqkjlU3U2erp6mXqB9S71Ef0aBoOGnEaORqVGmc1JDTUDRTGpuWQdtEO0Lrp32epTuLOYs/a8Osplk3Zn3QnK3po8nXLNZs1uzT/KxF1/LXStfaotWq9VAbrW2pvUB7mfYe7fPaL2erz/aYzZ1dPPvI7Hs6sI6lToTOCp19Ot06o7p6uoG6Yt2dumd1X+rR9Hz00vS26Z3SG9an6nvpC/W36Z/Wf07XoDPpGfQK+jn6iIGOQZCBzGCvQY/BmKGZYbRhgWGz4UMjohHDKMVom1Gn0YixvvE843zjRuN7JgQThonAZIdJl8kHUzPTWNP1pq2mz8w0zdhmeWaNZg/Myebe5lnmNea3LLAWDIt0i90W1y1hS2dLgWWV5TUr2MrFSmi126rXGmPtZi2yrrG+bUOyYdrk2DTaDNjSbENtC2xbbV/NMZ6TMGfLnK453+yc7TLs9tvdt6fYB9sX2Lfbv3GwdOA6VDncciQ7BjiudmxzfO1k5cR32uN0x5nqPM95vXOn81cXVxeJS5PLsKuxa5LrLtfbDHVGOKOUcdEN4+brttrthNsndxf3bPcj7n942HikezR4PJtrNpc/d//cQU9DT47nXk+5F90ryetHL7m3gTfHu8b7sY+RD8/ngM9TpgUzjXmQ+crXzlfie8z3A8udtZLV4YfyC/Qr9uvxp/hH+1f6PwowDEgNaAwYCXQOXBHYEYQJCgnaEnSbrcvmsuvZI8GuwSuDz4WQQiJDKkMeh1qGSkLb58Hzgudtnfdgvsl80fzWMBDGDtsa9jDcLDwr/NcF2AXhC6oWPImwj8iP6IqkRi6JbIh8H+UbtSnqfrR5tCy6M0YlJjGmPuZDrF9sWaw8bk7cyrgr8drxwvi2BFxCTMKBhNGF/gu3LxxKdE4sSuxfZLYod9GlxdqLMxafXKKyhLPkaBImKTapIekLJ4xTwxlNZifvSh7hsrg7uC94PrxtvGG+J7+M/zTFM6Us5VmqZ+rW1GGBt6Bc8FLIElYKX6cFpVWnfUgPS69NH8+IzWjOxGcmZR4XUUTponNL9ZbmLu0VW4mLxPIs96ztWSOSEMkBKSRdJG3LVkcEUrfMXPadbCDHK6cq5+OymGVHc9VyRbndyy2Xb1j+NC8g76cV6BXcFZ35Bvlr8wdWMlfuXQWtSl7VudpodeHqoTWBa+rWEtemr71aYFdQVvBuXey69kLdwjWFg98FftdYpFwkKbq93mN99ffo74Xf92xw3LBzw7diXvHlEruS8pIvpdzSyz/Y/1Dxw/jGlI09m1w27dmM3Sza3L/Fe0tdmVpZXtng1nlbW7bRtxVve7d9yfZL5U7l1TuIO2Q75BWhFW07jXdu3vmlUlDZV+Vb1bxLZ9eGXR9283bf2OOzp6lat7qk+vOPwh/v7A3c21JjWlO+D7svZ9+T/TH7u35i/FR/QPtAyYGvtaJaeV1E3bl61/r6Bp2GTY1wo6xx+GDiweuH/A61Ndk07W2mNZccBodlh5//nPRz/5GQI51HGUebfjH5Zdcx6rHiFqhlectIq6BV3hbf1ns8+Hhnu0f7sV9tf609YXCi6qTGyU2niKcKT42fzjs92iHueHkm9cxg55LO+2fjzt46t+Bcz/mQ8xcvBFw428XsOn3R8+KJS+6Xjl9mXG694nKlpdu5+9hV56vHelx6Wq65Xmu77na9vXdu76kb3jfO3PS7eeEW+9aVvvl9vf3R/XduJ96W3+HdeXY34+7rezn3xu6veYB5UPxQ9WH5I51HNb9Z/NYsd5GfHPAb6H4c+fj+IHfwxe/S378MFT4hPyl/qv+0/pnDsxPDAcPXny98PvRC/GLsZdE/1P6x65X5q1/+8PmjeyRuZOi15PX4m9K3Wm9r3zm96xwNH330PvP92Ifij1of6z4xPnV9jv38dGzZF9yXiq8WX9u/hXx7MJ45Pi7mSDiTUgCFDDglBYA3tYgujgeAeh3RCwundPWkQVP/BSYJ/Cee0t6T5gLAvjUATMi+CUlV7YNokA4kJzIm5FCUD4AdHRXjXyZNcXSYykVCVCXm4/j4W10AcO0AfJWMj4/tHh//uh9p9i4AHVlTen7CQm0QKV7nGOdgd7nmKvi7TWn9P+3x7zOY6MAJ/H3+J5fUFbJikv2sAAAAVmVYSWZNTQAqAAAACAABh2kABAAAAAEAAAAaAAAAAAADkoYABwAAABIAAABEoAIABAAAAAEAAAEKoAMABAAAAAEAAAD6AAAAAEFTQ0lJAAAAU2NyZWVuc2hvdIIf/+wAAAHWaVRYdFhNTDpjb20uYWRvYmUueG1wAAAAAAA8eDp4bXBtZXRhIHhtbG5zOng9ImFkb2JlOm5zOm1ldGEvIiB4OnhtcHRrPSJYTVAgQ29yZSA2LjAuMCI+CiAgIDxyZGY6UkRGIHhtbG5zOnJkZj0iaHR0cDovL3d3dy53My5vcmcvMTk5OS8wMi8yMi1yZGYtc3ludGF4LW5zIyI+CiAgICAgIDxyZGY6RGVzY3JpcHRpb24gcmRmOmFib3V0PSIiCiAgICAgICAgICAgIHhtbG5zOmV4aWY9Imh0dHA6Ly9ucy5hZG9iZS5jb20vZXhpZi8xLjAvIj4KICAgICAgICAgPGV4aWY6UGl4ZWxZRGltZW5zaW9uPjI1MDwvZXhpZjpQaXhlbFlEaW1lbnNpb24+CiAgICAgICAgIDxleGlmOlBpeGVsWERpbWVuc2lvbj4yNjY8L2V4aWY6UGl4ZWxYRGltZW5zaW9uPgogICAgICAgICA8ZXhpZjpVc2VyQ29tbWVudD5TY3JlZW5zaG90PC9leGlmOlVzZXJDb21tZW50PgogICAgICA8L3JkZjpEZXNjcmlwdGlvbj4KICAgPC9yZGY6UkRGPgo8L3g6eG1wbWV0YT4KwAGQQwAAQABJREFUeAHtvXeUXUd+Hvi90Dk3OgGNnCMBAiABgpkEySGHM5rRcKQZabT2WvJKa6/P2sc+e/Yf7z+rPfb67Np7vJI1ylrNaCJHExiHOQKMCETOuRM65/DCfl/dV+/dbvTrbgD9Gt2vq4B+9966Fb+q+u6vfpUCcRo44xBwCDgEJkAgOME798oh4BBwCBgEHFG4iuAQcAhMioAjikkhcg4cAg4BRxSuDjgEHAKTIuCIYlKInAOHgEPAEYWrAw4Bh8CkCDiimBQi58Ah4BBwROHqgEPAITApAo4oJoXIOXAIOAQcUbg64BBwCEyKgCOKSSFyDhwCDgFHFK4OOAQcApMi4IhiUoicA4eAQ8ARhasDDgGHwKQIOKKYFCLnwCHgEHBE4eqAQ8AhMCkCjigmhcg5cAg4BBxRuDrgEHAITIqAI4pJIXIOHAIOAUcUrg44BBwCkyLgiGJSiJwDh4BDwBGFqwMOAYfApAg4opgUIufAIeAQCDsIHAJzB4GoSWoMIYDH0ehAmkAgAPe1y3wJOowzj7GLYdoQEDWkzqvqaG/HK6+8TM4gabhzrKYN5fECckQxHirObpYioOoaMGkbGh7GB/s+wa9ffQMXLlyYpenNnmQ5osiespwnOfGIore3Dy+++CIaGhuxb98+0wWZJwDckWw6orgjsLtIbw0BVVevyr777vu41ngdfUMRHDh6AidOnUkG6boiSSim7cYRxbRB6QLKPAKejqKvr9/TTVBfIVK4ePESPv38cwyzO+JMZhBwRJEZXF2oGUHAI4rXXn8Ljc3XEeM/jYP0DgzjiyPHcP78eafUzAjuVo7LUOAuWIfAdCIgmmjv6MAvX3hB46II+oZGpdA8dOgwBgcHTZQBKT09XpnOJMzbsJxEMW+Lfu5lPB4P4KWXX0XT9VZEeR8gEXiqTaC/fxAHD3yBC+cuJu3mXg5nb4odUczesnEpG4NAQ2ML3n73A0oKHj1YgUFTr3R/lrqKw0ePoX9g0DyP8e4ebwMBRxS3AZ7zOrMIvPbGW2i53k6eCCT+gJjhDI8o+geH8emBQ2hoap7ZhM2D2BxRzINCnutZ9EY2LuLDfR8iGh1BmPJCiKMdMUkWFCWCRn7wRkDOnTuHL744wq5I/1zP9qxKv1vrMauKwyUmHQJtbW3YvGkT1qxZQ2IIYoBKy/2ffEpdRRwL62qxYf1GxCleBOJR0kaAQ6UjKCpMF5qzv1kEHFHcLGLO/YwjoIVfGzZswPKVKzn86Q3VXW9tw/6PPzbSxbrVq/AH/+R3E7qLOMLhEIqKimY8ndkcoSOKbC7dLMmbuh4FBQXIL/REBPWXRyIjCAUDiMXiyM/JRWVFRWq0Q2zizLQi4IhiWuF0gWUCAUkUMt5vIgZywQh1FOqGGON/mXCfcOku04CAU2ZOA4guCIdAtiPgiCLbS9jlzyEwDQg4opgGEF0QDoFsR8ARRbaXcLbmjzoJW3mlunTqy8wWtMU6s7G40B0CDoE5jYAjijldfC7xDoGZQcARxczg7GKZbgTY14j5wvSPjvqs3e00IeCIYpqAdMHcOQQcSWQee0cUmcfYxeAQmPMIOKKY80XoMuAQyDwCjigyj7GLwSEw5xFwRDHni9BlwCGQeQQcUWQeYxeDQ2DOI+CIYs4XocuAQyDzCDiiyDzGLgaHwJxHwBHFnC9ClwGHQOYRcESReYxdDA6BOY+AI4o5X4QuAw6BzCPgiCLzGLsYHAJzHgFHFHO+CF0GHAKZR8ARReYxdjE4BOY8Ao4o5nwRzscMaIG5jvnhlScV61hBt8NVZuuBI4rM4utCzxgCHjVoZ/7EmcUZi8kFDB605IxDYI4iEIzHzFkfOofU7UmR2UJ0EkVm8XWhOwSyAoEAj2tz3busKMr5lQlVWltx3dcu82XvMM48xi4Gh8CcR8DpKOZ8Ec7PDEgn4fQSM1f2jihGYW2FWb+lqqO1n3rV9HxIyaY7V60tovEklkJlfDwt2vIzyoV94be0dgw3eTveocY2AeaacGkuicD8YY5y6x6EgOt63FAPVHvsn3059tnap7+mfGjM37+xfHo/8+GNmrOvSafNsvC7eTPV0BXyrcVw82nKDh9OorihHPVpsZXIXqf+ubE+bLDxBBdPPQTrMzuvfiliLFaC3eKUEAqSJeGVivXhubJuhZTeeG8ZQ0I/n3RtAxsFqSfrWSt/WNbOXVMIOKJIYcE7W11sFdNL3cvevpNdeuP3KT92hH9qvtOHmy1vLFGkk7H8SFs3Frs4Z2F6xrOx9hYbYS0nxp4/1rV9n7omfCbcJJ5Sr93dDQg4orgBElYwzQlOVCK9VkUyMwDHjCQHfF8qVUr9ya1GnP3vaOVMAgE/TklQiJfFzqIoqGUXJcbdA8NoaW3H1b5BtLa3o7l7CIPDwxiMxBCLRZEXCiIvN4yC/HwsLCtGbVkZ6iuKUcW/4lDIBBQVg/B/UD+m3FRSNLZMfWXpvXC/fgQcUfjR4L2ZVsI6FBmJYjgSYbXyFJKJajXGdepRrmKsbCHOFszJyTF/qbfuziKgxm+NxVR29l430WgUbW3tOHHmHM5fvIxrnd0YZoNuDRUgQscDuSWI8TkazmOBxRCMRfinawxF8REUxiMoig2gMBTA2rqFWLNqNZauXoqiggLGxBJlGDbOZLw2Ue46LgJuwpUPFv/cszffeAsnX/8hot2tKI4Nsv6yYqaqs8+XdxsPUC8cDOJisAZf/e3fwe6H9nq10bp0NdIg4e9OCBL7PMLW209y/uDUZew7egLHOvvQHSzEcG4xImzg0XAYw4EQgpQQwsGw8RcIslREGCwXM407FkeEb2LRGPJiI4hFhlHc10PSH8bqaDc2rFqOL29citVL61FgPgDsqjhJwtbQCa9OohgXHoq7PT3IiQ5i+cJKVASH+eFilQ5SjPUZP7HE+U4SxflLg+jr7fG5crejEGDDNl9zXwMdGBrGZweP4J39H+NSJIxIaQVQWYt4TimGwoXoJDn0k4QpMyBK/8UkBkkUwSBXjjKwIZK0KnIO7/t5P8iwSylVkDEQLihGWG57G3D03GW0H/4IS+uq8dT992LlipXICeeMSp57GB8BRxQ+XOzXRZVPnY7VsUZsZMWriQ+BH6/REoLPn7mVXoMV+GCgzEggpjXoxbyUJKyckBp9t6QqjC2UwvmXJ6/hpz//JX6UW4M1C7ehq3KRgTPdT4j+BwyuHt4WX9ICIrTS0vMChjuiF5Q8LueVmKCO5JcifwFQyO5kpLURf/OTT/DUiov4Z49ux4qF1SQZevIZk0pFcRtGIY4O1QsskfLbCHnmvTqimHnMsz5G0zj4k2xnvPHogfoH2ksB2Xi9Ey++9BJevdSKxUuX46HaNYhQKuvKEDrqmigVuZRO6qtrsLQ0H43XzuC//e338Ni92/HQrp0oLSo0sQdJRnHqPqT6tE3dfkSMg2n48VIzDQHNUBCOKGYI6PkUjRqBTJIovEejT+gdHsKh42fxf7x/Aj2hCpzZ9TC7EAEqISPUNWTOhNjuQ4ynh22/M5CHMwU1KF5dg+6+Xnx86Cg+bP8Ef/DgXSSRCipBlXh2kZQBZmZsPqaaSvkbz6+Vt8Z7N9WwZ9pdSjac6ZizOj7bVLI6kzeVuRG6bmzrwPNv7cf33/wQoYoaVC5ZDg5MIDch9utLnimTK2Vzwtivo7orVUXFqFu5Fsco4fzZ87/Cu0fPoG9wiCThT4vK8+bLVN0tr8vl+VU2k38KUc+JkM3Vvrd2Sf9y64Vlr3Qyo8ZiNqORZmdkqYrlVY7szOXUcpVqlGoAGoW4eL0dr374Mf6xOYKmFfeip7CCeoQgRx+4+YxGL2JBM/Q57id4apFO6CpX8bDxD/pc6X6Edh/kU3m6ohzdTWfw0TuH8b/1duPh3TtQENJ8GOtBOUk+WMu01xRBqIF7oyuSJEQOvQP96KMkM9Q/QGyiHA4WZQXMiE5eXi4KOMpTUlyMXA6zK82zoT45okhb1O7FlBFQG7Im0ZZsk5LC8szlBvz4/c9wtGsAgdpVCBYWJ1xrOJOGjlQRJV1I8siUiTMeKaU150VxyWi6txSk6vaEq+oQyS3Aj977BI0jAXx7z1ZO5GJj1T/j3p9R41s/ExgvEmHQ1dWFa43NaOX8kCvXrqKluQUdnDw2ODiIYU4eU/crJyfXEERFZSUWL6xFXW0NamvrUFdXS/LIN6RxC4LNBOmb+itHFFPHyrmcIgJGnmAbiXFIubG1Ay+88wHebh5Ew9odiOQXoo/zITwTN8SgSZOZroi2W6PRDU0FH2CLy+GXXl0SkZWUrCdyShBYUIwKzsH4D69/hCWhYey+dyeK+ZW36dXV+8IHfdJG4vWYi/Lf2tqGk2fP4fjJUzh56hwuX71KaaLPkJPC0XCvjFX2Un4w4YeYxgUV5Vi5ciXWrl2LdWtXY926tSgqKjLuLYLmYQZ+Ji0fZUN/4sYEP5pniVHKHOEyz8YNfzw3fGnNDRb2xY0h641V9KSEV+t+5q5K8s0XhEWJGDCA2ZCPTCE2XsmxepvoTIXnJ1RTr692dONn732KN3pzEeechThJQt2N8Yy6ATeP+XghjW8nMjDSC9PlKSmZXjbGoURJhVlmEb6QdNFXuRAlm/Lxvc9O4iIK8Z1dm80UcaXc5nJsLF578Oq/3HT1Ukn66QF8+tnnOHXqNNopPWjGqSpHEYmnltJCeXkFp50XII9TzzXKMjQ0xPk73Win1NHR0YG2jna0f96Bg4cPY2HtQmzcuBG779uFu7ZsQWFeJtEam7spELkHzI0ePXv9pmWCGz3NERuW5W3kipgIkuyDJX3pKa9jKkpvfz/eZ0P5oqEVVxdvRZQk0Z2UJEYHZRourUxDHv1q2p7YkxhlRAiWzO2LkBLCvwvBPOSWVaMz1o9Xj5/DlqIA7tm+1byz5erpDuQzkXGGJ+FAQ79Xr17Di6+9TpI4iMaWVupfoijMz8O65cuwadNGrFy2hCRRZqSD3FzGxe6NukUjIyPoHxhAL0mmtaML586fxxdffIHGxkZ2VxpwtaERZ85dwO5d5/DMk4+gkl2U6R62tViMvU4qUYzBN+lf7CqR0Ro1rps3RtAi1ApIAVgB7OZDmk4fSk1MaWLJmzzeQt6sF1sZx/+OTmeqZzYs5U84JUvONBQ9AYOs9AdOXcD3TrUiVLsCgwVFGOArTWKTCdvWZp7u/I90Fipn8YR29vYma4VwvWIRdRq5eOHwaeTV1WProqpkysdTMEaolDxy/DR++vzzOM11Kv39fcjPzTWSwMMPPoBVy5ejpqYaJSWcW6oGI2ZJXD1kUi0gQuljx/ZteJT+jp04gffe/QAXLl7ExfPnKHFcx/W2Fjz7zNNYs2KZATDZclQwGTC3RBRKiz89yXt7Y3M9YYI9x1Zk9Tu1wfjtZvJ+SsmfJEHKw3SEM0k0d+S1LZ90+Wvn1/CVt95Fd80W5BZVYICSxGAgZvrjs40kLIAaDpWMYYQK3vUzc02hXFSXVaL5yjW8wRGb5U89iPLSUuvFXLXS2I687v/oM/zt976P69dbKVnEsWTxEnz5mS/hnp13o7qygtPFU83N1g//1QvYQzXEFbHSUVTR31JKIvffdx+0/uiFl15BV2cn3n73fbRev45vfeNr2MKuSKZNKuVpY7LfRIlWGmJK821MV2sS4VoGtqKSCEL/kkzoa1b6mgfT9GXTJnMaX7BO8wvDBV6hRYiF8lESGDaVwS9BKTqbJ3/UbfxK9Ma9GX6iCslMnkmDm9/zHL1XDrX2whLI//3eQRzLq8CVinrEqM1vp1KvkA2RevukVDGbsmrL1TRamwkmsAU5iLLBxqrWcpn7JWw5fAKPP7TLrB2xn8pAQuQ8euw0vvvdv0BbTy8XrQWxacM6/NPf+x2sXrWC+g0pQxMBGylCiBEvY2Wvqk8pVFRvpNCUv5KCPP7V4jmSwoYNa/BXf/03uNTQhC+OHiMhAb/HVbSKL5NmCkThj1458yFpb30ZTLrmO9OQxnuXdOTd+MkiahqXDXiMwxl+vNTYggunrrOCc1iPSeIapKQZjyT08mpoGSHyYJ0duUgmOeM3guf8+Yv49MRJLN9wFwY5JXvEEKWn3c8hiLNVohgLTpAfxGFmaFAiBodzA3mFOMnuxIY1K7mojF0QWtuGffXyFfzH//h/opNDoCEOcW676y780R/+MyyqrTbKUYVt6oL1MDayxLNHHPalr7IlrDREuv3uu/Hv/u2/xX/+k/+GS5cu48iRo/g5iaS87Duor6+3nqf9OjlRHH4DuHQS2PvfAQWe2KUsmGww4wHuBYDOZgSGO7nibwmQV+a99OUz0HcJ1/ftR2F1FYo2bqObagLn/fPGB+j4yOusZScRf+g7CFEb7Oejac/1JAGqbmijk4dqo9i4oRoLA8wjqVv/0hlv+7U4/qShECWx7oQzVQ9TRdJ5m6P2tgZ4+VPeRaKtlDj/9Cc/w0crHkJLQQVlwghEDlovV8ifPLqR5CEzTHvhPCuM+XJTvjX9jgC6EsJfpZJKwrhC5WaoajF+dW0Ypaev4ncWlHMyVK4p2daefvzv/9d/QXt3D0kiBzu3bsC//tf/EqXsohh0/HlMMoHfcnwEbqhpibQEKOGsWr0K/+p/+Of47l/8BU5fvIR9HFmpX74Sv/mVp1Fa7A2fWsl9/NBv3nZSebj5+DEcfOtNDHImGZsPSYBTYsyfUs7hJSpsDrzzNj5//qcYvHbNSBHxuNxFKL6rgY0gGhnBuwzjyKGDiRTSr3HDsEQ0/Os7fQofvPGGUdRQBcz3+mM49G//FK6+5GbBjn3vd6P49Mx0Jf+pYpqkeun1HhLJGHuxThL2EZKDF59e3GhUGPbPc6HuWcqtDS5lc2MYc9JmbMb4LKtPjpxCZ/8QVlZUmAlM6oxodEEkwlI0oxpaiq+/2WtYp1mG+vPXlUAoB/lFJbhw5Soamq+b5GtG5T/84B84N8Kr9ytXrMAf/dEfkiQ4H8OrdNOWTaXGoib4NKfi29/+NhYtXGiGXV9+5RUc4ghJhKtjM2EmlSjKon0YGulAuL8JPY1c29d/HWGyaS4VVWEO+eTmBbGaezbkhCsJZIjwkCBG2tHX1Y54b7uZCVfIWGpjfSiIDrHRcx49iSbe34Hh9quIDEcQzstH0XA3qiL93AOCi4jjHFUnEUT7e+imAdImh6kIyi2vR7ywipuUDGGgp4t8xV2M8vLQ38lwqCUOFZSjqKQC8eJaA6tOprT/UoVu4U4DZ6JExKA57GvqKoKSrxtY1UcKlsHVJ4/6PpUKTmaSWD1Hc+ZXudEcGs8oz5pd+JcfHQeWbeEIh6QFvufXeIQAmI1l6EVkMauNkSyAGpvIRKFJY3Y1kI+mssXIvfQ5jl9rQt3COpw7wSnf+z8xisui/Bx853e/xfkO3EfD1IsJ9Hk2/AmuN+joEmmxsyc00nzXlk14+qmn8JPnf2Zmfr755ttYvnQZli6eeKn+BNGmfTUpUchniAXefugAh7zOIt58CXmFRVj1zO9i2Y4dGBkeQWvTNRRd5tSUjRS5q/ktv3IBR17+Bdqb2L9nQ96zchHClCpsu4oO9qLz8Oc4/9ZL6OB+iGVV1dgepOgmNjR1kF+d3g40fP45Lu57x0xzLSkswOJ7HkTt7kcQyA3i+PtvI3blHIeHluPg55+ihxvNLCCTb3/kCeTf9yXEQ8yaiZAB8r9tsMpPAnPdOnNLCNyI5lnqJhp7BrFqzVKzbZ26HH5ikFRhcffx6C3FPpOexB0a1pWEkMeuBTjUe+xyE9bUt+LXnCvRk9ikaO/ex6g/4FyLhFHVy6TgpA9TYWEh7r1nJ86cPYsP932Ew5yYdeLUKSzilO+cnCk1bZvcSa/2o5DWYZA5jkeiaD30EdYvqcSO3dtRNtSLxjd+CFw/jWBkEDl9XcjllnEYHsBwbx/afvX3WHJqP1bdtRWLtt+LtvPHUdTfyREE0iC7B70Xj+HyOy+jgtuTbbp7PYopkXRdItEMcmKtapP0AYfeR+OLP0FtVTF27r4biyiWNNFP17EPuaURpZruBhSe+ACRfb9AzYaN2Lh7N1YxPdff+SUGOinJUCLRtF1TWCIK/aXNpXtxUwiojNSCdKURIXx6+BBaqKM6HyrDCJWYvfy4DNNefzJeU5u0unmOZ9Gv6k2YedWErTZmeKC0Bp+09OG1/Z9yT8+zZpLUQiotf+eb36A+JpVwb3TQZ5F6ddt3IiG70Gxp/SLcv+teVC3gIju207ffeRd9VAdMt5mcdpQoNtwVDz2Fgl17GP8g+nujaDn1BYmiBSjmECJbY5Tip/QDfZQutGPyMk5Qqd/7DKKl7CosZt/ur//O7FOI+DB6WxrQ0taGRY/sQd0jT2NxMBcjLZdxtbODE2YlXFEN9vl+7lEwgLUb14MdMQ5RcsPVpmYMN14BVq9gkQXRCQ4LPfwUqh76LdI+uzWNx3GiqQs5TFdhRSUrssLyjLog0ltkyhjhxQZu2Mk+ZPdV+b7eO4CzDddRsmQ9+hMTsfWByb8h65lpODdEM40W4kOP5Hhl8iPUUzRdz8UHnx7EcEcnP0Rx7N37OCqolxlrVNsylWMbtqraxo0bsGrlCrRxXckJThdvaGhAaUkJF5pNHzFPGpIyKkeB9bsRL6hnx70cIwtXoIBdCQxpaY20Ehz+kiNKCxFKFn3smOYuWY4Y9QnxcBliS9ehv2gBxwzYtaDUEaT+IkadQ7RqEUW5KiCfW5EtrMcguynerPIQCeE8Cgc6TfejkTshNbPrExvoRk5PG+PlvAZWyG7uqRhffzdHUbjHWW4lYhXVHM7i6hOmS6RlFY0MlO5FLVqZMknRJV7foHVWIBMYFZw1k8RgnWXN9fjla9wQhroirrzs5CQlKTC1E2UJ64X9u5E05lL2Nf+Dgi77T238qF0vqcb1ngFWwxGu9izEA/fvHp0Z5l86Gn+dGO3gNp/EDonwVdeqFlRi/ZrVKOLSdKXpM46CWKWmX7l+O7FOKlEoISKmEBu2mDXAGWfSWaQM7Ui1Qe4noKEkiaEadwhQQamGar7pbLQilGCcT2rI/MvjfoZmTF1o8l7tl9vT0g0tGOEwnyIFJchbdw9CeQUMK4Q6xl1CSQWc7afwtPIuzkU1mlHHgFk4nDOv4LxiNbY+CZlvEkaZcuY2ERCI3rf2yMUG9OSVsssRSC6yUuDau9walYtXTtZm7lxtI5Fitlu5KClDgPqBIdbvHRs2mYbqVTaTScGSynkKgoxlWB+/DRs2oGrfx+jkMO2BAwfwzee+Ma3xWQwmCJSVQeyVYDDrMKbhSdoJEv0zWlo+51LRGeZClz5OYy1jn0nyZ8ysuWfXQLJbkOv7uUBoeICHuHC5rbEjCYx0dbCLw/MZTFMnIZSVo7V7ALmrNqNq2SpKLJQ2WABB9n8RaeF4vMhHhmEqGSIYEpUujNF71q0zGUBAgMuQrKmAvtTShmghhwRJ8BEugApRFzW7h0C91E/1V43E5lg7fAe52jPED9QI87uZ06fDUpzLqO4lqqN5nqkfxrl82TKzSCx44SKuXLmC7u5uswGOJAq139s1UyAKRULJgF9z75QlSgSM2MTNxspBTDZifd+JEsWysvpVXBlXiobzXEjzwp8jn/Pdmw7upwK0nUBS3tD26HWrUVZahpwPX+Nnp9NUrqaTp9lzkdRCcmEXJnj/07jywi9Q/uJfAHfvQIhKpO72HgRWrUPJQnY1VGAiBpMQlQ4lGqVDgo3uDWl44p+XAw2Wytgn3SfypFtjvHf69bQbKnnDPImrF4JxOubH7nfgMZVw8Yz1YZ/HeDOP+tJadze+15v0b290n7KxYufJ02d4tkUEmzZvNMkzm7bYbKWc33Q0Uqh1dnWjg5Opuin9SZI04qc/zCy4t0vRTfZY31RaodJy9OQWYdOaNciVyH1rRXTL6HjRefVTH+oiSjhaG5Ib5roanmdyrbmVS9k1TUDG1j6m8xbNpETh1SdJFMJCT7zhxeJiGirBC5jaF0ROfhFWP/IQLvyyASc/fNMspV2zdgXii6rRoARTIqjhHoXlXOTS+fL3ceLFn6GkqhJL1q/DuQOHTDyqbDlbt+MBrs9vfuWHOH7hNEbCxYhSB7GshjqNhVQcUcw1qTEihBKnZ82d9NKo9CaN/z5pOc6N+inMmZyP9iL7yYz1Ibcp97JNPU0Wxnjv5duGPd77ye3Onz+Pn//8F5ziuwhf/9rXsW3r7S0isgSkmNu5bwL3Z+KaCGklss+MqkfMntFV8FpApWYfzwypYN01Hwl/EfnvMwDJeMFrh6wa6iq0rqSXc1oaGptw95aNbBZyfXs1UFmYlChyvvXvUPPc/0yFYRGjozSRw9Vsj30NeOgZKjZzkU+xa8Vz/xIBToqKcXFKQGLY9q9g8cbHUcc9CXK1I0+YZ0Jy5KROoxDMiDoqeXu/iar7v4QKChmhHG7ckZeDFd+OIkLdxjClgZyytch/bBUW73kOI9xjMMCVWjksHOTkmWHWjc/9T9j0dSoscz01WZwVNfz1f4MdXyXfy45kI4huADWBWdLeACkoUmCKfw3h0Er6F5HQZEa7JnkNSG69uP1+Jg5h4rf+cG7m3nQZSaRRntHZ1d2LptZj+IKThDaxP/vbv/Vb2LR+dTI4peBmU6GPRAenMHfGwpz2nGeGRPsZHyfxZ42Rzm2Yf8WsC6UUVyNB1QyO8hWWYri4goIrNW1TqB+ZBMTWu0IqM3O4t4VMr5lJPaWqO6WkTUoUoCY7wIZsjUDSwheRhIwqVzjRWPWsD7yUiiFOTAlTX+FVVkbDFzwMznsvSY1dkDCVQmEtoJKSk0Z4685oH9R9oBgVKsxFmDslm6nejE2nRSlWzeY0qzzlkcYUFokqmMPuiJb+MqyJKr73zrpIkYQX2u3/2pBN2iYNzu96Usc35cCSha46S1UzWKUVP3bsGHZx+fM3vvGbZru1qaXTi9oL0yvrru4uNhY2HIYv5XJYwGehUb2X0QYz6t7msf7lmlWhstQX5c7l29R9pk9pkjws4tBenJ799NTtyYmCOHgRCiZhQgGf0oG1Sy09977DniueEckpr6bPynSGeCcY4wEqNHnnjX7QJp5HO/oLjFBPQXmF3RKJcSFlVrxNxZj50EuByWE32alQ9DYgZWqkE1FO4w7kcTUfK2uM08tDlF5i+eVG2RmIcjboICeCjXC6d7iCQXD5d2454+NUcxWuUkOJwYSYKGjRkGcCOMVl5j1MY3Fg0Az5SaKa0DBLzcxHb0CbxzJ9JoqEn0Q90lRnDWHplRDT1aNJ3mTI9A9TUuOoVJxfPzVmcXDv4DDe+mA/Pj10BA898CCe/tITnPq7kH1cfSG9NKer+wnoTPoHBkc4uhHGEMMuoxTnrZHIUEbuQLD6PutPtWSYUmPt2QNY3N+KisoFaGb94gvWYa+7qjpl28VMJ1VxR1i3TBrYFsKa3Ejjpen2UzM5UVBhSRplTPojLolKJGbFyCBinW0IU7HDjf8ImBSdTKAWZxFYgWuE8MSya+OfipZ4F2dpsmKFdMakkBY5MHOKw5CDbNWARRAJaUN+5VZ9MRO+0tTejPee/xG2f/P3UUxN9P4f/T3ue/orCCwp52rWQbSfPIyLnLjVc/0agkWVuOue3SjbuscsGVb3YKwxKgovGvOqixPD+i+2czXooFQiSt1YL8ln+6YjvtjM5Eu+4I3hi4TFz372j/iHH/7YhOUhqpT4Xfh92nsbun2e+lUVxexxrSCSLZ/x8VnKyF7OpH3l1Vexf9+H2HPfbjzx+KNYtUpnck6hajDIAW7fJqoLkSQMCTFo9dayxSTrBDOkWh1lYzzNhZKtJRwO5mFGUhJ7JXznM93LGZkRLZVg2yzh6lWPJJSuyeoXnUxiJq0N8T4u8OpswUjPdVOhA8XcyquMy815VkPbF58g/v7PUXrPAxjhMGZBtbZiX4CRtvPo6+GkqqFB5PGMglDlBu4ZyJMVKFGMXDyFoVd/gr78EhQ+vBc5nPZbUF5DAoijh4qxaPtls9o0RLvyBbXUWVQnGlKKraNDPYgOUf9x5B0sOPsRygLPoffEIeQ1nOboTK8pwPCFY4i++F3k8sDJ2jUbUdh8Adee/3Pu3ZiPBZu41D2U2qlIUI5XzDur4thUWY1FnE2q2ala/JTOaKm12uHAtUIuqU5MofU552tjRJ9REqpIxyMePvONz2m6KG7aXjEo4AjjTo7KsNKIwJUexS8akQTXyzMmPuP4e5BK6Rpu/FpZTvJPYyzfKN3DJGzlRxPuwmQIzY3h5yONz7lprY636EAbA5dqNXOE5Xu1yZxJcuTwER5FeC93vpIUmYlSnDpmnZ1dZoNe+UiNeEzd/0QuwymuUQXSV0bOJUqxsKmg7DvyCb/K+9Da2cMqxYrBTUefePJJ9PM4+YNvv436xmu4NvA+hs80Ys2jBShaVoxzH3yAhtMnuDp8yGhh65ZvxLqHHkI/FaIXPvoIBUe/QFdxJbo7+1G3/QGs2PUgCjqu4Nybr6PlyiVzKEop9xXc/uCjyLvncUoWFP4kqSRMx5lTaLl4BmVHPzN7HDS//QauXb3KVkop4uBBjPRySXDjRZbnADbtfRTBux/gnhmXcfC7f4LD+z7AY1TmSd4X49qvrP/LYTLKuKJkZu+LzAfbOhJpGHsxsPEn6Z4OjN0Yh4sX1+M+zs1XU/IQ98TWMc6m6VEpiKORi/O0FFr6Cb/ReZw51ANVV1VxS/jV2L37XuzkwqZiKsUmNF4lMfUlh/sjmH4xiVRkIfkiO02CBFgPVG56Uof6r/7mb9DW3oFHHrrPjCpZOXUmKUPFMcjTzVrbWrneg3uAsEzruexh2nUUtkILAs/wjl2Ood5OdH7wEuqvX0Dt0/+ER8qHualnJ8X4QuSP9GJZVRlyO/KxaMtW9K++GwU1C6kHKEJ+xQKs27mTS77z0XrhAobe5gKynA7kPPkHqKrmdG1SdB43Kl143/0oXEgpRH3bl76H2lNHUbz3Gyhm/y/07gu4+sIPUFnHiSRLV/GTWJhqhFxgFupqQn9TE6q4yU1/VyNCl06irIY6hf4uFHVeQayjCfmcFBMs4aLh3GqqrKkbKF+IkcaLLGHOr+Pp2Wr8Jsf88ResvafGhP9EmexC0dJWggRIoy8JIlF/1UPRc20RtcLIQ9wsVX8zaX7+wqv4/j/8AD0DKaLIY2VazLLQ3IodO7ab3aG1j4IxCSKYkByZMW1xX8Kt56n54NJ/bvhCzzpRPCWrzWQuMxeXOtC2HNXjNsRIKUrSWC8b6A9/8hMcP3MGX/3yUxyS3GQ+jonqkLlEmZBVU736dvVaozlcSN2/ZYtquZLaI3sVpVUX3E5iTNdD0XmGEPDBfGnVLKhAjHI4cpijGAuCEVSvX4NlZUsZcxAhznEvq1+GYYr7Feu2oGLL/bRncAxgJb9M4H4T6OlEJWvTiTdHMNzUyP0qSrFoxSp0ch+LINd2LLj3Eba+EPp5alLrlStYxC3MF65eZoZAsXYNmt//GC1njqOyfgnTon0omWuKulWbNqJqRR3OnzmMBTz6bQEnZHVxUtGqXfcBO++hUieM5ktnka9+NhuEzVuYcWlZfLLU+cLmnSEbY58Tj3P7ksiUqpL5I3bqgtRwp7Ht2+/Gjru2cAevDVTMSVckY1Hwnib8JVBqMCUc/s6Lt7O7FUEBw9ZQYrYZdTuEn5SaHj0kcBJr0ETYGg9+/hk6Wq+j+cm9uH/PHlQv8AaJZ6I+qc2ePnMabTzbVVMPNm/ebPZvMYmbph99FBImdWcqDMkglw27ZtPdFF0vo/P1l1HARhu952tYwYYa5ahGP8fOjQyva5hfI1aWfm4oc51dlT421MKeDq7v5AIxKR6pXORnnIoureggF9NPNKcYoeggetubEOP7Xu5N0fvSC3wXRD4XfwVGhqks5W5CnNFpyIsFop22esjeQ81MU18/BrmCL8buRg8VOVcp7ZRcuIKi+tWIcPhVbJqs+7zXGZj+dSo2x1K+mSLnj7WzqGTDVZVbFV07Ou8kke68ezPWr1/PZ66w9Rmrsfc+FL4XY29VM2nUXaukviov3oo8KqmpzjZK6GwDUUQhU8D8SU409XdMXZGO6vKlS/jpT3+Oa9zY5sm9D3Nj3ZUTCmUm0Gn4kUJahwx1cZasduJSGWsa/XQaI1GkC1AVp4A6gtqqJWjjfhSnjh9FxZU/x4ro1xBfvcP0s+3CLjNMyt2wWj5/G+feeI077SxG4abdZi5F/8F9BmAzFGoiE9waJmWF4+hHhBLLMAkkjxV5YNujnOXHBWPUj9TwGliykhKG7TPzKDjqRjqPHULXuWOciDWIlvOXERo4gjzunnXpyjUeBxfG6voNyOc8jhxO1NIKVxUttZ8cKuXmOJzqahah0VbkoD/9qiF5NOHdyTbRHnTL4VZ6m6MsUkYN+JOPP47Nd23mcuSV1ElwCrzP+PMpa0sYPifj3gqOCq7JKZaqj/hqmr/mUdiGNa6nOWhp9HVMNwfiDTb62Giuj/JvZibrKlmDdaSda5beee9ddj9CqK2p4VIFW3enOeOMSzVW3Z9TZ8/hNP+0YnTZshVYvny56c4rxqmW5WSpu4Eoxn5N4mV1KNhahyWLmOl163Hxr/8zcOADBNbcw2UbFMaEDhu1SfZgN7rPHacEEcWS+/cgd80uNF68YtLgJZjgsrWF2AWIcMFYnAc+aup3SUUVejl5RavzavbspQJDK0LZYBm2melJ93pWHKVcR1L04G60c3u+Qe4UUvPlp5H/LteMcM5Fyde+zsU6xQhTR1LC/Sj6KX2McCg2rHBamhHt68aCpWsYjhd2ImHexfwKesajqHTHSp8N5m4qKLdy2nZZGVc9+jOUeLBlfrP5FTyVJHet2c3hfiCagiclbTYRhb5lMp6y2yMKczSBxc57bRbBaYh46ZJFeOzRR7B7B3V27GJnxKjNmarKmbGs359+9ika2LVXkh55+CGW8/Rricyoh+JUzBJRPcMo2dh721oQ3f8iykOcKFVfj+IrZ9AcKsIQF2jlFFRiwcLlaKUeYoi7UeVF+fWuW4JIaTXyhg4ifPEo6bUBXfs/5lQIKisJYh6DDRWXYXjxanQzrJp3/g7x5dtQWLMMRUtX4+TxI1j//f+E0rs5fEkNfaSjF/1bHuMisHqGoUEq6kY4aSpctxwdgSJEFm/EslU70f76iyhevBSlK+9R6+ZfCLl1y3CZklDv/jewvOsqOs6fQlHbNVR/7fcpoVSncprMsmDOTqNNTBL1yqtgJpuysZmXxU3kP1lRuTkN94pcUpqPizyUJrd8mCRBadE3b8ZENYd/RBD8zJjRnH5CpJ2utKOClNzaEkEfPpkwu9d7H3sEv/2Nr3ITm3IUclpApr8zOmToyBfHzb6dw0MRzrBdhru4C7hmjN4s6ZtMTPBzg0ThZY6ZJwgijp6WK2g6cYAnJ4VRwGnbG7ZuQ96e+9lwc1BSU4e8FUtx9gsOSV68iBXPPIdVGzeh8+ynOM3ux0g4F1t270JfpItfGq9SxnUw66bNaHnrDRx+8eco3DWI+icWov5Lz1BzznMbjxxA/OgBDLGPVb5wKWo3P+yrw0wXxT7SN9cY9KJ21UaKWLm4SmXoXXvW8Z2+aYyHzsJUgC5iOpvffR3Hfv0CNfNxbOQGI+HV6/ne27dCUopXzN7vBDjNyVfebuVERLCZgrX5VO33cFLGbqdCK9wVS7kFXsthds+kA7JxzEnI0iTa645GmT/lUVKTzaV0AebwYdavSxcvmG6dOfCH7jxgrcs0Qd+qNYM9SwX+K6/+2pyYrs2nn3jiCSxZsjhR1rca8Pj+qINRjZnYCIgBHp5qj1wf61rzyhVMPiczqeLoTwetFmiyVRqlSoRzLKTADHEtiVk7YgPlHpydHJcOcWVeib6EieQpTP+9dT7ZVdPNlT6xrMCcqvnHf/xHlL//p9hYyXkGmnqe0HCn8++RTgD/taEcu5/9bezin2dIbIYkJ4U5XdC0VxizyPizwgp74tp1fO9HP8IvVu/FID8OfewqWqMvsiZi6UjBATYx7kZCyXKW5ccmdpyr5oXYkRydmLGGe7ZGD3+Ias7W/Y29e7GVhxf/8R//MSc6RU0de/zxx8zhP9z/+YZSFxajaGPUwziRGyvREo3qn0iYC0201uQqj8b4//7+B/hQEjtJSdvxfftb30QdzzYVumov02mm1HLU2CeahCNCGGv87m0D97sJaVEYhy49JRBFOJsxKjDLOb6v+YLWn31nyUL21s4f5nj3mqOh3YqnZBINIHFJepHoqW/KWPukA96oWPRe/Vf7JTfvp7e8TJCz58dDZHF9FQp0bAI3Ry4qzkU3MZBkYRaJERm/lGGU37MkA2q41lhdhH22V04YNg2PQqwxWniVx/0x/9XvPIeHd25lXzqIf/E//hH+3z/5Lo8sGMK7775ndp7/zre+QYV6Qkdh67YNNHG19dta2/rtf7b30qSbZROsZde518SPfvRT7Nu/j+0gzCn3q/Hkk1ytzRm1mapuU6J2Zcj+JRPOG2s3NsNyY9/53d94n8pWMgx9bTL0xZlamrxUanqz+qMcmDVdnThpXNye7o9jKtwGjgvmWCm8Fa6C1sKrfNrnW7l6aZo1v8qO+VNLi3NDZGDX5nWo5j6n6yLdpHiK42xZIgprimhXRXliNhGFvpLSfE1mOG2PeQxyGzxeua5p/Za7sZAH74RJEtp5+4lHH8Lvfus5Ki9zOMTfi1df/zX+8u90WDF3baM0Ll2GSt3wRRK7yWK171P1RTOFJUn89d/+Hd587wNWKU6aW1SH5772FWxet9bEYX1N93VKEsV0RXqDFMB65H2r/TEISa+C3eCeb8az8/ue6F5EMbH/VMVWOO0DEVzmHI4Bzg8h87GvnxADx4lEbxR276B2elLhZr+RpKWy0q/O2yz8/BUqsvuoy6ykFMGPrQifkNpNC+cKIn5JQw1Eugl1pqpYD6K9XdzIdjGnDGiXdy9HKvdvcrt+bZf/Ms/66Ghvx+tv8NQ7TsB6lqtyV3PyoGa9Sro1XkSg9GPrYvIjyeBkl3xOVEfpRTSZ6ggPJf7JT36KKySLILvRy5cswW/+xlexZ899DNubQZxMlJe0afudElHYDI2NNZ293Pnf+e9TYRAygmLcpix5JzuBOMpyWh5UUBMaE6dKx4v80mAhWqhrKZJiypDXRP7lL47mIZ4BoTl8GUj/hGm/Ay9FEarzQqWGw6RfWbcER46fQO6metrpE6BDimOUzBI1/g6k8VaiVKOwDcMM/DODVVwMltfXgaWhCO6tr0RlQe6oz4GI8bmvf4W7chfhJSoYL3OHqY+478dFHmB8P6cK7NixDcu4w1gFZx9rC0dVj7Gd2VEfMkI2zAmHbW1tlCIa8B5PJFO3ZmQkysN98s2p5s88/SXs2cVpCmb2saSWzFU6i8et4HlbfvxVx589a++3u62IbtGz4l+xoBBreLBKZZDLf9gi0ssTKV5ovihx1FYB72vrJeFWc2QRucWMZKTy+NOke+Utjifv246Tn3PRH8XvQq6zaU8MHXK6jJEwbjUHmfI3dr5HOj5TIymODqO4+zo2LKnD0vpafshsvlOpkzL/qSf3opo6thdffx2nT5xCc0sLfv6LX5i5Dts4ZX7dmjWciFVtzgEp5JopDaNahb/2KunnoEEvR/Q6uJJa53McP36SJ4BxESVnX2o4VHMktm3dii9zXcl6bh8pgrK1TSm51VqWysX4d3eMKJScG6H27PQuUxlW2OmNYtWXUL9xLIi0o244iEVB6r5Z2+OJij+uf2ZGdacwzglIPDtVeZNROJ65nRzZMBJBTflyO3FOFkkiTb7WtYHE+tTW9Xj78mUu5FuGjtxE9bKaQp/byUKfifdKlnRKVtRXasc2CPPMrBb2dmN9tAc7VqznknLu3JYmgflcJHfvvTtQS93BO+9+gAMHj+Dq1ctm9e6Vy1fxZuG7WFRfZ3QcFZwqoJG9HE1cZD0Z4Exj7Z7d1t5m9rxs4rC/zuZVFSokCa0lydxz73auJdllRjdUAvZ0eOn10qUpTVJvynosLjfl+XYdj5ex8exuN56b9a8C0J/XZfKm5kqamKjjYeJg4m03K5WP1J1xc0s/0xHGLUU8gSdLqKm0qR//xGOP4IUf/BoDbRdxaeEm2nijHtqXXN0QKTNni0LTIwGtRTKdKKYuxCFczsdj6eudpmyX0LZ6sAvFPS3YsXgBNq1YnJweTSejjC177S61YhnnAH3j69i5YwelguM4cuQozp09azYKOn/2PPRnu26qbdZvMkDqwyS11HEa+BoSxF1c6LWRR2cuW77E6COsO4u+vVr76b7eMaJIl7F09tOd8YnCs0QhN9KVmC7HZEoTujPkkgjYy8d05GY6wpgot7fybvzciUjLqbT7zoPb8PcvvoGuylUo4nCiRj9mo55CAo4agJX6OFvGPOncWu3Wpi5TkJMAc9nlWJQXxMObuHt8gb7+ExuhI9Is4sHaWzau4wmYS3HP9m1obGjChUuULqi3aG5u5vTrHvRzA2qt0RBRSLIopo6jgssP6rlr/fJl9VjC4y4WLVqEuro600XxE4ri8T9PnKrbe3vHiOL2ku18z2YEdq1eiqsblqPp3BEULVmFz3m0pDevIpHqNNxnG65RIKZxM5351vC3dv/yZCONzuiTwNEDMl6M2zku5F8pFxLe1XsNT/Jwbm06pPfG6KtgTZq0mm8LSbKwIJ8rSVeY80G3bb2L3YsunoLeiyHuZaGNZmIcQtUXKcTh1lztbE+9RWlJEUqpj5DeQyZNFDYFGb86osg4xPMvglKunNy7+x4c7f4UJ1uuIrycq1XZsFLb5qTHxFZIzYicCSM9hVU5SwqQ9KPhXK2CDXHz3N7WFty3vA4Pcp6IOVZTxDLFVjvKGcPVXiAlJAD9yXjvGaBIxwSauOejrMayg6QHq0+ZciIUzjSYSbvd0xDHnAvCFrC0zNZYO/uc7posyHQO5oU9FcAcLfr93RuwKdKKzY0nsYmLBjXpSspD7Shq/3IIsf0TSXDXkhlffWrjl0QjyYfb0qKC+2vsPP8Jns3txZcfvh+lVFKqsagemNm3XlPm08RmbNdAfGD/kj6Tlcu+5JuknedqbDhJvzN044hiikCrcJ2ZKgL8GnPOyprl9fjSY48gwhGDTg73yWhKtN+IHOyf7M0Xfoaw9rpDXoLMStBE49dQ+JErl1HMxP7ec7+BUu4h6iVJA5G+wUhZTiGtauTjNnTjnz+GORJhJeysH3sVNjJjnz3bzP9aSS/zMbkY5g8CquxsbDnU/j+6cSXiTVfwpy+/hoWrtqBr6UYcDxWbBWJaP9HKP5HH6L22ZgYqdTNEFsNs7dpCroZ3YS4i3HV2H7Zfb8J/+Pf/hhvQJNZrWAmCYoeyNyWGmJlszEgsjih8MCe7DV5NMHVhzAfQ53r0rdxZb3pj/fntRvvI4idm3uKhfvljjz6MvspF+MG+AxjoaEN5BY9uoOJumOKDThgTYUipONboK2+NJA11DfzG2tmma98Z+2QJKC03loJIQvtA6p2GR7UNQQGPgGjgBkfauvHf/6//C1eDKlKGauKVVODF4JMpbJRZf3VEMaqIVSNUDTh5RRWYE6yokx7lIv2DFkHxLfUa6s/ZOp2oW+m9ZekbfaPNsCMbobB8Zstqnj/bh598egLtPL3tSPVKdPMoymsB74vdmQDKU/N5oGg+gxSM3rCl5jd4w456K8Wop/DksnWDuGzl1isvO+RpScLfzfBcer9a6lfPfVtDA33Y2nAUv8Gd4//w976KBUyICSmRfuvHy9f8K1VHFLYGJK9eJVCjH+Dmbn08U6SDBwCpwo79oiW98MYc5sMGMcINfaJmh6f5SxXmy2uzL9wIaZif751c7zBUUYcX3v8EeS3XUMuT4qIlCzipMIgWIqy9KmwTlFQwYp4SAcmCxDHeyIlddGZJwZSLcU8fJjFe2XkTvbzwtMVRBYc/Q9wXpbCLp931dWHL6uV49pH7UFnEt4xuovI2ccyjH0cUvsJWRVM14keElTeEs5EKtLdHuftyjpmNp81j0xn7HWvgUQF93LZPu4N5xlb9dD6z1N5k2+adyApTZvWBlXVYX/YAXvrkC5y+cBqv9i3iysoyDBVVI0wJLsoGroav5f09ppFTYqCdGjmPWDbKTm8ZfwI3Bqrd0xS+ys/GaA+zTsgFZvMcz4VGWWLI5dBnNU+/K+9twRYu9Hpm92ZOjlrD7kZi3mgivZKGnLlxavu8xkSVQnoKVY01q1ehpP9Rb+duzs5TFdTJWumM54v7MoTLsHzFKs+Z3/l8r28m//rhGhoOnf7GE4/g6HEeL3m6AdeaziFe0Mm9HsrQVliOIZYDj5vmXhFB7oyl/So9IM1qhkQDFsASGqRrkPG6FpoiLiLw9rhUXJbccwIkfBJEzQj3duUmy0W9XMcTjmHbioV4aNMarK2t5P4SiUISOTBcW3wJWxPPfP2Z0lZ48wUcVQxbOZRnVZCbryQ+nYYJLDECffMBKQlZaIiPadyezNXc2c19Fo5i/7VuXOG5LAd5VuwIN2AWYQzyAKo+bpSsU+tkangvyUFzLUxJ8WE0UUgp6ekspKsQkZQkiiPAeRwxnjmzubsZ1dxS+r7qPGxbsxIbVizjlo2jt6+x3RUTDX/cHAK2A35B/W3DYjMvr6OQYCXzvimeQJsSaieGRmKwjKlc5jbBEI4oEsAlqlsCG+1HKcq4ynNoL/L82EOXG3HmajMaB0YwwrNqwUOoIoVliHFqcz/1RVrB28MT7iX92dmb4gKj6KTEUMi/fJJEKZeFR3mmS7i3g/tZDqKMh20v5lZx25bWYDU3A15ZXYmyYi7xNqlKpEllx3LyyjpVYKm7RBbm4cURhb/QbX2RHWuHt9+yV3GmThRegCmiSETgalsCiMQlgXWEDdtuKKSNkHu6e9DIzZUvtnbiWFMXzrS041zPIAZIEp15xdz9LYyefB5jyM1aRihh0DOG6C/M9RIhbvRSyA2b86igLB/sRBG7Epsqi7GEG8bcU1WImqpy1HAr/YKCQpYty/WGMvHED5X1VMt7dKay98kRhb9sxxBFqpdqvzJ+x+Pf2yBMHbQPcnpDpRzf/7yxTWBjMB7TYiXkDnInp+6BIR4VOYD2/kG0dnahg92UTh5409zZY1Zc9nNRldwGuepS58yWFOabw3mrykp4eHU5TzErRRlXcGrXqXLuZ6kzOETg/mLxukEqHxVQ6o0jitE10RHFaDzc02xAQH1AtVk1Xv6PcLRpSKssR7TScgT9vIogopQkJANo/YgWcWkmaAEljVySho5m0N9koxa25z2Zu9kAy51MgyOKO4m+i3t8BFIfdvNej550p9kqGsKmXECi8IQ0743mYiSNiMZnHAn4wLjFWzeP4haBc94yiIDHAMmegB7V2G37Zw/C3HvO+KsbEYckEJnE1UoLnqX7vR0EnERxO+g5v3cMAU/K8EWflDA8uyRp+Jy421tHwEkUt46d83nHELBdCyNKeKkwgkVCopCNdWLT6Htlrdx16gj4OnZT9+RcOgTuLAJj5Ymxz3c2ddkYu5MosrFU52qe/FLAuBKA58D88kdqzKRaIqHaTJt1G/a44ab15V4kEHAShasKcwgBtXbRgxaHB3gOxgDOnDnL6cUaBRnDAHocYzWHMjrrkuqIYtYViUtQegRSrT/KmZgneBLXL3/5K67wbU/vZewbj2s8HYb/fqw79zwKAUcUo+BwD7MbgRRR9HPG5q9fe4MH6xzDwYOHTLLt8OmoPFgvTroYBcvNPjiiuFnEnPtZgcDJ02dw8PARdHb34dODh9HS2jYr0pWtiXBEka0lOxfzdRNf/1/96lc8ZWsQkWgMx9kFmVCqmItYzLI0OyPsJd0AABU0SURBVKKYZQXikjM5AocOH8exYye5Ia+2xuMmN+2d+PzQUTQ2tVDR6UwmEHBEkQlUXZgZReCHP/wRIlxdGuJcbjNNm4Rx/MQJHD12dOKBDiuxZDR12Rm4I4rsLNeszJWkhf0ff4zDx49p90wOi/L8ce5ypc2COtpbcfjAYTTxIGCzEET7m/Ivrr8xWk4NsI79l5WATWOmHFFMI5guqMwioAN9n3/+eW9ok1HZboZp9Hw4/MUXlCyOQ0dBmu3sOBtLaz7Grvuwdv5rZlM+90N3RDH3y3De5GDfR5/j7IVrJAhunkcCMJvrmmFPSRVAm0ZAqKtoabtxXoWkCv/fvAFtmjLqiGKagHTBZA4BNXDNwnzp5ZcwPDzMU8E56dLrWSTECk+2kLvDhw/jwoUL0IQsZ6YPAbfWY/qwdCFlEIGTJ09ieGgIixbVUZ4Iclg0imvN1yldxLgFXgHKy3l6Kc8m1OTuc+cvYsO6tSgvK0umaGz3I/nC3UwJAUcUU4LJObqTCKiRl3MPzOee+03qH6jAJB10dHXhT//8L41EsXrVKjz75S9rN2Sj4CwpKUYO99F0ZvoQcEQxfVi6kDKEgLoUy5cvx7IVK0wM6i83N7fgzxJjFwurq/Dg7ntTQ6N078z0IuCIYnrxdKFlEAGjt/SFb8571fNYXhjr0OfH3d4aAo4obg0352sGEUinXxBRJLXxo8hh1MMMpjR7o0rinL1ZdDlzCDgEbhcBRxS3i6Dz7xCYBwg4opgHhZytWbSVVyqKsWqKbM3zncqXxfpOxe/idQjcGgJODXFruN2iL0cUtwic8+YQmE8IOKKYT6WdTXl1fY0ZLU1HFDMKt4tsOhHQQjAZ9UJcT8RAkbEfRxQZg9YF7BDIHgQcUWRPWbqcOAQyhoAjioxB6wJ2CGQPAo4osqcsXU4cAhlDwBFFxqB1ATsEsgcBRxTZU5YuJw6BjCHgiCJj0LqAHQLZg4AjiuwpS5cTh0DGEHBEkTFoXcAOgexBwBFF9pSly4lDIGMIOKLIGLQuYIdA9iDgiCJ7ytLlxCGQMQQcUWQMWhewQyB7EHBEkT1lOY9yYteY86ojw5zJOAKOKDIOsYtg+hEQOWgPbp5orsDdGvPph3hMiI4oxgDiHucAAjqdmOwgYcJxxMyUlyOKmcHZxTKtCJAeSBaOJKYV1AkDC/C4NtfJmxAi93LWIcAaq9PNP9j/kSGLhQvrsHHjhlsmDjWAW20Enmwz6xCa9gQ5oph2SF2AGUfAtuppEinslnq3ku75QhTuSMFbqR3Oz51BwBKEjX3UMx9ucQTE68RME+vYtGXZ1RFFlhXovMiO2vQokri9XDuKmBw/RxSTY+RcTCsCVtC/daHdhGBbNwnD08jfQnh+srHhjcmrnIx1lsbpGJ/Z9eiIIrvK0+VmCgj4G751frON3x/Gzfq1cc6lq1NmzqXScmmdFgSmQ0q4fbloWrIyY4E4iWLGoHYRpUXgNj/PdoQ/MOGnfZyXdmbABB6TSbM3DGackNJmLVteOKLIlpKch/mwBOFl3bbkdECkmrfu9Gd9pN6M45eOrPSgt3aGor2O4yMrrRxRZGWx3plMRaNRtLa2YiQYTZuAsQ1MqzU0qhljE5ywwTJE07DpyI6Caq2HTMxIBLr3no3lmJ+4T+WpV4orKOe64dVPBrQZZTxnAYQYT0lxMQoLCsz7ydI7KpA5/uCIYo4X4GxKfnd3N3784x9jpDh9E1Lj9N6yafImgBzEYjH0D0QQj8XZZtOTjJZ4qNHm6CdhQqEwYqEAYvEYZ3X7XlgHiWtURMHXIT2zyxGIRE18SstYX6MlFTkPIEiSKCooxGOPPIItGzYm8pAIfB5cHFHMg0KeqSx29HXjrQ/fQ8ED6b/PqbbM5slWGo7loqenH00HejE8MoyhYP+EyVXIauyaJJWPEuQW5SJWOUKJQCQztsn7gjJrQyS9BBHvjyLaOIze/m5EAxGfI+/2hnAYbA5ysbB6KdavW4O7SBTzzTiimG8lnsH8UiZAIIfNeOVQ2lhuaMrRICLtQxg8MICBwCD6wt1p/fpfqMGXRyiN5EYxWJE+PusnZCKm5BELUragNBEdRvdwO4aDw9bJhNe8eD4qozVkKC1vn39mbJdx/iHgcnxnEaBIn5Iy7mxSXOzpEXBEkR4b92YGEAiQKKR7MP2QGYjPRXFrCDiiuDXcnK9pRECKwhtVitMYgYLy9Rfs9IlpjiGrg3NEkdXF6zKXDgEfb6Rz4ux9CDii8IHhbh0CDoHxEXCjHuPj4mwzjEBq9CN1d8tfeRvEJAHYYU873yL9IG6GMz8Hg3dEMQcLbfYmWQLq1IRU22ilm9BkqVBAw5Y3aThcEiQ5BKUN5X/NpUhnIoxDjhibcSt/6V2nC2X+2juimL9lf0dybhtnakhUk7itLZPku02XwBgbuZlhmXAg0pG3iSQETdCS0dW7E8FwHqiNz1oaV74f+95Y+R/89+k8+8KZ47eOKOZ4Ac615NvmFbYN1j8EwZd+Argxb2qQnDSVlB04y5JWMU6CimuYNUkB4/uUX7OihPEEGYZCU3zpJ4174YSML7oWuyUZzuZEoWS/cUSR/WU8q3KoZqUmZpsZzNCopAESAO8nkgo8HvB8+punmYvhvUzm1f9elhqC9ThJb3TvyTGTkYSC1doPpcuTfWzIuiZzwfvsNo4osrt8Zyx3ZiGVbUMTaBtEBaaJ8cc0M9NgA9CKi6gaczKMG5NudBB8b1Z98rXitI1/Mv0GZY9EsxZBMBWcAh6jXiSq8BjWBNHSnUcI1KQwUutSV3t/Y1qzzcYRRbaV6B3Ij3+1pZaaFzYVT5IKNTyvkYVjOSjqAopiUYQjcYRRmtav/X7LpxSYBVx/kTech7ye3ATrpG+4RlZRAHGuNh2Icin8IEqCpRghRQXYdZnIiBvC8VzkB3JJKqQVf0Im8phF7xxRZFFh3ums5ObkYumSpYi1902QFNso1ai1ziOEsuF8bF65kLJGnKtHRy/wUrfCGj8hSSWZF83nIrQAhvLpxzTelFzhd2v8iwzY4gPUhIaKg8gtC2KYC8MilBZEFIGk7oHdIC539xspT8NcP1pRVImykjL/q3lz7/bMnDdFnbmM2kY5HBlBQ0MDv9ZTW5FpUpRok+F4jnmMTvJ1T+aC/qRkVIdiyn4SngMkjLCWm5MAFL3RVqT4KNGdsTF5CZQaNBQMobKiEiVFCYnJ58e6ztarI4psLVmXL4fANCKQktWmMVAXlEPAIZBdCDiiyK7ydLlxCGQEAUcUGYHVBeoQyC4EHFFkV3m63DgEMoKAI4qMwOoCdQhkFwKOKLKrPF1uHAIZQcARRUZgdYE6BLILAUcU2VWeLjcOgYwg4IgiI7C6QB0C2YWAI4rsKk+XG4dARhBwRJERWF2gDoHsQsARRXaVp8uNQyAjCDiiyAisLlCHQHYh4PajyK7ynB25MSuz+WP2eNAD/7Smmwu6o9p1grch/vO2uU0tSfe2mtMuUtp1KvUN03Z1Zk8IBakc8gRyL1RWX25xpcXmxnDHKpi9srT3hKp2Kgx51JJ0u89VwgMvJkTvMfFrduEyQfr8653Pqfbt9KyUC98LY5t9P44osq9M73yOtEUd/5kWzzZ0QzNKtGudr2HeJZ5vKuE+P8nbxI3C9G6937EN2ds+j+myCUsGQI/WziRmDK2Q4YxNKgIvyaP8eFbZ9uuIIttKdBbkR+1O39sY5QdJBtpgxmuB3F0q8ZVPfZFtFeT+2GzBqTbHUNSS+V87Zesv9dLspW0ejRSSaPHeJlVeeN75HXqbCtGmwdLIWFnAkxEUEY0JTDt5yjXDVHL4z1KH59cftnGatT+2lLI2gy5jM4/AcDyCi1euIicPWFJXz0ZuG5Samb1nutj4TI/EJNG0RGOXSrEcpJ6SEoDnNfkrN947bZqrrk2KIDzySMTjCysWj6K7v49eYygqKEBXTw/yc/JRUFCIMJOolA7FR9A3OIDewX6U5JegIr/cS0wiHD9ppFKZnXeOKLKzXO9orhqinfjeGz9GVXERfv+3/ylyuAmuafFsgJIx1IxD3IrO7oephm0kADVA6hlEJeZWj/xLGdvSKaHQj5FKaBUyjk3rRkNnE5p6WrG6diWK84s9+cV0hbxQtCmvts7rGerByx++wl19A9i+Yzt++vrP8cDq+7Bz8w4UhXLQSxJ559ohHD57GCcavsDTW/fi9+75NqOlLME/nSWixEmymA/GEcV8KOUZzqOoYFF9HQpzczHM5tzc14mG61eRX5rPBjqI5vbrJI8gFtbUYnPtJpO61qFWnD1/DqU1C9DT242O7k6U5hdh+aLlqC2qovAfxmeXDqOrrxePbtjDFhpAX2QYDS0N6Bpsx+KFSxHpj+DFfS/i8KUjuH/bg6itqMGj6x5ATtCr5lKBDscH0NHfiQstF3Hk8nEsXLkI59rO42zjaWxdswVKR15BNY6cOIrX9/8aucW5uNbUiJ5VPSkUjcRCMrO8NQ+4whFFqvjd3TQhEIsN4tSZYygpL0c/qeJs0zn88r0XEC+J4/pQF660NwP9g1i5dCn+07N/jLLSUpzrO4c/+9V3UbF2Ma53tuFaRxMqAkV4cucj+Pr2Z0kWNfibj57HySvn8MD63eSJINqG+vDGoQ9wqPUIvvbEV9HX3IvXzryDq31XcPVIK3LYlbh39T0oCutcMulMYrja3Yg3PnsLh5uP43L7VVxGC75oPIzLXZfw9vH3cLH3Kv77Xb+FUE4Qj27dg+qlNfj0h5/y6MEYpRNJMonRDkkW80SaULVwRDFNjcMF40OAn9rBgX4U5msQdATR6Ai6KSF0dHRgz6b78Fvbvoz3j7+Lg8cO4/Daw7hv5y52SaJob+8ALuXi8T2PoDhYhLc+fxO//uQ1bFu0BQtWVaFnoAvdg93IIUmY3gYb79DIIAaHe5DD9rupbg2WVS9FZ6AXz+18FkvK60kSeYjzzJBAUM08gJJQIeqKa3Cp7TIGcyqxvnYDzrWcQXlZDVaXL8fSgiU8vyMfO++6hymP4VzjeROXER74oys5wlDEPBAkkoXqiCIJhbuZLgRMA+KXN8impjPA7AjEkiVL8OWde7Ghah1C+SM4e+oULjdcwk7czahNE8TKKrrZsReVgWq097XgH/adQFN7C6LLpcfQLIyIvuu88llxGP1GFPncSn9N9TLUldfhRM8l3LN4G4ljPVs0qYrndMiPmnd1cSUe2nk/+nP6UBItxjO7nsYvP46iIlyHZ/c8w/dVyA1KpwKe5AHk8dAf/2iIIQzzdn79OKKYX+U9Q7klVVAHoUlPPEGDUgWHSPlcXbYAxYU6EyOO4spqxMK56B4awrBRYNJlmIfsVNYiHOLpX9RBVFVUU89RjO6eXgxFeaIXm2yYUsSwpQreRzl6EedVCgPvsMAo46PKlP7535gcShMxvu+PDuJI8wkcPn0Ih64eoi6Ek72OvI4jV44jtyAHL3zyJh7a9SC2lKyiP4WmAV5SkxSn/PMbvVE+gszffOiCOKLwl767nyYE1EJTfzo8R6MN+TxJLDdH32mOepAU4lQyxkL61qsrwYbIlh0PsOFRCtBjLMJ5DCSYMAklSDKRq5BcGgZg86SbkWHN7GQMhhQ8sqCFcat5GTFyiIZCFU+EXZDzrZex//jnuNp7BQF2S7pOH0AnJZaykiIcpl5lw12bEaMuRY1fs0G9P6VNoaaMRmpMIlNWWX3niCKri/dOZU7NnnoKtlIz/Zq/+j7n8CEoSYMNPTfCIwFH+MyRiyDnXYBne0YiMTR1n0dvvAO59NHY1cIRjW7TiHPZ0IvzKI0Mx3G66wwWlC5A43ATzradQx67HWFKLzmBPARD+RhgcN2xEfSym5Lv9Tmow+DRheFCfG3D41hSUIs//+in2L3qblQXLMAH+9/BU4/uxU52V0qKSikjkGA4h0LdFvFDjtiCvBAx+SApkfQYYwrcMSSSepE9d77cZk+mXE7uPALqEiRlfybHtiX192NsaDF96iPsIlAUiJIoQmyUceoSjpw6hr/60d9i7YK1+Oz4AVRUlKOmqprH+QVRW11Dv8Df/+D72LZ9K949+j4uXL2M5UvrzFCl4qioqEBPXx/2ff4JWmuuU3nKeRFFRZxElcPuD5WZJIuCIA81ZorqanjeadsQygpLUVdRi4rSCuol1CSYdgkMJtWSLbzUe+tNUs9yMV+MI4r5UtIzmM8CjhoUDRegMFaKwkAJimN8HspD2UgR50+wDQaGUDSShyqUozBSwFPFpbfoZ9ckiPolG3Cl4RoOHfwUi8oW4zvP/AtsWbSJEkYO/vkDf4Cq1kq8dvQVnLx4CJvqt2HPQ9/CKZJLcayEE6mAh1fuxvUT1/D+h7/GW1Smblv7l5xTRWIwbV0/1JgMBbCkrxQrC6tw6twRLAyXoT6vCvk8MDkogjCSBKUeyhCFZIf6IaZ0uJTP7BKZ4VHDIglEFaYJPPGcnRd39mh2lusdzVU/G32ESsBhfpYl+eexgcUoNciGk6RpFwJVmOZfKFbACVEhHGj7GP/l//mvePjRZ/DsY0/Q5xAK4iUcqixGMWd25rDx9mHQ6Cfa442mG1AeqGXo1FtQmZnLbkc+3XGwFCOBEVwfaTILRJYEV1JGkELVONWvXKAr0M/uSpyNn6mhXkQakFx2f9StULuX8jMYjNBlFA3xThQyF1WoNIH4Tz73SCL7icJJFKbquJ/pRKCQzeoGk2hLbH/GhNnwingXUNdDoj67BtQ4ojiaiwWoQCkoZST8BPiZ18hGEWlGgn9JYMXo4G075ZUdC74rQFlO6Wg3ekq4I+0wpLLkc9Kh3ifcaNQERo4BlgUUpjU+R9ZqHlwdUcyDQp5NWbRfY0sYNm15lAgqOMehKK+QbTUxoYovjX6Aju26EOveXWcWAdf1mFm8531sZs4DUbAKQt1p8lTTYCsOHz6MlYuXY9nipdRl5JAufO4SX/p5D+AdAsARxR0Cfr5GO4oojOJQA6fSSHA4kkYEYiZoUSdBaz4lTPLGWrjrTCLgiGIm0XZxUdfgKSmSEoV59ljAm8Q0GiR1OZJ+jN5g9Hv3NDMIJKajzExkLhaHgBq+1TdIkvCMrvwz//njpIdZV1EcUcy6IpkfCUqShCQG0YQkCxLEWKnCShO62vv5gdDsyqUb9Zhd5TE/UyMJQt0K/td8Bpmk1GG7Kq7bYXC5Uz9OR3GnkHfxOgTmEAKu6zGHCssl1SFwpxBwRHGnkHfxOgTmEAL/P1LGIKBtxuOnAAAAAElFTkSuQmCC)"
      ]
    },
    {
      "cell_type": "code",
      "metadata": {
        "id": "n7UDvKLRyqGc"
      },
      "source": [
        "# ENCODER:\n",
        "# Embedding layer (1)\n",
        "# GRU layer (2)\n",
        "# First hidden layer shape is: [batch_size, number of neurons]\n",
        "# Second or output layer shape is: [batch_size, max_length, number of neurons]\n",
        "#..................................................................\n",
        "class Encoder(tf.keras.Model):\n",
        "  def __init__(self, vocabulary_size, embedding_dimension, encoder_units, batch_size):\n",
        "    super(Encoder, self).__init__()\n",
        "    self.batch_size = batch_size\n",
        "    self.encoder_units = encoder_units\n",
        "    self.embedding = tf.keras.layers.Embedding(vocabulary_size, embedding_dimension)\n",
        "    self.gru = tf.keras.layers.GRU(self.encoder_units, \n",
        "                                              return_sequences=True,\n",
        "                                              return_state=True,\n",
        "                                              recurrent_initializer='glorot_uniform') # default: orthogonal\n",
        "  \n",
        "  def call(self, x, hidden):\n",
        "    x = self.embedding(x)\n",
        "    output, state = self.gru(x, initial_state=hidden)\n",
        "    return output, state\n",
        "  \n",
        "\n",
        "  def initialize_hidden_state(self):\n",
        "    return tf.zeros((self.batch_size, self.encoder_units))"
      ],
      "execution_count": 21,
      "outputs": []
    },
    {
      "cell_type": "code",
      "metadata": {
        "id": "VYWjSxnEy8Y2"
      },
      "source": [
        "encoder = Encoder(vocabulary_source_size, embedding_dimension, units, BATCH_SIZE)"
      ],
      "execution_count": 22,
      "outputs": []
    },
    {
      "cell_type": "markdown",
      "metadata": {
        "id": "OVQivzfo2YIS"
      },
      "source": [
        "### **An example of encoder**"
      ]
    },
    {
      "cell_type": "code",
      "metadata": {
        "colab": {
          "base_uri": "https://localhost:8080/"
        },
        "id": "jjbn8rGg2Xa6",
        "outputId": "7b19089e-d0ce-4a4e-a077-066cb687d155"
      },
      "source": [
        "# Sample\n",
        "sample_hidden = encoder.initialize_hidden_state()\n",
        "sample_output, sample_hidden = encoder(example_source_batch, sample_hidden)\n",
        "print ('Encoder output shape: (batch size, sequence length, units) {}'.format(sample_output.shape))\n",
        "print ('Encoder hidden state shape: (batch size, units) {}'.format(sample_hidden.shape))"
      ],
      "execution_count": 23,
      "outputs": [
        {
          "output_type": "stream",
          "text": [
            "Encoder output shape: (batch size, sequence length, units) (64, 19, 1024)\n",
            "Encoder hidden state shape: (batch size, units) (64, 1024)\n"
          ],
          "name": "stdout"
        }
      ]
    }
  ]
}