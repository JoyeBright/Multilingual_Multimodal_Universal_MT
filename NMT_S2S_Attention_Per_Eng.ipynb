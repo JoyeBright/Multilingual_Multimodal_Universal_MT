{
  "nbformat": 4,
  "nbformat_minor": 0,
  "metadata": {
    "colab": {
      "name": "NMT_S2S_Attention_Per_Eng.ipynb",
      "provenance": [],
      "collapsed_sections": [],
      "mount_file_id": "1PGxuxdA_1N2kYa9iSZLIFCdj0HtCBYtL",
      "authorship_tag": "ABX9TyOLsSCEUkJaLCoTlVG5vYcr",
      "include_colab_link": true
    },
    "kernelspec": {
      "name": "python3",
      "display_name": "Python 3"
    },
    "accelerator": "TPU"
  },
  "cells": [
    {
      "cell_type": "markdown",
      "metadata": {
        "id": "view-in-github",
        "colab_type": "text"
      },
      "source": [
        "<a href=\"https://colab.research.google.com/github/JoyeBright/Multilingual_Multimodal_Universal_MT/blob/main/NMT_S2S_Attention_Per_Eng.ipynb\" target=\"_parent\"><img src=\"https://colab.research.google.com/assets/colab-badge.svg\" alt=\"Open In Colab\"/></a>"
      ]
    },
    {
      "cell_type": "markdown",
      "metadata": {
        "id": "47SI7-dTSvb7"
      },
      "source": [
        "## **Hardware spec.**"
      ]
    },
    {
      "cell_type": "code",
      "metadata": {
        "colab": {
          "base_uri": "https://localhost:8080/"
        },
        "id": "1jsQQtyrRbDo",
        "outputId": "14f82cbb-a114-4914-9a61-1ffafa3b3f07"
      },
      "source": [
        "!cat /proc/cpuinfo\n",
        "!cat /proc/meminfo"
      ],
      "execution_count": 1,
      "outputs": [
        {
          "output_type": "stream",
          "text": [
            "processor\t: 0\n",
            "vendor_id\t: GenuineIntel\n",
            "cpu family\t: 6\n",
            "model\t\t: 63\n",
            "model name\t: Intel(R) Xeon(R) CPU @ 2.30GHz\n",
            "stepping\t: 0\n",
            "microcode\t: 0x1\n",
            "cpu MHz\t\t: 2299.998\n",
            "cache size\t: 46080 KB\n",
            "physical id\t: 0\n",
            "siblings\t: 2\n",
            "core id\t\t: 0\n",
            "cpu cores\t: 1\n",
            "apicid\t\t: 0\n",
            "initial apicid\t: 0\n",
            "fpu\t\t: yes\n",
            "fpu_exception\t: yes\n",
            "cpuid level\t: 13\n",
            "wp\t\t: yes\n",
            "flags\t\t: fpu vme de pse tsc msr pae mce cx8 apic sep mtrr pge mca cmov pat pse36 clflush mmx fxsr sse sse2 ss ht syscall nx pdpe1gb rdtscp lm constant_tsc rep_good nopl xtopology nonstop_tsc cpuid tsc_known_freq pni pclmulqdq ssse3 fma cx16 pcid sse4_1 sse4_2 x2apic movbe popcnt aes xsave avx f16c rdrand hypervisor lahf_lm abm invpcid_single ssbd ibrs ibpb stibp fsgsbase tsc_adjust bmi1 avx2 smep bmi2 erms invpcid xsaveopt arat md_clear arch_capabilities\n",
            "bugs\t\t: cpu_meltdown spectre_v1 spectre_v2 spec_store_bypass l1tf mds swapgs\n",
            "bogomips\t: 4599.99\n",
            "clflush size\t: 64\n",
            "cache_alignment\t: 64\n",
            "address sizes\t: 46 bits physical, 48 bits virtual\n",
            "power management:\n",
            "\n",
            "processor\t: 1\n",
            "vendor_id\t: GenuineIntel\n",
            "cpu family\t: 6\n",
            "model\t\t: 63\n",
            "model name\t: Intel(R) Xeon(R) CPU @ 2.30GHz\n",
            "stepping\t: 0\n",
            "microcode\t: 0x1\n",
            "cpu MHz\t\t: 2299.998\n",
            "cache size\t: 46080 KB\n",
            "physical id\t: 0\n",
            "siblings\t: 2\n",
            "core id\t\t: 0\n",
            "cpu cores\t: 1\n",
            "apicid\t\t: 1\n",
            "initial apicid\t: 1\n",
            "fpu\t\t: yes\n",
            "fpu_exception\t: yes\n",
            "cpuid level\t: 13\n",
            "wp\t\t: yes\n",
            "flags\t\t: fpu vme de pse tsc msr pae mce cx8 apic sep mtrr pge mca cmov pat pse36 clflush mmx fxsr sse sse2 ss ht syscall nx pdpe1gb rdtscp lm constant_tsc rep_good nopl xtopology nonstop_tsc cpuid tsc_known_freq pni pclmulqdq ssse3 fma cx16 pcid sse4_1 sse4_2 x2apic movbe popcnt aes xsave avx f16c rdrand hypervisor lahf_lm abm invpcid_single ssbd ibrs ibpb stibp fsgsbase tsc_adjust bmi1 avx2 smep bmi2 erms invpcid xsaveopt arat md_clear arch_capabilities\n",
            "bugs\t\t: cpu_meltdown spectre_v1 spectre_v2 spec_store_bypass l1tf mds swapgs\n",
            "bogomips\t: 4599.99\n",
            "clflush size\t: 64\n",
            "cache_alignment\t: 64\n",
            "address sizes\t: 46 bits physical, 48 bits virtual\n",
            "power management:\n",
            "\n",
            "MemTotal:       13333596 kB\n",
            "MemFree:        10015320 kB\n",
            "MemAvailable:   12493060 kB\n",
            "Buffers:          103344 kB\n",
            "Cached:          2495248 kB\n",
            "SwapCached:            0 kB\n",
            "Active:           947488 kB\n",
            "Inactive:        2088240 kB\n",
            "Active(anon):     391120 kB\n",
            "Inactive(anon):      368 kB\n",
            "Active(file):     556368 kB\n",
            "Inactive(file):  2087872 kB\n",
            "Unevictable:           0 kB\n",
            "Mlocked:               0 kB\n",
            "SwapTotal:             0 kB\n",
            "SwapFree:              0 kB\n",
            "Dirty:               844 kB\n",
            "Writeback:             0 kB\n",
            "AnonPages:        437200 kB\n",
            "Mapped:           247376 kB\n",
            "Shmem:              1016 kB\n",
            "Slab:             190380 kB\n",
            "SReclaimable:     148356 kB\n",
            "SUnreclaim:        42024 kB\n",
            "KernelStack:        4528 kB\n",
            "PageTables:         6188 kB\n",
            "NFS_Unstable:          0 kB\n",
            "Bounce:                0 kB\n",
            "WritebackTmp:          0 kB\n",
            "CommitLimit:     6666796 kB\n",
            "Committed_AS:    3244068 kB\n",
            "VmallocTotal:   34359738367 kB\n",
            "VmallocUsed:           0 kB\n",
            "VmallocChunk:          0 kB\n",
            "Percpu:             1024 kB\n",
            "AnonHugePages:         0 kB\n",
            "ShmemHugePages:        0 kB\n",
            "ShmemPmdMapped:        0 kB\n",
            "HugePages_Total:       0\n",
            "HugePages_Free:        0\n",
            "HugePages_Rsvd:        0\n",
            "HugePages_Surp:        0\n",
            "Hugepagesize:       2048 kB\n",
            "Hugetlb:               0 kB\n",
            "DirectMap4k:       93416 kB\n",
            "DirectMap2M:     7245824 kB\n",
            "DirectMap1G:     8388608 kB\n"
          ],
          "name": "stdout"
        }
      ]
    },
    {
      "cell_type": "markdown",
      "metadata": {
        "id": "99p-OKLPSs0k"
      },
      "source": [
        "## **Import headers**"
      ]
    },
    {
      "cell_type": "code",
      "metadata": {
        "id": "vZfqBktrTczU"
      },
      "source": [
        "import tensorflow as tf\n",
        "\n",
        "from sklearn.model_selection import train_test_split\n",
        "\n",
        "import numpy as np\n",
        "import unicodedata\n",
        "import re\n",
        "import io"
      ],
      "execution_count": 2,
      "outputs": []
    },
    {
      "cell_type": "code",
      "metadata": {
        "colab": {
          "base_uri": "https://localhost:8080/"
        },
        "id": "kYlw1-9NazUq",
        "outputId": "fa720e35-77f8-4771-e850-3040df22aa0c"
      },
      "source": [
        "!pip install hazm"
      ],
      "execution_count": 3,
      "outputs": [
        {
          "output_type": "stream",
          "text": [
            "Requirement already satisfied: hazm in /usr/local/lib/python3.6/dist-packages (0.7.0)\n",
            "Requirement already satisfied: libwapiti>=0.2.1; platform_system != \"Windows\" in /usr/local/lib/python3.6/dist-packages (from hazm) (0.2.1)\n",
            "Requirement already satisfied: nltk==3.3 in /usr/local/lib/python3.6/dist-packages (from hazm) (3.3)\n",
            "Requirement already satisfied: six in /usr/local/lib/python3.6/dist-packages (from libwapiti>=0.2.1; platform_system != \"Windows\"->hazm) (1.15.0)\n"
          ],
          "name": "stdout"
        }
      ]
    },
    {
      "cell_type": "code",
      "metadata": {
        "id": "1rh6nrLka5Zk"
      },
      "source": [
        "from __future__ import unicode_literals\n",
        "from hazm import *"
      ],
      "execution_count": 4,
      "outputs": []
    },
    {
      "cell_type": "markdown",
      "metadata": {
        "id": "5xST28PQU58c"
      },
      "source": [
        "## **Mount corpora**"
      ]
    },
    {
      "cell_type": "code",
      "metadata": {
        "id": "HsyHzchDU4MF"
      },
      "source": [
        "file_path = '/content/drive/MyDrive/Multilingual_Multimodal_Unversal_MT/Parallel Corpora/Per-Eng/manythings/pes-eng/pes.txt'"
      ],
      "execution_count": 5,
      "outputs": []
    },
    {
      "cell_type": "markdown",
      "metadata": {
        "id": "5rmtGQSpWIRk"
      },
      "source": [
        "## **Preprocessing**"
      ]
    },
    {
      "cell_type": "code",
      "metadata": {
        "id": "zcSvWGE7Vzz1"
      },
      "source": [
        "def unicode_to_ascii(s):\n",
        "  return ''.join(c for c in unicodedata.normalize('NFD', s)\n",
        "      if unicodedata.category(c) != 'Mn') \n",
        "\n",
        "def preprocess_sentence(w):\n",
        "  w = unicode_to_ascii(w.lower().strip()) # lowercase\n",
        "  w = re.sub(r\"([?.!,¿])\", r\" \\1 \", w) # creating a space between every word and punctuation\n",
        "  w = re.sub(r'[\" \"]+', \" \", w)\n",
        "  w = re.sub(r\"[^a-zA-Z?.!,¿]+\", \" \", w) # replacing every word with space except those defined\n",
        "\n",
        "  w = w.strip() # remove space from beginning and end of string\n",
        "  w = '<start> '+ w + ' <end>' # later model needs this to know where to start and stop\n",
        "\n",
        "  return w\n",
        "\n",
        "def preprocess_per_sentence(w):\n",
        "  normalizer = Normalizer() # Persian normalizer instance (Hazm)\n",
        "  normalizer.normalize(w)\n",
        "  w = unicode_to_ascii(w.lower().strip()) # lowercase\n",
        "  w = re.sub(r'[\" \"]+', \" \", w)\n",
        "  w = re.sub(r\"([?.!,¿])\", r\" \\1 \", w)\n",
        "  w = '<start> '+ w + ' <end>'\n",
        "\n",
        "  return w\n"
      ],
      "execution_count": 6,
      "outputs": []
    },
    {
      "cell_type": "markdown",
      "metadata": {
        "id": "8jwu0zIHeN97"
      },
      "source": [
        "## **An example**"
      ]
    },
    {
      "cell_type": "code",
      "metadata": {
        "colab": {
          "base_uri": "https://localhost:8080/"
        },
        "id": "S_RB3V4QYL0q",
        "outputId": "147dc87f-2e4c-43a0-eba0-0415c036e5b5"
      },
      "source": [
        "eng_sentence = \"You have beautiful hands.\"\n",
        "per_sentence =\"تو دستهای زیبایی داری.\"\n",
        "\n",
        "\n",
        "print(preprocess_sentence(eng_sentence))\n",
        "print(preprocess_per_sentence(per_sentence))"
      ],
      "execution_count": 7,
      "outputs": [
        {
          "output_type": "stream",
          "text": [
            "<start> you have beautiful hands . <end>\n",
            "<start> تو دستهای زیبایی داری .  <end>\n"
          ],
          "name": "stdout"
        }
      ]
    },
    {
      "cell_type": "markdown",
      "metadata": {
        "id": "sqGOn_WcWboq"
      },
      "source": [
        "## **Create a dataset (word pair) from corpus**"
      ]
    },
    {
      "cell_type": "code",
      "metadata": {
        "id": "gGLaLO0leQeq"
      },
      "source": [
        "def create_dataset(path, num_examples):\n",
        "  lines = io.open(path, encoding=\"UTF-8\").read().strip().split('\\n')\n",
        "  word_pairs = [[preprocess_per_sentence(w) for w in l.split('\\t')]  for l in lines[:num_examples]]\n",
        "\n",
        "  return zip(*word_pairs) # zip used for parallel iteration"
      ],
      "execution_count": 8,
      "outputs": []
    },
    {
      "cell_type": "code",
      "metadata": {
        "id": "Yrjyp_mRSuLo"
      },
      "source": [
        "en, per, info = create_dataset(file_path, None) # info is an explanation which included in the corpus"
      ],
      "execution_count": 9,
      "outputs": []
    },
    {
      "cell_type": "code",
      "metadata": {
        "colab": {
          "base_uri": "https://localhost:8080/"
        },
        "id": "gt5XhN3PDLaH",
        "outputId": "76115518-3da0-4d28-89bd-63f35d6ae658"
      },
      "source": [
        "print(en[-3])\n",
        "print(per[-3])\n",
        "print(info[-3])"
      ],
      "execution_count": 10,
      "outputs": [
        {
          "output_type": "stream",
          "text": [
            "<start> the difference between the right word and almost the right word is the difference between lightning and the lightning bug .  <end>\n",
            "<start> تفاوت بین کلمه صحیح و کلمه تقریبا صحیح مانند تفاوت بین مهتاب و کرم شب‌تاب است .  <end>\n",
            "<start> cc-by 2 . 0 (france) attribution: tatoeba . org #667975 (ck) & #7525272 (cojiluc) <end>\n"
          ],
          "name": "stdout"
        }
      ]
    },
    {
      "cell_type": "code",
      "metadata": {
        "id": "frvP8TX_WRox"
      },
      "source": [
        "def tokenize(lang):\n",
        "  language_tokenizer = tf.keras.preprocessing.text.Tokenizer(filters = '')\n",
        "  \n",
        "  # Creating the vocabulary index based on word frequency.\n",
        "  # 0 is a reserved index that won't be assigned to any word\n",
        "  language_tokenizer.fit_on_texts(lang) \n",
        "\n",
        "  # Transforming each text in texts to a sequence of integers\n",
        "  tensor = language_tokenizer.texts_to_sequences(lang) \n",
        "\n",
        "  # pads the sequences to the same length.\n",
        "  # seq = [[1], [2, 3], [4, 5, 6]]\n",
        "  # post-padding\n",
        "  # array([[1, 0, 0],\n",
        "  #          [2, 3, 0],\n",
        "  #          [4, 5, 6]])\n",
        "  tensor = tf.keras.preprocessing.sequence.pad_sequences(tensor, padding='post')\n",
        "  \n",
        "  return tensor, language_tokenizer"
      ],
      "execution_count": 11,
      "outputs": []
    },
    {
      "cell_type": "code",
      "metadata": {
        "id": "qnMUJ4JClpQC"
      },
      "source": [
        "def load_dataset(path, number_examples = None):\n",
        "  target_language, source_language, info = create_dataset(path, number_examples)\n",
        "\n",
        "  source_tensor, source_lang_tokenize = tokenize(source_language)\n",
        "  target_tensor, target_lang_tokenize = tokenize(target_language)\n",
        "\n",
        "  return source_tensor, target_tensor, source_lang_tokenize, target_lang_tokenize, info"
      ],
      "execution_count": 12,
      "outputs": []
    },
    {
      "cell_type": "markdown",
      "metadata": {
        "id": "r3ILFUvxnqJr"
      },
      "source": [
        "**Limit/ control the size of dataset to experiment faster**"
      ]
    },
    {
      "cell_type": "code",
      "metadata": {
        "id": "VTaJDsRLnobX"
      },
      "source": [
        "number_examples = 2200 # var\n",
        "source_tensor, target_tensor, source_lang, target_lang, info = load_dataset(file_path, number_examples)\n"
      ],
      "execution_count": 13,
      "outputs": []
    },
    {
      "cell_type": "code",
      "metadata": {
        "id": "lCyI1JTX1pQZ"
      },
      "source": [
        "# Calculating max_length of the source and target tensors\n",
        "max_length_target, max_length_source = target_tensor.shape[1], source_tensor.shape[1]\n",
        "\n",
        "# Using sklearn to creat training and validation sets: 80-20 split\n",
        "source_tensor_train, source_tensor_val, target_tensor_train, target_tensor_val = train_test_split(source_tensor, target_tensor, test_size = 0.2)"
      ],
      "execution_count": 14,
      "outputs": []
    },
    {
      "cell_type": "code",
      "metadata": {
        "colab": {
          "base_uri": "https://localhost:8080/"
        },
        "id": "cNQPRA-e4KgY",
        "outputId": "49030240-d834-42ec-a9d6-426b1f82f0f4"
      },
      "source": [
        "# Print info up to here\n",
        "print(\" training size of source (Per): \", len(source_tensor_train),\"\\n\", \"training size of target (Eng): \", len(target_tensor_train), \"\\n\", \"validation size of source (Per): \", len(source_tensor_val), \"\\n\", \"validation size of target (Eng): \", len(target_tensor_val))"
      ],
      "execution_count": 15,
      "outputs": [
        {
          "output_type": "stream",
          "text": [
            " training size of source (Per):  1760 \n",
            " training size of target (Eng):  1760 \n",
            " validation size of source (Per):  440 \n",
            " validation size of target (Eng):  440\n"
          ],
          "name": "stdout"
        }
      ]
    },
    {
      "cell_type": "markdown",
      "metadata": {
        "id": "yQef_1Ii_Nfk"
      },
      "source": [
        "### **Finding the word from their indices or vice versa (word-index dictionary)**"
      ]
    },
    {
      "cell_type": "code",
      "metadata": {
        "id": "XuZ_aPR0_hKI"
      },
      "source": [
        "def convert(language, tensor):\n",
        "  for t in tensor:\n",
        "    if t!=0:\n",
        "      print(\"%d ––––––> %s\" % (t, language.index_word[t]))"
      ],
      "execution_count": 16,
      "outputs": []
    },
    {
      "cell_type": "code",
      "metadata": {
        "colab": {
          "base_uri": "https://localhost:8080/"
        },
        "id": "qt3pdlGfByaM",
        "outputId": "940da8e4-f1b2-44fa-ddf9-2c3cc8f953b9"
      },
      "source": [
        "print(\"mapping source language: index to word\")\n",
        "convert(source_lang, source_tensor_train[0])\n",
        "print(\"\")\n",
        "print(\"mapping target language: index to word\")\n",
        "convert(target_lang, target_tensor_train[0])"
      ],
      "execution_count": 17,
      "outputs": [
        {
          "output_type": "stream",
          "text": [
            "mapping source language: index to word\n",
            "1 ––––––> <start>\n",
            "1192 ––––––> نمایشگاه\n",
            "25 ––––––> برای\n",
            "14 ––––––> یک\n",
            "376 ––––––> ماه\n",
            "97 ––––––> دیگر\n",
            "142 ––––––> باز\n",
            "314 ––––––> خواهند\n",
            "364 ––––––> ماند\n",
            "3 ––––––> .\n",
            "2 ––––––> <end>\n",
            "\n",
            "mapping target language: index to word\n",
            "1 ––––––> <start>\n",
            "4 ––––––> the\n",
            "968 ––––––> exhibition\n",
            "40 ––––––> will\n",
            "165 ––––––> stay\n",
            "290 ––––––> open\n",
            "23 ––––––> for\n",
            "532 ––––––> another\n",
            "537 ––––––> month\n",
            "3 ––––––> .\n",
            "2 ––––––> <end>\n"
          ],
          "name": "stdout"
        }
      ]
    },
    {
      "cell_type": "markdown",
      "metadata": {
        "id": "HBT8Njk4H8ts"
      },
      "source": [
        "## **Dataset preparation for Tensorflow**\n"
      ]
    },
    {
      "cell_type": "code",
      "metadata": {
        "colab": {
          "base_uri": "https://localhost:8080/"
        },
        "id": "AqCVXCNqH5Lm",
        "outputId": "976188bb-184a-40f0-9b2e-d9425b152250"
      },
      "source": [
        "#Hyperparameters\n",
        "BATCH_SIZE = 64\n",
        "step_per_epoch = len(source_tensor_train) // BATCH_SIZE\n",
        "embedding_dimension = 256\n",
        "units = 1024\n",
        "BUFFER_SIZE = len(source_tensor_train)\n",
        "vocabulary_source_size = len(source_lang.word_index) + 1\n",
        "vocabulary_target_size = len(target_lang.word_index) + 1\n",
        "\n",
        "print(\"Persian vocabulary size: \", vocabulary_source_size)\n",
        "print(\"English vocabulary size: \", vocabulary_target_size)"
      ],
      "execution_count": 18,
      "outputs": [
        {
          "output_type": "stream",
          "text": [
            "Persian vocabulary size:  3533\n",
            "English vocabulary size:  2438\n"
          ],
          "name": "stdout"
        }
      ]
    },
    {
      "cell_type": "code",
      "metadata": {
        "id": "p1P4jQ2WX1u_"
      },
      "source": [
        "# Keras models accept three types of inputs: Numpy array, TF dataset objects(sth I used here), and Python generators\n",
        "dataset = tf.data.Dataset.from_tensor_slices((source_tensor_train, target_tensor_train)).shuffle(BUFFER_SIZE)\n",
        "# drop_remainder ignores the last batch\n",
        "dataset = dataset.batch(BATCH_SIZE, drop_remainder=True)"
      ],
      "execution_count": 19,
      "outputs": []
    },
    {
      "cell_type": "markdown",
      "metadata": {
        "id": "TzaRIW_kydEf"
      },
      "source": [
        "### **An example**"
      ]
    },
    {
      "cell_type": "code",
      "metadata": {
        "colab": {
          "base_uri": "https://localhost:8080/"
        },
        "id": "ztLONwXWeVOy",
        "outputId": "fd3e35f0-b192-4dd7-efec-0d700b0b94e7"
      },
      "source": [
        "example_source_batch, example_target_batch = next(iter(dataset))\n",
        "example_source_batch.shape, example_target_batch.shape"
      ],
      "execution_count": 20,
      "outputs": [
        {
          "output_type": "execute_result",
          "data": {
            "text/plain": [
              "(TensorShape([64, 19]), TensorShape([64, 19]))"
            ]
          },
          "metadata": {
            "tags": []
          },
          "execution_count": 20
        }
      ]
    },
    {
      "cell_type": "markdown",
      "metadata": {
        "id": "U6w8zhe8DWpJ"
      },
      "source": [
        "## **Designing encoder and decoder model with attention**"
      ]
    },
    {
      "cell_type": "markdown",
      "metadata": {
        "id": "dDkzWA-Uyq0F"
      },
      "source": [
        "## **Encoder**\n",
        "![Screen Shot 2021-01-18 at 23.23.56.png](data:image/png;base64,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)"
      ]
    },
    {
      "cell_type": "code",
      "metadata": {
        "id": "n7UDvKLRyqGc"
      },
      "source": [
        "# ENCODER:\n",
        "# Embedding layer (1)\n",
        "# GRU layer (2)\n",
        "# First hidden layer shape is: [batch_size, number of neurons]\n",
        "# Second or output layer shape is: [batch_size, max_length, number of neurons]\n",
        "#..................................................................\n",
        "class Encoder(tf.keras.Model):\n",
        "  def __init__(self, vocabulary_size, embedding_dimension, encoder_units, batch_size):\n",
        "    super(Encoder, self).__init__()\n",
        "    self.batch_size = batch_size\n",
        "    self.encoder_units = encoder_units\n",
        "    self.embedding = tf.keras.layers.Embedding(vocabulary_size, embedding_dimension)\n",
        "    self.gru = tf.keras.layers.GRU(self.encoder_units, \n",
        "                                              return_sequences=True,\n",
        "                                              return_state=True,\n",
        "                                              recurrent_initializer='glorot_uniform') # default: orthogonal\n",
        "  \n",
        "  def call(self, x, hidden):\n",
        "    x = self.embedding(x)\n",
        "    output, state = self.gru(x, initial_state=hidden)\n",
        "    return output, state\n",
        "  \n",
        "\n",
        "  def initialize_hidden_state(self):\n",
        "    return tf.zeros((self.batch_size, self.encoder_units))"
      ],
      "execution_count": 21,
      "outputs": []
    },
    {
      "cell_type": "code",
      "metadata": {
        "id": "VYWjSxnEy8Y2"
      },
      "source": [
        "encoder = Encoder(vocabulary_source_size, embedding_dimension, units, BATCH_SIZE)"
      ],
      "execution_count": 22,
      "outputs": []
    },
    {
      "cell_type": "markdown",
      "metadata": {
        "id": "OVQivzfo2YIS"
      },
      "source": [
        "### **An example of encoder**"
      ]
    },
    {
      "cell_type": "code",
      "metadata": {
        "colab": {
          "base_uri": "https://localhost:8080/"
        },
        "id": "jjbn8rGg2Xa6",
        "outputId": "7b19089e-d0ce-4a4e-a077-066cb687d155"
      },
      "source": [
        "# Sample\n",
        "sample_hidden = encoder.initialize_hidden_state()\n",
        "sample_output, sample_hidden = encoder(example_source_batch, sample_hidden)\n",
        "print ('Encoder output shape: (batch size, sequence length, units) {}'.format(sample_output.shape))\n",
        "print ('Encoder hidden state shape: (batch size, units) {}'.format(sample_hidden.shape))"
      ],
      "execution_count": 23,
      "outputs": [
        {
          "output_type": "stream",
          "text": [
            "Encoder output shape: (batch size, sequence length, units) (64, 19, 1024)\n",
            "Encoder hidden state shape: (batch size, units) (64, 1024)\n"
          ],
          "name": "stdout"
        }
      ]
    }
  ]
}