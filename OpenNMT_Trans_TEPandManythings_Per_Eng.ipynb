{
  "nbformat": 4,
  "nbformat_minor": 0,
  "metadata": {
    "colab": {
      "name": "OpenNMT_Trans_TEPandManythings_Per_Eng.ipynb",
      "provenance": [],
      "collapsed_sections": [],
      "mount_file_id": "1tknBdmqbLBrqhhMyMg4u6m7X6lOIunh9",
      "authorship_tag": "ABX9TyPN8za4vcNEAuhFbUMp2VPv",
      "include_colab_link": true
    },
    "kernelspec": {
      "name": "python3",
      "display_name": "Python 3"
    },
    "accelerator": "GPU"
  },
  "cells": [
    {
      "cell_type": "markdown",
      "metadata": {
        "id": "view-in-github",
        "colab_type": "text"
      },
      "source": [
        "<a href=\"https://colab.research.google.com/github/JoyeBright/Multilingual_Multimodal_Universal_MT/blob/main/OpenNMT_Trans_TEPandManythings_Per_Eng.ipynb\" target=\"_parent\"><img src=\"https://colab.research.google.com/assets/colab-badge.svg\" alt=\"Open In Colab\"/></a>"
      ]
    },
    {
      "cell_type": "markdown",
      "metadata": {
        "id": "43iSmHkTAyG4"
      },
      "source": [
        "### **Install OpenNMT-py**"
      ]
    },
    {
      "cell_type": "code",
      "metadata": {
        "colab": {
          "base_uri": "https://localhost:8080/"
        },
        "id": "xtzuCJCl-w20",
        "outputId": "961771d8-634d-4a5b-fbaa-85382d8441a4"
      },
      "source": [
        "!pip install --upgrade pip\n",
        "!pip install OpenNMT-py"
      ],
      "execution_count": 2,
      "outputs": [
        {
          "output_type": "stream",
          "text": [
            "Collecting pip\n",
            "\u001b[?25l  Downloading https://files.pythonhosted.org/packages/de/47/58b9f3e6f611dfd17fb8bd9ed3e6f93b7ee662fb85bdfee3565e8979ddf7/pip-21.0-py3-none-any.whl (1.5MB)\n",
            "\u001b[K     |████████████████████████████████| 1.5MB 5.7MB/s \n",
            "\u001b[?25hInstalling collected packages: pip\n",
            "  Found existing installation: pip 19.3.1\n",
            "    Uninstalling pip-19.3.1:\n",
            "      Successfully uninstalled pip-19.3.1\n",
            "Successfully installed pip-21.0\n",
            "Collecting OpenNMT-py\n",
            "  Downloading OpenNMT_py-2.0.1-py3-none-any.whl (207 kB)\n",
            "\u001b[K     |████████████████████████████████| 207 kB 5.7 MB/s \n",
            "\u001b[?25hCollecting configargparse<2,>=1.2.3\n",
            "  Downloading ConfigArgParse-1.2.3.tar.gz (42 kB)\n",
            "\u001b[K     |████████████████████████████████| 42 kB 1.3 MB/s \n",
            "\u001b[?25hCollecting waitress==1.4.4\n",
            "  Downloading waitress-1.4.4-py2.py3-none-any.whl (58 kB)\n",
            "\u001b[K     |████████████████████████████████| 58 kB 3.3 MB/s \n",
            "\u001b[?25hCollecting torch==1.6.0\n",
            "  Downloading torch-1.6.0-cp36-cp36m-manylinux1_x86_64.whl (748.8 MB)\n",
            "\u001b[K     |████████████████████████████████| 748.8 MB 8.5 kB/s \n",
            "\u001b[?25hRequirement already satisfied: tensorboard<3,>=2.3 in /usr/local/lib/python3.6/dist-packages (from OpenNMT-py) (2.4.1)\n",
            "Collecting torchtext==0.5.0\n",
            "  Downloading torchtext-0.5.0-py3-none-any.whl (73 kB)\n",
            "\u001b[K     |████████████████████████████████| 73 kB 1.8 MB/s \n",
            "\u001b[?25hCollecting pyyaml==5.3.1\n",
            "  Downloading PyYAML-5.3.1.tar.gz (269 kB)\n",
            "\u001b[K     |████████████████████████████████| 269 kB 72.9 MB/s \n",
            "\u001b[?25hCollecting pyonmttok<2,>=1.23\n",
            "  Downloading pyonmttok-1.23.0-cp36-cp36m-manylinux1_x86_64.whl (2.5 MB)\n",
            "\u001b[K     |████████████████████████████████| 2.5 MB 66.2 MB/s \n",
            "\u001b[?25hRequirement already satisfied: flask==1.1.2 in /usr/local/lib/python3.6/dist-packages (from OpenNMT-py) (1.1.2)\n",
            "Collecting tqdm<5,>=4.51\n",
            "  Downloading tqdm-4.56.0-py2.py3-none-any.whl (72 kB)\n",
            "\u001b[K     |████████████████████████████████| 72 kB 973 kB/s \n",
            "\u001b[?25hRequirement already satisfied: Jinja2>=2.10.1 in /usr/local/lib/python3.6/dist-packages (from flask==1.1.2->OpenNMT-py) (2.11.2)\n",
            "Requirement already satisfied: click>=5.1 in /usr/local/lib/python3.6/dist-packages (from flask==1.1.2->OpenNMT-py) (7.1.2)\n",
            "Requirement already satisfied: itsdangerous>=0.24 in /usr/local/lib/python3.6/dist-packages (from flask==1.1.2->OpenNMT-py) (1.1.0)\n",
            "Requirement already satisfied: Werkzeug>=0.15 in /usr/local/lib/python3.6/dist-packages (from flask==1.1.2->OpenNMT-py) (1.0.1)\n",
            "Requirement already satisfied: future in /usr/local/lib/python3.6/dist-packages (from torch==1.6.0->OpenNMT-py) (0.16.0)\n",
            "Requirement already satisfied: numpy in /usr/local/lib/python3.6/dist-packages (from torch==1.6.0->OpenNMT-py) (1.19.5)\n",
            "Requirement already satisfied: six in /usr/local/lib/python3.6/dist-packages (from torchtext==0.5.0->OpenNMT-py) (1.15.0)\n",
            "Collecting sentencepiece\n",
            "  Downloading sentencepiece-0.1.95-cp36-cp36m-manylinux2014_x86_64.whl (1.2 MB)\n",
            "\u001b[K     |████████████████████████████████| 1.2 MB 59.1 MB/s \n",
            "\u001b[?25hRequirement already satisfied: requests in /usr/local/lib/python3.6/dist-packages (from torchtext==0.5.0->OpenNMT-py) (2.23.0)\n",
            "Requirement already satisfied: MarkupSafe>=0.23 in /usr/local/lib/python3.6/dist-packages (from Jinja2>=2.10.1->flask==1.1.2->OpenNMT-py) (1.1.1)\n",
            "Requirement already satisfied: wheel>=0.26 in /usr/local/lib/python3.6/dist-packages (from tensorboard<3,>=2.3->OpenNMT-py) (0.36.2)\n",
            "Requirement already satisfied: protobuf>=3.6.0 in /usr/local/lib/python3.6/dist-packages (from tensorboard<3,>=2.3->OpenNMT-py) (3.12.4)\n",
            "Requirement already satisfied: markdown>=2.6.8 in /usr/local/lib/python3.6/dist-packages (from tensorboard<3,>=2.3->OpenNMT-py) (3.3.3)\n",
            "Requirement already satisfied: setuptools>=41.0.0 in /usr/local/lib/python3.6/dist-packages (from tensorboard<3,>=2.3->OpenNMT-py) (51.3.3)\n",
            "Requirement already satisfied: tensorboard-plugin-wit>=1.6.0 in /usr/local/lib/python3.6/dist-packages (from tensorboard<3,>=2.3->OpenNMT-py) (1.8.0)\n",
            "Requirement already satisfied: absl-py>=0.4 in /usr/local/lib/python3.6/dist-packages (from tensorboard<3,>=2.3->OpenNMT-py) (0.10.0)\n",
            "Requirement already satisfied: google-auth<2,>=1.6.3 in /usr/local/lib/python3.6/dist-packages (from tensorboard<3,>=2.3->OpenNMT-py) (1.17.2)\n",
            "Requirement already satisfied: grpcio>=1.24.3 in /usr/local/lib/python3.6/dist-packages (from tensorboard<3,>=2.3->OpenNMT-py) (1.32.0)\n",
            "Requirement already satisfied: google-auth-oauthlib<0.5,>=0.4.1 in /usr/local/lib/python3.6/dist-packages (from tensorboard<3,>=2.3->OpenNMT-py) (0.4.2)\n",
            "Requirement already satisfied: pyasn1-modules>=0.2.1 in /usr/local/lib/python3.6/dist-packages (from google-auth<2,>=1.6.3->tensorboard<3,>=2.3->OpenNMT-py) (0.2.8)\n",
            "Requirement already satisfied: cachetools<5.0,>=2.0.0 in /usr/local/lib/python3.6/dist-packages (from google-auth<2,>=1.6.3->tensorboard<3,>=2.3->OpenNMT-py) (4.2.1)\n",
            "Requirement already satisfied: rsa<5,>=3.1.4 in /usr/local/lib/python3.6/dist-packages (from google-auth<2,>=1.6.3->tensorboard<3,>=2.3->OpenNMT-py) (4.7)\n",
            "Requirement already satisfied: requests-oauthlib>=0.7.0 in /usr/local/lib/python3.6/dist-packages (from google-auth-oauthlib<0.5,>=0.4.1->tensorboard<3,>=2.3->OpenNMT-py) (1.3.0)\n",
            "Requirement already satisfied: importlib-metadata in /usr/local/lib/python3.6/dist-packages (from markdown>=2.6.8->tensorboard<3,>=2.3->OpenNMT-py) (3.4.0)\n",
            "Requirement already satisfied: pyasn1<0.5.0,>=0.4.6 in /usr/local/lib/python3.6/dist-packages (from pyasn1-modules>=0.2.1->google-auth<2,>=1.6.3->tensorboard<3,>=2.3->OpenNMT-py) (0.4.8)\n",
            "Requirement already satisfied: chardet<4,>=3.0.2 in /usr/local/lib/python3.6/dist-packages (from requests->torchtext==0.5.0->OpenNMT-py) (3.0.4)\n",
            "Requirement already satisfied: certifi>=2017.4.17 in /usr/local/lib/python3.6/dist-packages (from requests->torchtext==0.5.0->OpenNMT-py) (2020.12.5)\n",
            "Requirement already satisfied: idna<3,>=2.5 in /usr/local/lib/python3.6/dist-packages (from requests->torchtext==0.5.0->OpenNMT-py) (2.10)\n",
            "Requirement already satisfied: urllib3!=1.25.0,!=1.25.1,<1.26,>=1.21.1 in /usr/local/lib/python3.6/dist-packages (from requests->torchtext==0.5.0->OpenNMT-py) (1.24.3)\n",
            "Requirement already satisfied: oauthlib>=3.0.0 in /usr/local/lib/python3.6/dist-packages (from requests-oauthlib>=0.7.0->google-auth-oauthlib<0.5,>=0.4.1->tensorboard<3,>=2.3->OpenNMT-py) (3.1.0)\n",
            "Requirement already satisfied: typing-extensions>=3.6.4 in /usr/local/lib/python3.6/dist-packages (from importlib-metadata->markdown>=2.6.8->tensorboard<3,>=2.3->OpenNMT-py) (3.7.4.3)\n",
            "Requirement already satisfied: zipp>=0.5 in /usr/local/lib/python3.6/dist-packages (from importlib-metadata->markdown>=2.6.8->tensorboard<3,>=2.3->OpenNMT-py) (3.4.0)\n",
            "Building wheels for collected packages: pyyaml, configargparse\n",
            "  Building wheel for pyyaml (setup.py) ... \u001b[?25l\u001b[?25hdone\n",
            "  Created wheel for pyyaml: filename=PyYAML-5.3.1-cp36-cp36m-linux_x86_64.whl size=44621 sha256=f1fc09bb3a23b89c15fc8ca7b113e497a91019148f3299c4d1d2525975c13564\n",
            "  Stored in directory: /root/.cache/pip/wheels/e5/9d/ad/2ee53cf262cba1ffd8afe1487eef788ea3f260b7e6232a80fc\n",
            "  Building wheel for configargparse (setup.py) ... \u001b[?25l\u001b[?25hdone\n",
            "  Created wheel for configargparse: filename=ConfigArgParse-1.2.3-py3-none-any.whl size=19327 sha256=87d3ecf5a6318b800245276204b6f3cd55fe59c8dd19a18706752d8737d6ff0e\n",
            "  Stored in directory: /root/.cache/pip/wheels/ee/c1/ad/ab1d6fd3b6e32d4444fe79f88d8832689a0d3c3a74188051ea\n",
            "Successfully built pyyaml configargparse\n",
            "Installing collected packages: tqdm, torch, sentencepiece, waitress, torchtext, pyyaml, pyonmttok, configargparse, OpenNMT-py\n",
            "  Attempting uninstall: tqdm\n",
            "    Found existing installation: tqdm 4.41.1\n",
            "    Uninstalling tqdm-4.41.1:\n",
            "      Successfully uninstalled tqdm-4.41.1\n",
            "  Attempting uninstall: torch\n",
            "    Found existing installation: torch 1.7.0+cu101\n",
            "    Uninstalling torch-1.7.0+cu101:\n",
            "      Successfully uninstalled torch-1.7.0+cu101\n",
            "  Attempting uninstall: torchtext\n",
            "    Found existing installation: torchtext 0.3.1\n",
            "    Uninstalling torchtext-0.3.1:\n",
            "      Successfully uninstalled torchtext-0.3.1\n",
            "  Attempting uninstall: pyyaml\n",
            "    Found existing installation: PyYAML 3.13\n",
            "    Uninstalling PyYAML-3.13:\n",
            "      Successfully uninstalled PyYAML-3.13\n",
            "\u001b[31mERROR: pip's dependency resolver does not currently take into account all the packages that are installed. This behaviour is the source of the following dependency conflicts.\n",
            "torchvision 0.8.1+cu101 requires torch==1.7.0, but you have torch 1.6.0 which is incompatible.\u001b[0m\n",
            "Successfully installed OpenNMT-py-2.0.1 configargparse-1.2.3 pyonmttok-1.23.0 pyyaml-5.3.1 sentencepiece-0.1.95 torch-1.6.0 torchtext-0.5.0 tqdm-4.56.0 waitress-1.4.4\n"
          ],
          "name": "stdout"
        }
      ]
    },
    {
      "cell_type": "markdown",
      "metadata": {
        "id": "ajBunN7kBCVt"
      },
      "source": [
        "### **Preparing Dataset (TEP + Manythings.org)**"
      ]
    },
    {
      "cell_type": "code",
      "metadata": {
        "id": "-2uhcwlZBB19"
      },
      "source": [
        "manythings_path = \"/content/drive/MyDrive/Multilingual_Multimodal_Unversal_MT/Per_Eng_Trans_V1/raw_data/Manythings/pes.txt\""
      ],
      "execution_count": 15,
      "outputs": []
    },
    {
      "cell_type": "code",
      "metadata": {
        "id": "CP2cv322CNT5"
      },
      "source": [
        "import re\n",
        "\n",
        "text_file = open(\"/content/drive/MyDrive/Multilingual_Multimodal_Unversal_MT/Per_Eng_Trans_V1/raw_data/Manythings/English.txt\", \"w\")\n",
        "text_file2 = open(\"/content/drive/MyDrive/Multilingual_Multimodal_Unversal_MT/Per_Eng_Trans_V1/raw_data/Manythings/Persian.txt\", \"w\")\n",
        "\n",
        "f = open(manythings_path, \"r\")\n",
        "for r in f:\n",
        "  text_file.write(re.split(r'\\t+', r)[0]+\"\\n\") # English txt\n",
        "  text_file2.write(re.split(r'\\t+', r)[1]+\"\\n\") # Persian txt"
      ],
      "execution_count": 16,
      "outputs": []
    },
    {
      "cell_type": "code",
      "metadata": {
        "id": "B3aYuwmMCq6R"
      },
      "source": [
        "text_file.close()\n",
        "text_file2.close()"
      ],
      "execution_count": 17,
      "outputs": []
    },
    {
      "cell_type": "code",
      "metadata": {
        "colab": {
          "base_uri": "https://localhost:8080/"
        },
        "id": "sd3HKCueCr8w",
        "outputId": "1a83a2e2-b3b0-4743-85e7-2d43abce286e"
      },
      "source": [
        "!wget \"https://object.pouta.csc.fi/OPUS-TEP/v1/mono/en.txt.gz\""
      ],
      "execution_count": 6,
      "outputs": [
        {
          "output_type": "stream",
          "text": [
            "--2021-01-29 13:31:20--  https://object.pouta.csc.fi/OPUS-TEP/v1/mono/en.txt.gz\n",
            "Resolving object.pouta.csc.fi (object.pouta.csc.fi)... 86.50.254.19, 86.50.254.18\n",
            "Connecting to object.pouta.csc.fi (object.pouta.csc.fi)|86.50.254.19|:443... connected.\n",
            "HTTP request sent, awaiting response... 200 OK\n",
            "Length: 7181699 (6.8M) [application/gzip]\n",
            "Saving to: ‘en.txt.gz’\n",
            "\n",
            "en.txt.gz           100%[===================>]   6.85M  5.75MB/s    in 1.2s    \n",
            "\n",
            "2021-01-29 13:31:23 (5.75 MB/s) - ‘en.txt.gz’ saved [7181699/7181699]\n",
            "\n"
          ],
          "name": "stdout"
        }
      ]
    },
    {
      "cell_type": "code",
      "metadata": {
        "colab": {
          "base_uri": "https://localhost:8080/"
        },
        "id": "ZJ0L6_uYFCXf",
        "outputId": "6db67a06-fa38-4c8b-8c63-c295dce4813d"
      },
      "source": [
        "!wget \"https://object.pouta.csc.fi/OPUS-TEP/v1/mono/fa.txt.gz\""
      ],
      "execution_count": 7,
      "outputs": [
        {
          "output_type": "stream",
          "text": [
            "--2021-01-29 13:31:23--  https://object.pouta.csc.fi/OPUS-TEP/v1/mono/fa.txt.gz\n",
            "Resolving object.pouta.csc.fi (object.pouta.csc.fi)... 86.50.254.19, 86.50.254.18\n",
            "Connecting to object.pouta.csc.fi (object.pouta.csc.fi)|86.50.254.19|:443... connected.\n",
            "HTTP request sent, awaiting response... 200 OK\n",
            "Length: 9170583 (8.7M) [application/gzip]\n",
            "Saving to: ‘fa.txt.gz’\n",
            "\n",
            "fa.txt.gz           100%[===================>]   8.75M  7.30MB/s    in 1.2s    \n",
            "\n",
            "2021-01-29 13:31:25 (7.30 MB/s) - ‘fa.txt.gz’ saved [9170583/9170583]\n",
            "\n"
          ],
          "name": "stdout"
        }
      ]
    },
    {
      "cell_type": "code",
      "metadata": {
        "id": "-3jJ1pF8FXIk"
      },
      "source": [
        "!gunzip -k \"/content/en.txt.gz\"\n",
        "!gunzip -k \"/content/fa.txt.gz\""
      ],
      "execution_count": 8,
      "outputs": []
    },
    {
      "cell_type": "code",
      "metadata": {
        "colab": {
          "base_uri": "https://localhost:8080/"
        },
        "id": "jiXCSVz_FywJ",
        "outputId": "42960e31-d9e6-4207-fea6-28bf0330266c"
      },
      "source": [
        "file = open(\"/content/en.txt\", \"r\")\n",
        "line_count = 0\n",
        "for line in file:\n",
        "    if line != \"\\n\":\n",
        "        line_count += 1\n",
        "file.close()\n",
        "\n",
        "print(\"English Sentences:\", line_count)"
      ],
      "execution_count": 9,
      "outputs": [
        {
          "output_type": "stream",
          "text": [
            "English Sentences: 612086\n"
          ],
          "name": "stdout"
        }
      ]
    },
    {
      "cell_type": "code",
      "metadata": {
        "colab": {
          "base_uri": "https://localhost:8080/"
        },
        "id": "8FbtwM-AG-Ax",
        "outputId": "93381028-1739-452e-c606-ce7cea66a3b0"
      },
      "source": [
        "file = open(\"/content/fa.txt\", \"r\")\n",
        "line_count = 0\n",
        "for line in file:\n",
        "    if line != \"\\n\":\n",
        "        line_count += 1\n",
        "file.close()\n",
        "\n",
        "print(\"Persian Sentences:\", line_count)"
      ],
      "execution_count": 10,
      "outputs": [
        {
          "output_type": "stream",
          "text": [
            "Persian Sentences: 612086\n"
          ],
          "name": "stdout"
        }
      ]
    },
    {
      "cell_type": "code",
      "metadata": {
        "colab": {
          "base_uri": "https://localhost:8080/"
        },
        "id": "pxYBMIkUIvBa",
        "outputId": "859adecf-f844-445c-a8d0-a4f32b727391"
      },
      "source": [
        "!head -10 \"/content/en.txt\""
      ],
      "execution_count": 11,
      "outputs": [
        {
          "output_type": "stream",
          "text": [
            "raspy breathing .\n",
            "dad .\n",
            "maybe its the wind .\n",
            "no .\n",
            "stop please stop .\n",
            "you have a week , evans then well burn the house .\n",
            "william .\n",
            "god damn it , william .\n",
            "god damn it put that down .\n",
            "let go .\n"
          ],
          "name": "stdout"
        }
      ]
    },
    {
      "cell_type": "code",
      "metadata": {
        "colab": {
          "base_uri": "https://localhost:8080/"
        },
        "id": "Hc6UrXkiJ97C",
        "outputId": "feb987a6-f264-4ca6-d2a9-644ffb3866c8"
      },
      "source": [
        "!head -10 \"/content/fa.txt\""
      ],
      "execution_count": 12,
      "outputs": [
        {
          "output_type": "stream",
          "text": [
            "صداي خر خر .\n",
            "پدر .\n",
            "شايد صداي باد باشه .\n",
            "نه .\n",
            "دست نگه داريد خواهش ميکنم دست نگه داريد .\n",
            "اوانز تو فقط يک هفته وقت داري وگرنه خونتو خواهيم سوزوند .\n",
            "ويليام .\n",
            "لعنتي . ويليام 8 .\n",
            "لعنت به تو . اونو بذار زمين .\n",
            "بذار برم .\n"
          ],
          "name": "stdout"
        }
      ]
    },
    {
      "cell_type": "markdown",
      "metadata": {
        "id": "thXR1XP0X1iT"
      },
      "source": [
        "## **Data Splitting**"
      ]
    },
    {
      "cell_type": "code",
      "metadata": {
        "colab": {
          "base_uri": "https://localhost:8080/"
        },
        "id": "1XeTh7rTq8vh",
        "outputId": "2425f4af-8ad0-46aa-df76-62485c7db437"
      },
      "source": [
        "!git clone https://github.com/JoyeBright/Multilingual_Multimodal_Universal_MT.git"
      ],
      "execution_count": 23,
      "outputs": [
        {
          "output_type": "stream",
          "text": [
            "Cloning into 'Multilingual_Multimodal_Universal_MT'...\n",
            "remote: Enumerating objects: 99, done.\u001b[K\n",
            "remote: Counting objects: 100% (99/99), done.\u001b[K\n",
            "remote: Compressing objects: 100% (85/85), done.\u001b[K\n",
            "remote: Total 99 (delta 35), reused 24 (delta 0), pack-reused 0\u001b[K\n",
            "Unpacking objects: 100% (99/99), done.\n"
          ],
          "name": "stdout"
        }
      ]
    },
    {
      "cell_type": "code",
      "metadata": {
        "colab": {
          "base_uri": "https://localhost:8080/"
        },
        "id": "JAiRS22wpOdl",
        "outputId": "d50ffc0f-c122-48dd-ca14-2912b5976e41"
      },
      "source": [
        "!python /content/Multilingual_Multimodal_Universal_MT/train_test_dev.py -s /content/drive/MyDrive/Multilingual_Multimodal_Unversal_MT/Per_Eng_Trans_V1/raw_data/TEP/Persian.tok.txt -t /content/drive/MyDrive/Multilingual_Multimodal_Unversal_MT/Per_Eng_Trans_V1/raw_data/TEP/English.tok.txt"
      ],
      "execution_count": 30,
      "outputs": [
        {
          "output_type": "stream",
          "text": [
            "Spliting ...\n",
            "done.\n",
            "Cleaning ...\n",
            "done.\n",
            "Saving to: /content/drive/.shortcut-targets-by-id/113/Multilingual_Multimodal_Universal_MT/Per_Eng_Trans_V1/raw_data/TEP\n",
            "All done.\n"
          ],
          "name": "stdout"
        }
      ]
    },
    {
      "cell_type": "code",
      "metadata": {
        "colab": {
          "base_uri": "https://localhost:8080/"
        },
        "id": "BfoYMJ4hrcQo",
        "outputId": "65379fd0-7f6d-4f32-a937-20631c3bfe6f"
      },
      "source": [
        "!head -10 /content/drive/MyDrive/Multilingual_Multimodal_Unversal_MT/Per_Eng_Trans_V1/raw_data/TEP/train.tok.clean.trg"
      ],
      "execution_count": 32,
      "outputs": [
        {
          "output_type": "stream",
          "text": [
            "yeun-seng, would you go and ask her if she found it?\n",
            "nothing really out of the ordinary .\n",
            "but maybe it doesn't taste completely like beef...\n",
            "you you gotta end it , okay .\n",
            "yes. but she seemed troubled is there something wrong?\n",
            "its got blood on it .\n",
            "monkey .\n",
            "but if you dig deeper, there's the underground.\n",
            "simply means that youre trying to evade .\n",
            "remain .\n"
          ],
          "name": "stdout"
        }
      ]
    },
    {
      "cell_type": "code",
      "metadata": {
        "colab": {
          "base_uri": "https://localhost:8080/"
        },
        "id": "c0NpiiAwsCD8",
        "outputId": "9f42e145-5a53-4058-ae3e-aa12a80ba97c"
      },
      "source": [
        "!head -40 /content/drive/MyDrive/Multilingual_Multimodal_Unversal_MT/Per_Eng_Trans_V1/raw_data/TEP/Persian.tok.txt"
      ],
      "execution_count": 29,
      "outputs": [
        {
          "output_type": "stream",
          "text": [
            "صداي خر خر .\n",
            "پدر .\n",
            "شايد صداي باد باشه .\n",
            "نه .\n",
            "دست نگه داريد خواهش ميکنم دست نگه داريد .\n",
            "اوانز تو فقط يک هفته وقت داري وگرنه خونتو خواهيم سوزوند .\n",
            "ويليام .\n",
            "لعنتي . ويليام 8 .\n",
            "لعنت به تو . اونو بذار زمين .\n",
            "بذار برم .\n",
            "اين آخرين علوفه اي بود که ما داشتيم .\n",
            "من خودم اين کارو انجام ميدهم .\n",
            "نه تو نميکني .\n",
            "گله را آوردم بيرون الان . تو برو اونجا را تميز کن .\n",
            "تو به من دروغ گفتي دن .\n",
            "تو به من گفتي قرضمونو به هلندر پرداخت کرديم . ما پرداخت کرديم .\n",
            "خب پس تو فکر ميکني ما چطوري علوفه خريديم سه ماه آب خرج دارو مارک .\n",
            "من فقط يک انتخاب بين خانوادم و پرداخت قرض اونا داشتم .\n",
            "ما قرار بود تصميماتو با هم بگيريم .\n",
            "مگه تو تصميمه ديگه اي ميگرفتي .\n",
            "آليس . مادوباره ميتونيم همه چي را دوباره جمع کنيم خاکو به علف تبديل کنيم .\n",
            "ما هم نميتونيم جلوي هلندر را از فروش زمينمون به راه آهن بگيريم .\n",
            "مشکل اينجاست که دکترها در درمانگاه کار زيادي براي پاي من نکردن مستمري هم الان به پوند پرداخت ميشه .\n",
            "اينجوري به من نگاه نکن .\n",
            "تو ميخواي به مارشال بگي که اون آدما چيکار کردن .\n",
            "مارشال هيچ کاري واسمون نميکنه ويليام .\n",
            "مارک اول اينکه من ميخوام شما پسرهارو با خودم ببرم و ما گله را جمع خواهيم کرد . بعد من به شهر ميرم .\n",
            "تو ميخواي اونجا چيکار کني .\n",
            "من به هلندر ميگم که اينو درستش کنه .\n",
            "من بهش ميگم پول يک اسطبل جديدو بده .\n",
            "شايد ما بايد بهش تير اندازي کنيم همونجور که ويل ميگه .\n",
            "دليجان به بيگزباي ميره رئيس .\n",
            "دور تا دورش از آهنه يک چيزايي بالاش دوتا شاتگان زن و يک تيربار .\n",
            "تو بايد ميگذاشتي من علوفه هارو نگه دارم .\n",
            "تو ميخواي اونو گرو بذاريش .\n",
            "يه روزي ويليام .\n",
            "يه روزي که مثل من شدي تو اونوقت ميفهمي .\n",
            "من هيچوقت مثل تو نميشم .\n",
            "جاي پا اينجاست .\n",
            "شروع شد .\n"
          ],
          "name": "stdout"
        }
      ]
    },
    {
      "cell_type": "code",
      "metadata": {
        "colab": {
          "base_uri": "https://localhost:8080/"
        },
        "id": "-iqpw-cLtIG2",
        "outputId": "9669aed7-3cbd-40f3-ad8c-5e772088a240"
      },
      "source": [
        "file_1 = open(\"/content/drive/MyDrive/Multilingual_Multimodal_Unversal_MT/Per_Eng_Trans_V1/raw_data/TEP/train.tok.clean.src\", \"r\")\n",
        "file_2 = open(\"/content/drive/MyDrive/Multilingual_Multimodal_Unversal_MT/Per_Eng_Trans_V1/raw_data/TEP/dev.tok.clean.src\", \"r\")\n",
        "file_3 = open(\"/content/drive/MyDrive/Multilingual_Multimodal_Unversal_MT/Per_Eng_Trans_V1/raw_data/TEP/test.tok.clean.src\", \"r\")\n",
        "\n",
        "files = [file_1, file_2, file_3]\n",
        "names = [\"Train\", \"Dev\", \"Test\"]\n",
        "\n",
        "for i in range(0, 3):\n",
        "  line_count = 0\n",
        "  for line in files[i]:\n",
        "    if line != \"\\n\":\n",
        "      line_count += 1\n",
        "  print(names[i], \"size:\", line_count)\n",
        "  files[i].close()\n"
      ],
      "execution_count": 6,
      "outputs": [
        {
          "output_type": "stream",
          "text": [
            "Train size: 610086\n",
            "Dev size: 1000\n",
            "Test size: 1000\n"
          ],
          "name": "stdout"
        }
      ]
    },
    {
      "cell_type": "markdown",
      "metadata": {
        "id": "MOJ8PTibyg5i"
      },
      "source": [
        "## **Building Vocabulary**"
      ]
    },
    {
      "cell_type": "code",
      "metadata": {
        "colab": {
          "base_uri": "https://localhost:8080/"
        },
        "id": "rp4ypRESyk61",
        "outputId": "ebb3c287-28d0-4c0d-e6dd-6f849f8b9214"
      },
      "source": [
        "!onmt_build_vocab -config /content/drive/MyDrive/Multilingual_Multimodal_Unversal_MT/Per_Eng_Trans_V1/config/config_vocab.yml"
      ],
      "execution_count": 7,
      "outputs": [
        {
          "output_type": "stream",
          "text": [
            "Corpus corpus_0's weight should be given. We default it to 1 for you.\n",
            "[2021-01-29 17:05:24,143 INFO] Counter vocab from -1 samples.\n",
            "[2021-01-29 17:05:24,143 INFO] n_sample=-1: Build vocab on full datasets.\n",
            "[2021-01-29 17:05:24,153 INFO] corpus_0's transforms: TransformPipe()\n",
            "[2021-01-29 17:05:24,156 INFO] Loading ParallelCorpus(/content/drive/MyDrive/Multilingual_Multimodal_Unversal_MT/Per_Eng_Trans_V1/raw_data/TEP/train.tok.clean.src, /content/drive/MyDrive/Multilingual_Multimodal_Unversal_MT/Per_Eng_Trans_V1/raw_data/TEP/train.tok.clean.trg, align=None)...\n",
            "[2021-01-29 17:05:35,527 INFO] Counters src:149426\n",
            "[2021-01-29 17:05:35,527 INFO] Counters tgt:107985\n",
            "[2021-01-29 17:05:35,528 WARNING] path /content/drive/MyDrive/Multilingual_Multimodal_Unversal_MT/Per_Eng_Trans_V1/data/vocab.src exists, may overwrite...\n",
            "[2021-01-29 17:05:37,409 WARNING] path /content/drive/MyDrive/Multilingual_Multimodal_Unversal_MT/Per_Eng_Trans_V1/data/vocab.trg exists, may overwrite...\n"
          ],
          "name": "stdout"
        }
      ]
    },
    {
      "cell_type": "code",
      "metadata": {
        "colab": {
          "base_uri": "https://localhost:8080/"
        },
        "id": "e60XYuiK5SoA",
        "outputId": "f8f93e21-b22a-4177-f591-2eafabc00f21"
      },
      "source": [
        "!wc -l /content/drive/MyDrive/Multilingual_Multimodal_Unversal_MT/Per_Eng_Trans_V1/data/vocab.src\n",
        "!head -10 /content/drive/MyDrive/Multilingual_Multimodal_Unversal_MT/Per_Eng_Trans_V1/data/vocab.src"
      ],
      "execution_count": 12,
      "outputs": [
        {
          "output_type": "stream",
          "text": [
            "149426 /content/drive/MyDrive/Multilingual_Multimodal_Unversal_MT/Per_Eng_Trans_V1/data/vocab.src\n",
            ".\t472421\n",
            "،\t102113\n",
            "من\t89084\n",
            "به\t75633\n",
            "را\t66560\n",
            "تو\t59805\n",
            "و\t59405\n",
            "که\t59126\n",
            "از\t55506\n",
            "اين\t47112\n"
          ],
          "name": "stdout"
        }
      ]
    },
    {
      "cell_type": "code",
      "metadata": {
        "colab": {
          "base_uri": "https://localhost:8080/"
        },
        "id": "dbOHcXIEFZVt",
        "outputId": "89dfb91c-e587-4ad2-c2c1-db4aeb6a0e63"
      },
      "source": [
        "!wc -l /content/drive/MyDrive/Multilingual_Multimodal_Unversal_MT/Per_Eng_Trans_V1/data/vocab.trg\n",
        "!head -10 /content/drive/MyDrive/Multilingual_Multimodal_Unversal_MT/Per_Eng_Trans_V1/data/vocab.trg"
      ],
      "execution_count": 13,
      "outputs": [
        {
          "output_type": "stream",
          "text": [
            "107985 /content/drive/MyDrive/Multilingual_Multimodal_Unversal_MT/Per_Eng_Trans_V1/data/vocab.trg\n",
            ".\t500255\n",
            ",\t150023\n",
            "you\t139679\n",
            "the\t127793\n",
            "i\t101731\n",
            "to\t95722\n",
            "a\t71210\n",
            "and\t53210\n",
            "of\t47376\n",
            "it\t46110\n"
          ],
          "name": "stdout"
        }
      ]
    },
    {
      "cell_type": "markdown",
      "metadata": {
        "id": "wyPN_vCS5L72"
      },
      "source": [
        "## **Training Model**"
      ]
    },
    {
      "cell_type": "code",
      "metadata": {
        "id": "fDCkCOs_5s-x"
      },
      "source": [
        "# Load the TensorBoard notebook extension\n",
        "%reload_ext tensorboard"
      ],
      "execution_count": 11,
      "outputs": []
    },
    {
      "cell_type": "code",
      "metadata": {
        "colab": {
          "base_uri": "https://localhost:8080/"
        },
        "id": "S6vLtfq4G8Xy",
        "outputId": "59919c2c-2151-41c3-fa26-87fba851a6e7"
      },
      "source": [
        "!onmt_train -config /content/drive/MyDrive/Multilingual_Multimodal_Unversal_MT/Per_Eng_Trans_V1/config/config_train_trans.yml"
      ],
      "execution_count": 15,
      "outputs": [
        {
          "output_type": "stream",
          "text": [
            "[2021-01-29 17:32:53,331 INFO] Missing transforms field for corpus_0 data, set to default: [].\n",
            "[2021-01-29 17:32:53,332 WARNING] Corpus corpus_0's weight should be given. We default it to 1 for you.\n",
            "[2021-01-29 17:32:53,332 INFO] Missing transforms field for valid data, set to default: [].\n",
            "[2021-01-29 17:32:53,333 INFO] Parsed 2 corpora from -data.\n",
            "[2021-01-29 17:32:53,334 INFO] Get special vocabs from Transforms: {'src': set(), 'tgt': set()}.\n",
            "[2021-01-29 17:32:53,334 INFO] Loading vocab from text file...\n",
            "[2021-01-29 17:32:53,334 INFO] Loading src vocabulary from /content/drive/MyDrive/Multilingual_Multimodal_Unversal_MT/Per_Eng_Trans_V1/data/vocab.src\n",
            "[2021-01-29 17:32:53,785 INFO] Loaded src vocab has 149426 tokens.\n",
            "[2021-01-29 17:32:53,874 INFO] Loading tgt vocabulary from /content/drive/MyDrive/Multilingual_Multimodal_Unversal_MT/Per_Eng_Trans_V1/data/vocab.trg\n",
            "[2021-01-29 17:32:54,210 INFO] Loaded tgt vocab has 107985 tokens.\n",
            "[2021-01-29 17:32:54,269 INFO] Building fields with vocab in counters...\n",
            "[2021-01-29 17:32:54,498 INFO]  * tgt vocab size: 50004.\n",
            "[2021-01-29 17:32:54,793 INFO]  * src vocab size: 50002.\n",
            "[2021-01-29 17:32:54,802 INFO]  * src vocab size = 50002\n",
            "[2021-01-29 17:32:54,802 INFO]  * tgt vocab size = 50004\n",
            "THCudaCheck FAIL file=/pytorch/aten/src/THC/THCGeneral.cpp line=47 error=100 : no CUDA-capable device is detected\n",
            "Traceback (most recent call last):\n",
            "  File \"/usr/local/bin/onmt_train\", line 8, in <module>\n",
            "    sys.exit(main())\n",
            "  File \"/usr/local/lib/python3.6/dist-packages/onmt/bin/train.py\", line 169, in main\n",
            "    train(opt)\n",
            "  File \"/usr/local/lib/python3.6/dist-packages/onmt/bin/train.py\", line 154, in train\n",
            "    train_process(opt, device_id=0)\n",
            "  File \"/usr/local/lib/python3.6/dist-packages/onmt/train_single.py\", line 59, in main\n",
            "    configure_process(opt, device_id)\n",
            "  File \"/usr/local/lib/python3.6/dist-packages/onmt/train_single.py\", line 19, in configure_process\n",
            "    torch.cuda.set_device(device_id)\n",
            "  File \"/usr/local/lib/python3.6/dist-packages/torch/cuda/__init__.py\", line 281, in set_device\n",
            "    torch._C._cuda_setDevice(device)\n",
            "  File \"/usr/local/lib/python3.6/dist-packages/torch/cuda/__init__.py\", line 190, in _lazy_init\n",
            "    torch._C._cuda_init()\n",
            "RuntimeError: cuda runtime error (100) : no CUDA-capable device is detected at /pytorch/aten/src/THC/THCGeneral.cpp:47\n"
          ],
          "name": "stdout"
        }
      ]
    }
  ]
}